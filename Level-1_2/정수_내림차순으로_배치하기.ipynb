{
  "nbformat": 4,
  "nbformat_minor": 0,
  "metadata": {
    "colab": {
      "provenance": []
    },
    "kernelspec": {
      "name": "python3",
      "display_name": "Python 3"
    },
    "language_info": {
      "name": "python"
    }
  },
  "cells": [
    {
      "cell_type": "code",
      "execution_count": 4,
      "metadata": {
        "colab": {
          "base_uri": "https://localhost:8080/"
        },
        "id": "8CD9FAe4zYuw",
        "outputId": "131c5fea-3bcf-4702-b04a-d733392c0d92"
      },
      "outputs": [
        {
          "output_type": "execute_result",
          "data": {
            "text/plain": [
              "873211"
            ]
          },
          "metadata": {},
          "execution_count": 4
        }
      ],
      "source": [
        "def solution(n):\n",
        "    answer = 0\n",
        "    answer = int(\"\".join(sorted(str(n), reverse = True)))\n",
        "    return answer\n",
        "\n",
        "\n",
        "n = 118372\n",
        "solution(n)"
      ]
    },
    {
      "cell_type": "code",
      "source": [],
      "metadata": {
        "id": "mtMznx7RhFeH"
      },
      "execution_count": null,
      "outputs": []
    }
  ]
}
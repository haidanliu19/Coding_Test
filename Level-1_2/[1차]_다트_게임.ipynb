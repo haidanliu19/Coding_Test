{
  "nbformat": 4,
  "nbformat_minor": 0,
  "metadata": {
    "colab": {
      "provenance": []
    },
    "kernelspec": {
      "name": "python3",
      "display_name": "Python 3"
    },
    "language_info": {
      "name": "python"
    }
  },
  "cells": [
    {
      "cell_type": "code",
      "execution_count": 91,
      "metadata": {
        "colab": {
          "base_uri": "https://localhost:8080/"
        },
        "id": "8CD9FAe4zYuw",
        "outputId": "f6ddde7d-e88d-42ce-f743-70a6e2fe8d36"
      },
      "outputs": [
        {
          "output_type": "execute_result",
          "data": {
            "text/plain": [
              "204"
            ]
          },
          "metadata": {},
          "execution_count": 91
        }
      ],
      "source": [
        "def solution(dartResult):\n",
        "    answer = 0\n",
        "    dict_ = {\"S\" : 1, \"D\" : 2, \"T\": 3}\n",
        "    numbers = []\n",
        "    for i, v in enumerate(dartResult):\n",
        "        s_ = ''\n",
        "        if v.isdigit():\n",
        "            if dartResult[i:i + 2 ].isdigit() :\n",
        "                s_ += dartResult[i: i+2]\n",
        "                numbers.append(s_)\n",
        "            else:\n",
        "                if numbers[-1: ] != ['10']:\n",
        "                    s_ += dartResult[i: i+1]\n",
        "                    numbers.append(s_)\n",
        "\n",
        "        else:\n",
        "            if v == \"*\":\n",
        "                numbers[-2:] = [i* 2 for i in numbers[-2:]]\n",
        "            elif v == \"#\":\n",
        "                numbers[-1] = numbers[-1] * -1\n",
        "            elif v in dict_.keys():\n",
        "                numbers[-1] = int(numbers[-1]) ** dict_.get(v)\n",
        "    answer = sum(map(int, numbers))\n",
        "    return answer\n",
        "\n",
        "dartResult = \"10D4S10D\"\n",
        "solution(dartResult)"
      ]
    }
  ]
}
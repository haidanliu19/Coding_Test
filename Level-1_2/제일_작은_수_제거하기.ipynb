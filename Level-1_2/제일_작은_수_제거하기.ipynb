{
  "nbformat": 4,
  "nbformat_minor": 0,
  "metadata": {
    "colab": {
      "provenance": []
    },
    "kernelspec": {
      "name": "python3",
      "display_name": "Python 3"
    },
    "language_info": {
      "name": "python"
    }
  },
  "cells": [
    {
      "cell_type": "code",
      "execution_count": 3,
      "metadata": {
        "colab": {
          "base_uri": "https://localhost:8080/"
        },
        "id": "8CD9FAe4zYuw",
        "outputId": "8c199849-0523-430d-954d-f2a1eb9b4083"
      },
      "outputs": [
        {
          "output_type": "execute_result",
          "data": {
            "text/plain": [
              "[4, 3, 2]"
            ]
          },
          "metadata": {},
          "execution_count": 3
        }
      ],
      "source": [
        "def solution(arr):\n",
        "    arr.remove(min(arr))\n",
        "    return [-1] if arr == [] else arr\n",
        "\n",
        "arr = [4,3,2,1]\n",
        "solution(arr)"
      ]
    },
    {
      "cell_type": "code",
      "source": [
        "def solution(arr):\n",
        "    arr.remove(min(arr))\n",
        "    return arr or [-1]\n",
        "\n",
        "arr = [4,3,2,1]\n",
        "solution(arr)"
      ],
      "metadata": {
        "colab": {
          "base_uri": "https://localhost:8080/"
        },
        "id": "J5GXtWxA2zV7",
        "outputId": "0abd17b3-56b6-46d5-a49e-1b464eb329fd"
      },
      "execution_count": 4,
      "outputs": [
        {
          "output_type": "execute_result",
          "data": {
            "text/plain": [
              "[4, 3, 2]"
            ]
          },
          "metadata": {},
          "execution_count": 4
        }
      ]
    },
    {
      "cell_type": "code",
      "source": [],
      "metadata": {
        "id": "dCeSw4Sh3KXl"
      },
      "execution_count": null,
      "outputs": []
    }
  ]
}
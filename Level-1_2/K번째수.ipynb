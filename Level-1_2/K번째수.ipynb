{
  "nbformat": 4,
  "nbformat_minor": 0,
  "metadata": {
    "colab": {
      "provenance": []
    },
    "kernelspec": {
      "name": "python3",
      "display_name": "Python 3"
    },
    "language_info": {
      "name": "python"
    }
  },
  "cells": [
    {
      "cell_type": "code",
      "execution_count": 1,
      "metadata": {
        "colab": {
          "base_uri": "https://localhost:8080/"
        },
        "id": "8CD9FAe4zYuw",
        "outputId": "33485dba-8bf4-4698-eef4-306fd061d4cc"
      },
      "outputs": [
        {
          "output_type": "execute_result",
          "data": {
            "text/plain": [
              "[5, 6, 3]"
            ]
          },
          "metadata": {},
          "execution_count": 1
        }
      ],
      "source": [
        "def solution(array, commands):\n",
        "    answer = []\n",
        "    answer = [sorted(array[i[0]-1 : i[1]])[i[2]-1] for i in commands]\n",
        "\n",
        "    return answer\n",
        "\n",
        "array = [1, 5, 2, 6, 3, 7, 4]\n",
        "commands = [[2, 5, 3], [4, 4, 1], [1, 7, 3]]\n",
        "solution(array, commands)"
      ]
    },
    {
      "cell_type": "code",
      "source": [],
      "metadata": {
        "id": "Ngv4Plgmzk3n"
      },
      "execution_count": null,
      "outputs": []
    }
  ]
}
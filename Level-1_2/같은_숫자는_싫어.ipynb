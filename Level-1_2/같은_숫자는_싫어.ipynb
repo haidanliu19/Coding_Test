{
  "nbformat": 4,
  "nbformat_minor": 0,
  "metadata": {
    "colab": {
      "provenance": []
    },
    "kernelspec": {
      "name": "python3",
      "display_name": "Python 3"
    },
    "language_info": {
      "name": "python"
    }
  },
  "cells": [
    {
      "cell_type": "code",
      "execution_count": 1,
      "metadata": {
        "colab": {
          "base_uri": "https://localhost:8080/"
        },
        "id": "8CD9FAe4zYuw",
        "outputId": "438924e6-d708-4e34-e35d-abee28508866"
      },
      "outputs": [
        {
          "output_type": "stream",
          "name": "stdout",
          "text": [
            "c\n",
            "we\n"
          ]
        }
      ],
      "source": [
        "def solution(arr):\n",
        "    answer = [arr[0]]\n",
        "    # [실행] 버튼을 누르면 출력 값을 볼 수 있습니다.\n",
        "    for i in arr[1:]:\n",
        "        if i != answer[-1]:\n",
        "            answer.append(i)\n",
        "    return answer\n",
        "\n",
        "arr = [1,1,3,3,0,1,1]\n",
        "solution(arr)"
      ]
    },
    {
      "cell_type": "code",
      "source": [],
      "metadata": {
        "id": "3SPj1mtQA0FU"
      },
      "execution_count": null,
      "outputs": []
    }
  ]
}
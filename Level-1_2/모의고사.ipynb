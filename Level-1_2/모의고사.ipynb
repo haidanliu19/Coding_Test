{
  "nbformat": 4,
  "nbformat_minor": 0,
  "metadata": {
    "colab": {
      "provenance": []
    },
    "kernelspec": {
      "name": "python3",
      "display_name": "Python 3"
    },
    "language_info": {
      "name": "python"
    }
  },
  "cells": [
    {
      "cell_type": "code",
      "execution_count": 2,
      "metadata": {
        "colab": {
          "base_uri": "https://localhost:8080/"
        },
        "id": "8CD9FAe4zYuw",
        "outputId": "6e830e71-afe4-4068-8f0b-011395df1455"
      },
      "outputs": [
        {
          "output_type": "execute_result",
          "data": {
            "text/plain": [
              "[1]"
            ]
          },
          "metadata": {},
          "execution_count": 2
        }
      ],
      "source": [
        "def solution(answers):\n",
        "    answer = []\n",
        "    correct_maths = [[1, 2, 3, 4, 5], [2, 1, 2, 3, 2, 4, 2, 5], [3, 3, 1, 1, 2, 2, 4, 4, 5, 5]]\n",
        "\n",
        "    dict_ = {}\n",
        "    for i, answer in enumerate(answers):\n",
        "        for j, correct_math in enumerate(correct_maths ):\n",
        "            if answer == correct_math[i % len(correct_math)]:\n",
        "                dict_[j+1] = dict_.get(j+1, 1) + 1\n",
        "    answer = sorted([key for key, value in dict_.items() if value == max(dict_.values())])\n",
        "    return answer\n",
        "\n",
        "answer = [1,2,3,4,5]\n",
        "solution(answer)"
      ]
    },
    {
      "cell_type": "code",
      "source": [],
      "metadata": {
        "id": "Ngv4Plgmzk3n"
      },
      "execution_count": null,
      "outputs": []
    }
  ]
}
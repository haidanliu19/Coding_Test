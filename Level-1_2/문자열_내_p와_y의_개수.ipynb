{
  "nbformat": 4,
  "nbformat_minor": 0,
  "metadata": {
    "colab": {
      "provenance": []
    },
    "kernelspec": {
      "name": "python3",
      "display_name": "Python 3"
    },
    "language_info": {
      "name": "python"
    }
  },
  "cells": [
    {
      "cell_type": "code",
      "execution_count": 2,
      "metadata": {
        "colab": {
          "base_uri": "https://localhost:8080/"
        },
        "id": "8CD9FAe4zYuw",
        "outputId": "acb520b5-cddd-4ea0-fd50-d0ae3afe2184"
      },
      "outputs": [
        {
          "output_type": "execute_result",
          "data": {
            "text/plain": [
              "12"
            ]
          },
          "metadata": {},
          "execution_count": 2
        }
      ],
      "source": [
        "def solution(s):\n",
        "    #answer = True\n",
        "\n",
        "    # [실행] 버튼을 누르면 출력 값을 볼 수 있습니다.\n",
        "    #print('Hello Python')\n",
        "    s = s.upper()\n",
        "    answer = s.count(\"P\") == s.count(\"Y\")\n",
        "    # return True\n",
        "    return answer\n",
        "\n",
        "s = \"Pyy\"\n",
        "solution(s)"
      ]
    },
    {
      "cell_type": "code",
      "source": [],
      "metadata": {
        "id": "RnQow7H65s4w"
      },
      "execution_count": null,
      "outputs": []
    }
  ]
}
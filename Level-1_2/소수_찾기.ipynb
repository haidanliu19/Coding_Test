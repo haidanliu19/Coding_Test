{
  "nbformat": 4,
  "nbformat_minor": 0,
  "metadata": {
    "colab": {
      "provenance": []
    },
    "kernelspec": {
      "name": "python3",
      "display_name": "Python 3"
    },
    "language_info": {
      "name": "python"
    }
  },
  "cells": [
    {
      "cell_type": "code",
      "execution_count": 3,
      "metadata": {
        "colab": {
          "base_uri": "https://localhost:8080/"
        },
        "id": "8CD9FAe4zYuw",
        "outputId": "d766b587-c384-40d3-8966-ff0f4deb37cb"
      },
      "outputs": [
        {
          "output_type": "execute_result",
          "data": {
            "text/plain": [
              "4"
            ]
          },
          "metadata": {},
          "execution_count": 3
        }
      ],
      "source": [
        "def solution(n):\n",
        "    answer = 0\n",
        "    for i in range(2, n + 1):\n",
        "        prime = 0\n",
        "        for j in range(2, int(i ** (0.5)) + 1):\n",
        "            if i % j == 0:\n",
        "                prime +=1\n",
        "                break\n",
        "        if prime == 0:\n",
        "            answer += 1\n",
        "    return answer\n",
        "\n",
        "n = 10\n",
        "solution(n)"
      ]
    },
    {
      "cell_type": "code",
      "source": [],
      "metadata": {
        "id": "RnQow7H65s4w"
      },
      "execution_count": null,
      "outputs": []
    }
  ]
}
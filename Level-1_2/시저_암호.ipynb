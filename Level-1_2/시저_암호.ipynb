{
  "nbformat": 4,
  "nbformat_minor": 0,
  "metadata": {
    "colab": {
      "provenance": []
    },
    "kernelspec": {
      "name": "python3",
      "display_name": "Python 3"
    },
    "language_info": {
      "name": "python"
    }
  },
  "cells": [
    {
      "cell_type": "code",
      "execution_count": 1,
      "metadata": {
        "colab": {
          "base_uri": "https://localhost:8080/",
          "height": 35
        },
        "id": "8CD9FAe4zYuw",
        "outputId": "709dd3fb-3053-4832-c622-21da6733abca"
      },
      "outputs": [
        {
          "output_type": "execute_result",
          "data": {
            "text/plain": [
              "'a'"
            ],
            "application/vnd.google.colaboratory.intrinsic+json": {
              "type": "string"
            }
          },
          "metadata": {},
          "execution_count": 1
        }
      ],
      "source": [
        "def solution(s, n):\n",
        "    answer = ''\n",
        "    upper_list = [chr(i) for i in range(65, 91)]\n",
        "    lower_list = [chr(i) for i in range(97, 123)]\n",
        "    for i in s:\n",
        "        if i in upper_list:\n",
        "            answer += upper_list[(upper_list.index(i) + n ) %  len(upper_list)]\n",
        "        elif i in lower_list:\n",
        "            answer += lower_list[(lower_list.index(i) + n) % len(lower_list)]\n",
        "        else:\n",
        "            answer += i\n",
        "    return answer\n",
        "\n",
        "\n",
        "s = \"z\"\n",
        "n = 1\n",
        "solution(s, n)"
      ]
    },
    {
      "cell_type": "code",
      "source": [],
      "metadata": {
        "id": "mtMznx7RhFeH"
      },
      "execution_count": null,
      "outputs": []
    }
  ]
}
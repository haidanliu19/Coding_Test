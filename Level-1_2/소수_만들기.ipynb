{
  "nbformat": 4,
  "nbformat_minor": 0,
  "metadata": {
    "colab": {
      "provenance": []
    },
    "kernelspec": {
      "name": "python3",
      "display_name": "Python 3"
    },
    "language_info": {
      "name": "python"
    }
  },
  "cells": [
    {
      "cell_type": "code",
      "execution_count": 10,
      "metadata": {
        "colab": {
          "base_uri": "https://localhost:8080/"
        },
        "id": "8CD9FAe4zYuw",
        "outputId": "ab4e95fb-b4ef-448b-edde-8573c6852e8d"
      },
      "outputs": [
        {
          "output_type": "execute_result",
          "data": {
            "text/plain": [
              "1"
            ]
          },
          "metadata": {},
          "execution_count": 10
        }
      ],
      "source": [
        "def solution(nums):\n",
        "    answer = 0\n",
        "    for i in range(len(nums)):\n",
        "        for j in range(i + 1, len(nums)):\n",
        "            for k in range(j + 1, len(nums)):\n",
        "                sum_ =  nums[i] + nums[j] + nums[k]\n",
        "                if len([l for l in range(2, int(sum_ ** 0.5)+1) if sum_ % l == 0 ]) == 0:\n",
        "                    answer += 1\n",
        "\n",
        "    return answer\n",
        "\n",
        "nums = [1,2,3,4]\n",
        "solution(nums)"
      ]
    },
    {
      "cell_type": "code",
      "source": [],
      "metadata": {
        "id": "3SPj1mtQA0FU"
      },
      "execution_count": null,
      "outputs": []
    }
  ]
}
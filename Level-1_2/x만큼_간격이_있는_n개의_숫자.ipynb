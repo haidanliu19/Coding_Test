{
  "nbformat": 4,
  "nbformat_minor": 0,
  "metadata": {
    "colab": {
      "provenance": []
    },
    "kernelspec": {
      "name": "python3",
      "display_name": "Python 3"
    },
    "language_info": {
      "name": "python"
    }
  },
  "cells": [
    {
      "cell_type": "code",
      "execution_count": null,
      "metadata": {
        "colab": {
          "base_uri": "https://localhost:8080/",
          "height": 35
        },
        "id": "8CD9FAe4zYuw",
        "outputId": "10319e5d-4235-4a24-e141-baaabdbccc91"
      },
      "outputs": [
        {
          "output_type": "execute_result",
          "data": {
            "text/plain": [
              "'*******4444'"
            ],
            "application/vnd.google.colaboratory.intrinsic+json": {
              "type": "string"
            }
          },
          "metadata": {},
          "execution_count": 11
        }
      ],
      "source": [
        "def solution(x, n):\n",
        "    answer = []\n",
        "    div = 1 if x> 0 else -1\n",
        "    for i in range(1, n+ 1):\n",
        "        answer.append(x * i)\n",
        "    return answer\n",
        "\n",
        "x = -4\n",
        "n = 2\n",
        "solution(x, n)"
      ]
    },
    {
      "cell_type": "code",
      "source": [],
      "metadata": {
        "id": "3SPj1mtQA0FU"
      },
      "execution_count": null,
      "outputs": []
    }
  ]
}
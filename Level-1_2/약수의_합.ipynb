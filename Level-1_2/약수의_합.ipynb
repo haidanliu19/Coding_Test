{
  "nbformat": 4,
  "nbformat_minor": 0,
  "metadata": {
    "colab": {
      "provenance": []
    },
    "kernelspec": {
      "name": "python3",
      "display_name": "Python 3"
    },
    "language_info": {
      "name": "python"
    }
  },
  "cells": [
    {
      "cell_type": "code",
      "execution_count": 2,
      "metadata": {
        "colab": {
          "base_uri": "https://localhost:8080/"
        },
        "id": "8CD9FAe4zYuw",
        "outputId": "3e660366-76b4-44f8-b77c-2f238d8b703f"
      },
      "outputs": [
        {
          "output_type": "execute_result",
          "data": {
            "text/plain": [
              "28"
            ]
          },
          "metadata": {},
          "execution_count": 2
        }
      ],
      "source": [
        "def solution(n):\n",
        "    answer = sum([i for i in range(1, n + 1) if n%i == 0 ])\n",
        "    return answer\n",
        "\n",
        "n = 12\n",
        "solution(n)"
      ]
    },
    {
      "cell_type": "code",
      "source": [],
      "metadata": {
        "id": "mtMznx7RhFeH"
      },
      "execution_count": null,
      "outputs": []
    }
  ]
}
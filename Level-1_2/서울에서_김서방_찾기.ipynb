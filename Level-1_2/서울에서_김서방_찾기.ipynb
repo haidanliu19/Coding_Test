{
  "nbformat": 4,
  "nbformat_minor": 0,
  "metadata": {
    "colab": {
      "provenance": []
    },
    "kernelspec": {
      "name": "python3",
      "display_name": "Python 3"
    },
    "language_info": {
      "name": "python"
    }
  },
  "cells": [
    {
      "cell_type": "code",
      "execution_count": 2,
      "metadata": {
        "colab": {
          "base_uri": "https://localhost:8080/",
          "height": 35
        },
        "id": "8CD9FAe4zYuw",
        "outputId": "285829cd-3fc3-4601-b873-06c062e6f4bb"
      },
      "outputs": [
        {
          "output_type": "execute_result",
          "data": {
            "text/plain": [
              "'김서방은 1에 있다'"
            ],
            "application/vnd.google.colaboratory.intrinsic+json": {
              "type": "string"
            }
          },
          "metadata": {},
          "execution_count": 2
        }
      ],
      "source": [
        "def solution(seoul):\n",
        "    answer = \"김서방은 \" + str(seoul.index(\"Kim\")) + \"에 있다\"\n",
        "    return answer\n",
        "\n",
        "seoul = [\"Jane\", \"Kim\"]\n",
        "solution(seoul)"
      ]
    },
    {
      "cell_type": "code",
      "source": [],
      "metadata": {
        "id": "RnQow7H65s4w"
      },
      "execution_count": null,
      "outputs": []
    }
  ]
}
{
  "nbformat": 4,
  "nbformat_minor": 0,
  "metadata": {
    "colab": {
      "provenance": []
    },
    "kernelspec": {
      "name": "python3",
      "display_name": "Python 3"
    },
    "language_info": {
      "name": "python"
    }
  },
  "cells": [
    {
      "cell_type": "code",
      "execution_count": 4,
      "metadata": {
        "colab": {
          "base_uri": "https://localhost:8080/"
        },
        "id": "8CD9FAe4zYuw",
        "outputId": "9042cb5b-ab80-4ea9-feb1-1924ba8a668c"
      },
      "outputs": [
        {
          "output_type": "execute_result",
          "data": {
            "text/plain": [
              "[3, 4, 2, 1, 5]"
            ]
          },
          "metadata": {},
          "execution_count": 4
        }
      ],
      "source": [
        "def solution(N, stages):\n",
        "    answer = {}\n",
        "    cnt = len(stages)\n",
        "    for i in range(N):\n",
        "        stage = i + 1\n",
        "        fail = stages.count(stage)\n",
        "        if fail == 0:\n",
        "            answer[stage] = 0\n",
        "        else:\n",
        "            answer[stage] = fail/cnt\n",
        "        cnt  -=  fail\n",
        "    answer = sorted(answer, key = lambda x: answer[x],  reverse=True)\n",
        "    return answer\n",
        "\n",
        "N = 5\n",
        "stages = [2, 1, 2, 6, 2, 4, 3, 3]\n",
        "solution(N, stages)"
      ]
    },
    {
      "cell_type": "code",
      "source": [],
      "metadata": {
        "id": "Ngv4Plgmzk3n"
      },
      "execution_count": null,
      "outputs": []
    }
  ]
}
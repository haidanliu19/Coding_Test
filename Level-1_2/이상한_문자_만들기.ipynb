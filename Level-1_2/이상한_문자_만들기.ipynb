{
  "nbformat": 4,
  "nbformat_minor": 0,
  "metadata": {
    "colab": {
      "provenance": []
    },
    "kernelspec": {
      "name": "python3",
      "display_name": "Python 3"
    },
    "language_info": {
      "name": "python"
    }
  },
  "cells": [
    {
      "cell_type": "code",
      "execution_count": 1,
      "metadata": {
        "colab": {
          "base_uri": "https://localhost:8080/",
          "height": 35
        },
        "id": "8CD9FAe4zYuw",
        "outputId": "714aa2cd-9575-4c9d-87c4-9224361a510c"
      },
      "outputs": [
        {
          "output_type": "execute_result",
          "data": {
            "text/plain": [
              "'TrY HeLlO WoRlD'"
            ],
            "application/vnd.google.colaboratory.intrinsic+json": {
              "type": "string"
            }
          },
          "metadata": {},
          "execution_count": 1
        }
      ],
      "source": [
        "def solution(s):\n",
        "    answer = \"\"\n",
        "    for i in s.split(\" \"):\n",
        "        s_ = \"\"\n",
        "        for j in range(len(i)):\n",
        "            s_ += i[j].lower() if j %2 else i[j].upper()\n",
        "        answer += s_ + \" \"\n",
        "    return answer[:-1]\n",
        "\n",
        "s = \"try hello world\"\n",
        "solution(s)"
      ]
    },
    {
      "cell_type": "code",
      "source": [],
      "metadata": {
        "id": "mtMznx7RhFeH"
      },
      "execution_count": null,
      "outputs": []
    }
  ]
}
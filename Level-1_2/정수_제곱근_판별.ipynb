{
  "nbformat": 4,
  "nbformat_minor": 0,
  "metadata": {
    "colab": {
      "provenance": []
    },
    "kernelspec": {
      "name": "python3",
      "display_name": "Python 3"
    },
    "language_info": {
      "name": "python"
    }
  },
  "cells": [
    {
      "cell_type": "code",
      "execution_count": 1,
      "metadata": {
        "colab": {
          "base_uri": "https://localhost:8080/"
        },
        "id": "8CD9FAe4zYuw",
        "outputId": "198d1ca3-69d7-4973-979c-ce85f71bde91"
      },
      "outputs": [
        {
          "output_type": "execute_result",
          "data": {
            "text/plain": [
              "144.0"
            ]
          },
          "metadata": {},
          "execution_count": 1
        }
      ],
      "source": [
        "def solution(n):\n",
        "    answer = -1\n",
        "    if n % n ** 0.5 == 0:\n",
        "        answer = ( n ** 0.5 + 1) ** 2\n",
        "    return answer\n",
        "\n",
        "n = 121\n",
        "solution(n)"
      ]
    },
    {
      "cell_type": "code",
      "source": [
        "def solution(n):\n",
        "    answer = -1\n",
        "    if n % pow(n, 0.5) == 0:\n",
        "        answer = ( n ** 0.5 + 1) ** 2\n",
        "    return answer"
      ],
      "metadata": {
        "id": "mtMznx7RhFeH"
      },
      "execution_count": 2,
      "outputs": []
    },
    {
      "cell_type": "code",
      "source": [],
      "metadata": {
        "id": "J5GXtWxA2zV7"
      },
      "execution_count": null,
      "outputs": []
    }
  ]
}
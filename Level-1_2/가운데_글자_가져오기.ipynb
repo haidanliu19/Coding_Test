{
  "nbformat": 4,
  "nbformat_minor": 0,
  "metadata": {
    "colab": {
      "provenance": []
    },
    "kernelspec": {
      "name": "python3",
      "display_name": "Python 3"
    },
    "language_info": {
      "name": "python"
    }
  },
  "cells": [
    {
      "cell_type": "code",
      "execution_count": 1,
      "metadata": {
        "colab": {
          "base_uri": "https://localhost:8080/"
        },
        "id": "8CD9FAe4zYuw",
        "outputId": "438924e6-d708-4e34-e35d-abee28508866"
      },
      "outputs": [
        {
          "output_type": "stream",
          "name": "stdout",
          "text": [
            "c\n",
            "we\n"
          ]
        }
      ],
      "source": [
        "def solution(s):\n",
        "    answer = s[(len(s) - 1)//2 : len(s)//2+ 1]\n",
        "    return answer\n",
        "\n",
        "s = \"abcde\"\n",
        "print(solution(s))\n",
        "\n",
        "s = \"qwer\"\n",
        "print(solution(s))"
      ]
    },
    {
      "cell_type": "code",
      "source": [],
      "metadata": {
        "id": "3SPj1mtQA0FU"
      },
      "execution_count": null,
      "outputs": []
    }
  ]
}
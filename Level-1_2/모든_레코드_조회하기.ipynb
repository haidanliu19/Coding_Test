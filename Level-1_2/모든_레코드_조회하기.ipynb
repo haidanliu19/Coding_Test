{
  "nbformat": 4,
  "nbformat_minor": 0,
  "metadata": {
    "colab": {
      "provenance": []
    },
    "kernelspec": {
      "name": "python3",
      "display_name": "Python 3"
    },
    "language_info": {
      "name": "python"
    }
  },
  "cells": [
    {
      "cell_type": "code",
      "execution_count": null,
      "metadata": {
        "colab": {
          "base_uri": "https://localhost:8080/"
        },
        "id": "8CD9FAe4zYuw",
        "outputId": "9042cb5b-ab80-4ea9-feb1-1924ba8a668c"
      },
      "outputs": [
        {
          "output_type": "execute_result",
          "data": {
            "text/plain": [
              "[3, 4, 2, 1, 5]"
            ]
          },
          "metadata": {},
          "execution_count": 4
        }
      ],
      "source": [
        "-- MYSQL\n",
        "-- 코드를 입력하세요\n",
        "SELECT *\n",
        "FROM ANIMAL_INS\n",
        "ORDER BY ANIMAL_ID;\n",
        "\n",
        "--ORACLE\n",
        "-- 코드를 입력하세요\n",
        "SELECT *\n",
        "FROM ANIMAL_INS\n",
        "ORDER BY ANIMAL_ID"
      ]
    },
    {
      "cell_type": "code",
      "source": [],
      "metadata": {
        "id": "Ngv4Plgmzk3n"
      },
      "execution_count": null,
      "outputs": []
    }
  ]
}
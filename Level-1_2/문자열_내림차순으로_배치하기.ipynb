{
  "nbformat": 4,
  "nbformat_minor": 0,
  "metadata": {
    "colab": {
      "provenance": []
    },
    "kernelspec": {
      "name": "python3",
      "display_name": "Python 3"
    },
    "language_info": {
      "name": "python"
    }
  },
  "cells": [
    {
      "cell_type": "code",
      "execution_count": 1,
      "metadata": {
        "colab": {
          "base_uri": "https://localhost:8080/",
          "height": 35
        },
        "id": "8CD9FAe4zYuw",
        "outputId": "431859ce-46b5-402d-b4a5-4c1f23b50274"
      },
      "outputs": [
        {
          "output_type": "execute_result",
          "data": {
            "text/plain": [
              "'gfedcbZ'"
            ],
            "application/vnd.google.colaboratory.intrinsic+json": {
              "type": "string"
            }
          },
          "metadata": {},
          "execution_count": 1
        }
      ],
      "source": [
        "def solution(s):\n",
        "    answer = \"\".join(sorted(s, reverse = True))\n",
        "    return answer\n",
        "\n",
        "s = \"Zbcdefg\"\n",
        "solution(s)"
      ]
    },
    {
      "cell_type": "code",
      "source": [],
      "metadata": {
        "id": "RnQow7H65s4w"
      },
      "execution_count": null,
      "outputs": []
    }
  ]
}
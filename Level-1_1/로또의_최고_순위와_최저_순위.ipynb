{
  "nbformat": 4,
  "nbformat_minor": 0,
  "metadata": {
    "colab": {
      "provenance": []
    },
    "kernelspec": {
      "name": "python3",
      "display_name": "Python 3"
    },
    "language_info": {
      "name": "python"
    }
  },
  "cells": [
    {
      "cell_type": "markdown",
      "source": [
        "출처 : 프로그래머스"
      ],
      "metadata": {
        "id": "dqWdCl1cQ9ML"
      }
    },
    {
      "cell_type": "code",
      "source": [
        "def solution(lottos, win_nums):\n",
        "    answer = []\n",
        "    #prize_list = [i for i in range(7, 0,  -1)]\n",
        "    prize_list = [6, 6, 5, 4, 3, 2, 1]\n",
        "    zero = lottos.count(0)\n",
        "    prize = sum([1 if i in lottos else 0 for i in win_nums  ])\n",
        "    lottos = list(filter(lambda x : x != 0 , lottos))\n",
        "    answer = [prize_list[zero + prize] ,  prize_list[prize]]\n",
        "    return answer\n",
        "\n",
        "\n",
        "lottos = [45, 4, 35, 20, 3, 9]\n",
        "win_nums =[21, 8, 2, 40, 5, 30]\n",
        "solution(lottos, win_nums)"
      ],
      "metadata": {
        "colab": {
          "base_uri": "https://localhost:8080/"
        },
        "id": "W2SJ7BNO6wRF",
        "outputId": "1fc4d5bf-6a98-4282-83a6-a0d03f405a5b"
      },
      "execution_count": 60,
      "outputs": [
        {
          "output_type": "execute_result",
          "data": {
            "text/plain": [
              "[6, 6]"
            ]
          },
          "metadata": {},
          "execution_count": 60
        }
      ]
    },
    {
      "cell_type": "code",
      "source": [
        "prize_list = [6, 6, 5, 4, 3, 2, 1]\n",
        "prize_list[6]"
      ],
      "metadata": {
        "id": "ctUddbnNgS3Y",
        "colab": {
          "base_uri": "https://localhost:8080/"
        },
        "outputId": "ddfef8f3-7c60-46c0-9c9f-08fd27ba7f01"
      },
      "execution_count": 59,
      "outputs": [
        {
          "output_type": "execute_result",
          "data": {
            "text/plain": [
              "1"
            ]
          },
          "metadata": {},
          "execution_count": 59
        }
      ]
    },
    {
      "cell_type": "code",
      "source": [],
      "metadata": {
        "id": "TllqFWenZc-m"
      },
      "execution_count": null,
      "outputs": []
    }
  ]
}
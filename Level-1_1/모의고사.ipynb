{
  "nbformat": 4,
  "nbformat_minor": 0,
  "metadata": {
    "colab": {
      "provenance": []
    },
    "kernelspec": {
      "name": "python3",
      "display_name": "Python 3"
    },
    "language_info": {
      "name": "python"
    }
  },
  "cells": [
    {
      "cell_type": "markdown",
      "source": [
        "출처 : 프로그래머스"
      ],
      "metadata": {
        "id": "dqWdCl1cQ9ML"
      }
    },
    {
      "cell_type": "code",
      "source": [
        "def solution(answers):\n",
        "    answer = []\n",
        "    correct_maths = [[1, 2, 3, 4, 5], [2, 1, 2, 3, 2, 4, 2, 5], [3, 3, 1, 1, 2, 2, 4, 4, 5, 5]]\n",
        "    answers_dict = {}\n",
        "    for idx, value in enumerate(answers):\n",
        "        for correct_idx, correct in enumerate(correct_maths):\n",
        "            correct_idx = correct_idx + 1\n",
        "            if value == correct[idx % len(correct)]:\n",
        "                answers_dict[correct_idx] = answers_dict.get(correct_idx, 1) + 1\n",
        "    answer = sorted([key for key, val in answers_dict.items() if val == max(answers_dict.values())])\n",
        "    return answer\n",
        "\n",
        "answers = [1,3,2,4,2]\n",
        "solution(answers)"
      ],
      "metadata": {
        "colab": {
          "base_uri": "https://localhost:8080/"
        },
        "id": "W2SJ7BNO6wRF",
        "outputId": "fac766a3-8430-43f6-b920-3bd7f88f9db8"
      },
      "execution_count": 26,
      "outputs": [
        {
          "output_type": "execute_result",
          "data": {
            "text/plain": [
              "[1, 2, 3]"
            ]
          },
          "metadata": {},
          "execution_count": 26
        }
      ]
    },
    {
      "cell_type": "code",
      "source": [],
      "metadata": {
        "id": "GzsImsYD6YxT"
      },
      "execution_count": null,
      "outputs": []
    }
  ]
}
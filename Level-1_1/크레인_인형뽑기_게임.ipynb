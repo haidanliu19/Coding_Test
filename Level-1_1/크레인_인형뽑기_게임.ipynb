{
  "nbformat": 4,
  "nbformat_minor": 0,
  "metadata": {
    "colab": {
      "provenance": []
    },
    "kernelspec": {
      "name": "python3",
      "display_name": "Python 3"
    },
    "language_info": {
      "name": "python"
    }
  },
  "cells": [
    {
      "cell_type": "markdown",
      "source": [
        "출처 : 프로그래머스"
      ],
      "metadata": {
        "id": "dqWdCl1cQ9ML"
      }
    },
    {
      "cell_type": "code",
      "source": [
        "def solution(board, moves):\n",
        "    answer = 0\n",
        "    result = []\n",
        "    for i in moves:\n",
        "        board_j =  [ t[i-1] for t in board]\n",
        "        for j, v in enumerate(board_j):\n",
        "            if v != 0:\n",
        "                board[j][i-1] = 0\n",
        "                print(result, v, result[-1:])\n",
        "                if v in result[-1:] :\n",
        "                    result.pop()\n",
        "                    answer += 2\n",
        "                else:\n",
        "                    result.append(v)\n",
        "                break\n",
        "    return answer\n",
        "\n",
        "board = [[0,0,0,0,0],[0,0,1,0,3],[0,2,5,0,1],[4,2,4,4,2],[3,5,1,3,1]]\n",
        "moves = [1,5,3,5,1,2,1,4]\n",
        "solution(board, moves)"
      ],
      "metadata": {
        "colab": {
          "base_uri": "https://localhost:8080/"
        },
        "id": "W2SJ7BNO6wRF",
        "outputId": "bd8877fe-bdba-4de3-df63-a6b6344cb334"
      },
      "execution_count": 106,
      "outputs": [
        {
          "output_type": "stream",
          "name": "stdout",
          "text": [
            "[] 4 []\n",
            "[4] 3 [4]\n",
            "[4, 3] 1 [3]\n",
            "[4, 3, 1] 1 [1]\n",
            "[4, 3] 3 [3]\n",
            "[4] 2 [4]\n",
            "[4, 2] 4 [2]\n"
          ]
        },
        {
          "output_type": "execute_result",
          "data": {
            "text/plain": [
              "4"
            ]
          },
          "metadata": {},
          "execution_count": 106
        }
      ]
    },
    {
      "cell_type": "code",
      "source": [],
      "metadata": {
        "id": "GzsImsYD6YxT",
        "colab": {
          "base_uri": "https://localhost:8080/"
        },
        "outputId": "72ab9980-1780-46f3-b111-8d24dcccb4b7"
      },
      "execution_count": 43,
      "outputs": [
        {
          "output_type": "execute_result",
          "data": {
            "text/plain": [
              "9"
            ]
          },
          "metadata": {},
          "execution_count": 43
        }
      ]
    },
    {
      "cell_type": "code",
      "source": [],
      "metadata": {
        "id": "BVRa56g0PmBa"
      },
      "execution_count": null,
      "outputs": []
    }
  ]
}
{
  "nbformat": 4,
  "nbformat_minor": 0,
  "metadata": {
    "colab": {
      "provenance": []
    },
    "kernelspec": {
      "name": "python3",
      "display_name": "Python 3"
    },
    "language_info": {
      "name": "python"
    }
  },
  "cells": [
    {
      "cell_type": "markdown",
      "source": [
        "출처 : 프로그래머스"
      ],
      "metadata": {
        "id": "dqWdCl1cQ9ML"
      }
    },
    {
      "cell_type": "code",
      "source": [
        "def solution(participant, completion):\n",
        "    answer = ''\n",
        "    participant.sort()\n",
        "    completion.sort()\n",
        "    for i in range(len(participant)-1):\n",
        "        if participant[i] !=  completion[i]:\n",
        "            answer = participant[i]\n",
        "            return answer\n",
        "    answer = participant[-1]\n",
        "    return answer\n",
        "\n",
        "participant = [\"mislav\", \"stanko\", \"mislav\", \"ana\"]\n",
        "completion = [\"stanko\", \"ana\", \"mislav\"]\n",
        "print(solution(participant, completion))"
      ],
      "metadata": {
        "colab": {
          "base_uri": "https://localhost:8080/"
        },
        "id": "W2SJ7BNO6wRF",
        "outputId": "d33a698c-7fd1-4878-f92c-de78ee3341f7"
      },
      "execution_count": 31,
      "outputs": [
        {
          "output_type": "stream",
          "name": "stdout",
          "text": [
            "mislav\n"
          ]
        }
      ]
    },
    {
      "cell_type": "code",
      "source": [],
      "metadata": {
        "id": "GzsImsYD6YxT"
      },
      "execution_count": null,
      "outputs": []
    }
  ]
}
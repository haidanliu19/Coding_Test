{
  "nbformat": 4,
  "nbformat_minor": 0,
  "metadata": {
    "colab": {
      "provenance": []
    },
    "kernelspec": {
      "name": "python3",
      "display_name": "Python 3"
    },
    "language_info": {
      "name": "python"
    }
  },
  "cells": [
    {
      "cell_type": "markdown",
      "source": [
        "출처 : 프로그래머스"
      ],
      "metadata": {
        "id": "dqWdCl1cQ9ML"
      }
    },
    {
      "cell_type": "code",
      "source": [
        "def solution(n, lost, reserve):\n",
        "    answer = 0\n",
        "    lost.sort()\n",
        "    reserve.sort()\n",
        "    lost_1 = [i for i in lost if i not in reserve]\n",
        "    reserve_1 = [i for i in reserve if i not in lost]\n",
        "    for i in reserve_1:\n",
        "        a = i-1\n",
        "        # a 에 있거나 혹은 b에 있거나\n",
        "        if a in lost_1:\n",
        "            lost_1.remove(a)\n",
        "        else:\n",
        "            b = i+1\n",
        "            if b in lost_1:\n",
        "                lost_1.remove(b)\n",
        "    answer = n - len(lost_1)\n",
        "    return answer\n",
        "\n",
        "n = 5\n",
        "lost = [2, 4]\n",
        "reserve = [3]\n",
        "solution(n, lost, reserve)"
      ],
      "metadata": {
        "colab": {
          "base_uri": "https://localhost:8080/"
        },
        "id": "W2SJ7BNO6wRF",
        "outputId": "22f69535-288e-440e-9298-fcd28ee73fad"
      },
      "execution_count": null,
      "outputs": [
        {
          "output_type": "execute_result",
          "data": {
            "text/plain": [
              "4"
            ]
          },
          "metadata": {},
          "execution_count": 67
        }
      ]
    },
    {
      "cell_type": "code",
      "source": [],
      "metadata": {
        "id": "GzsImsYD6YxT"
      },
      "execution_count": null,
      "outputs": []
    }
  ]
}
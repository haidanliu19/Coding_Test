{
  "nbformat": 4,
  "nbformat_minor": 0,
  "metadata": {
    "colab": {
      "provenance": []
    },
    "kernelspec": {
      "name": "python3",
      "display_name": "Python 3"
    },
    "language_info": {
      "name": "python"
    }
  },
  "cells": [
    {
      "cell_type": "markdown",
      "source": [
        "출처 : 프로그래머스"
      ],
      "metadata": {
        "id": "dqWdCl1cQ9ML"
      }
    },
    {
      "cell_type": "code",
      "source": [
        "def solution(left, right):\n",
        "    answer = []\n",
        "    _dict = {}\n",
        "    for i in range(left, right + 1):\n",
        "        list_ = []\n",
        "        for j in range(1, right +1):\n",
        "            if i % j == 0:\n",
        "                list_.append(j)\n",
        "            _dict[i] = i if len(list_) % 2 ==0 else -i\n",
        "    answer = sum(_dict.values())\n",
        "    return answer\n",
        "\n",
        "left = 13\n",
        "right = 17\n",
        "solution(left, right)"
      ],
      "metadata": {
        "id": "0IR1NBGtwk-M",
        "colab": {
          "base_uri": "https://localhost:8080/"
        },
        "outputId": "1a67af88-f018-4a93-d49c-a35456c31bfb"
      },
      "execution_count": 9,
      "outputs": [
        {
          "output_type": "execute_result",
          "data": {
            "text/plain": [
              "43"
            ]
          },
          "metadata": {},
          "execution_count": 9
        }
      ]
    },
    {
      "cell_type": "code",
      "source": [
        "def solution(left, right):\n",
        "    answer = 0\n",
        "    _dict = {}\n",
        "    for i in range(left, right + 1):\n",
        "        list_ = []\n",
        "        for j in range(1, right +1):\n",
        "            if i % j == 0:\n",
        "                list_.append(j)\n",
        "        answer += i if len(list_) % 2 ==0 else -i\n",
        "    return answer\n",
        "\n",
        "left = 13\n",
        "right = 17\n",
        "solution(left, right)\n",
        "\n",
        "\n"
      ],
      "metadata": {
        "id": "GKXwwmVqxpsT",
        "colab": {
          "base_uri": "https://localhost:8080/"
        },
        "outputId": "aa9335cc-60f0-46e2-d731-2070f5c2ed2f"
      },
      "execution_count": 15,
      "outputs": [
        {
          "output_type": "execute_result",
          "data": {
            "text/plain": [
              "43"
            ]
          },
          "metadata": {},
          "execution_count": 15
        }
      ]
    },
    {
      "cell_type": "code",
      "source": [],
      "metadata": {
        "id": "ZlqXrqwt2Xir"
      },
      "execution_count": null,
      "outputs": []
    }
  ]
}
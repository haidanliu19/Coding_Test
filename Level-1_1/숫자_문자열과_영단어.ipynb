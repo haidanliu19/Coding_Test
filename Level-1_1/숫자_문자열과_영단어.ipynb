{
  "nbformat": 4,
  "nbformat_minor": 0,
  "metadata": {
    "colab": {
      "provenance": []
    },
    "kernelspec": {
      "name": "python3",
      "display_name": "Python 3"
    },
    "language_info": {
      "name": "python"
    }
  },
  "cells": [
    {
      "cell_type": "markdown",
      "source": [
        "출처 : 프로그래머스"
      ],
      "metadata": {
        "id": "dqWdCl1cQ9ML"
      }
    },
    {
      "cell_type": "code",
      "source": [
        "def solution(s):\n",
        "    answer = \"\"\n",
        "    numbers = [\"0\", \"1\", \"2\", \"3\", \"4\", \"5\" , \"6\", \"7\", \"8\", \"9\" ,\n",
        "               \"zero\", \"one\",\"two\",\"three\",\"four\",\n",
        "               \"five\",\"six\",\"seven\",\"eight\",\"nine\" ]\n",
        "    number = \"\"\n",
        "    for i in s:\n",
        "        number += i\n",
        "        if number in numbers:\n",
        "            answer += str(numbers.index(number) % 10)\n",
        "            number = \"\"\n",
        "    return int(answer)\n",
        "\n",
        "s = \"one4seveneight\"\n",
        "solution(s)"
      ],
      "metadata": {
        "colab": {
          "base_uri": "https://localhost:8080/"
        },
        "id": "W2SJ7BNO6wRF",
        "outputId": "c47a87e7-dde7-4acf-a510-2fcc80e3f32d"
      },
      "execution_count": 72,
      "outputs": [
        {
          "output_type": "execute_result",
          "data": {
            "text/plain": [
              "1478"
            ]
          },
          "metadata": {},
          "execution_count": 72
        }
      ]
    },
    {
      "cell_type": "code",
      "source": [],
      "metadata": {
        "id": "ctUddbnNgS3Y"
      },
      "execution_count": null,
      "outputs": []
    }
  ]
}
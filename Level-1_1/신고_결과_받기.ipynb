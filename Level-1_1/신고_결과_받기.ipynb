{
  "nbformat": 4,
  "nbformat_minor": 0,
  "metadata": {
    "colab": {
      "provenance": []
    },
    "kernelspec": {
      "name": "python3",
      "display_name": "Python 3"
    },
    "language_info": {
      "name": "python"
    }
  },
  "cells": [
    {
      "cell_type": "markdown",
      "source": [
        "출처 : 프로그래머스"
      ],
      "metadata": {
        "id": "dqWdCl1cQ9ML"
      }
    },
    {
      "cell_type": "code",
      "source": [
        "def solution(id_list, report, k):\n",
        "    answer = []\n",
        "    id_dict = {i: 0 for i in id_list}\n",
        "    # 중복 제거하기 , 같은 사람 이 같은 사림 신고 제거하기 \n",
        "    report = set(report)\n",
        "    for r in report:\n",
        "        b = r.split()[1]\n",
        "        id_dict[b] = id_dict.get(b) + 1 \n",
        "    dic = {i: 0 for i in id_list}\n",
        "    for r in report:\n",
        "        a, b = r.split()[0], r.split()[1]\n",
        "        if id_dict.get(b) >= k:\n",
        "            dic[a] = dic.get(a) + 1\n",
        "        \n",
        "    answer = list(dic.values())\n",
        "    return answer\n",
        "\n",
        "\n",
        "id_list = [\"muzi\", \"frodo\", \"apeach\", \"neo\"]\n",
        "report = [\"muzi frodo\",\"apeach frodo\",\"frodo neo\",\"muzi neo\",\"apeach muzi\"]\n",
        "k = 2\n",
        "print(solution(id_list, report, k))\n",
        "\n",
        "id_list = [\"con\", \"ryan\"]\n",
        "report = [\"ryan con\", \"ryan con\", \"ryan con\", \"ryan con\"]\n",
        "k = 3\n",
        "print(solution(id_list, report, k))"
      ],
      "metadata": {
        "colab": {
          "base_uri": "https://localhost:8080/"
        },
        "id": "W2SJ7BNO6wRF",
        "outputId": "7c0627e4-0e95-4a2d-f479-040fd61cbb78"
      },
      "execution_count": 95,
      "outputs": [
        {
          "output_type": "stream",
          "name": "stdout",
          "text": [
            "[2, 1, 1, 0]\n",
            "[0, 0]\n"
          ]
        }
      ]
    },
    {
      "cell_type": "code",
      "source": [],
      "metadata": {
        "id": "TllqFWenZc-m"
      },
      "execution_count": null,
      "outputs": []
    }
  ]
}
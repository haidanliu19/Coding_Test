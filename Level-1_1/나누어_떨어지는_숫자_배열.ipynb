{
  "nbformat": 4,
  "nbformat_minor": 0,
  "metadata": {
    "colab": {
      "provenance": []
    },
    "kernelspec": {
      "name": "python3",
      "display_name": "Python 3"
    },
    "language_info": {
      "name": "python"
    }
  },
  "cells": [
    {
      "cell_type": "markdown",
      "source": [
        "출처 : 프로그래머스"
      ],
      "metadata": {
        "id": "dqWdCl1cQ9ML"
      }
    },
    {
      "cell_type": "code",
      "source": [
        "def solution(arr, divisor):\n",
        "    answer = sorted(list(filter(lambda x: x%divisor == 0, arr)))\n",
        "    return answer or [-1]\n",
        "\n",
        "arr = [5, 9, 7, 10]\t\n",
        "divisor = 5\n",
        "solution(arr, divisor)"
      ],
      "metadata": {
        "colab": {
          "base_uri": "https://localhost:8080/"
        },
        "id": "0IR1NBGtwk-M",
        "outputId": "b1d08283-fa8d-42f5-d1b3-577ad4c6fec2"
      },
      "execution_count": 10,
      "outputs": [
        {
          "output_type": "execute_result",
          "data": {
            "text/plain": [
              "[5, 10]"
            ]
          },
          "metadata": {},
          "execution_count": 10
        }
      ]
    },
    {
      "cell_type": "code",
      "source": [
        "def solution(arr, divisor):\n",
        "    answer = sorted(list(filter(lambda x: not x%divisor, arr)))\n",
        "    return answer or [-1]\n",
        "\n",
        "arr = [5, 9, 7, 10]\t\n",
        "divisor = 5\n",
        "solution(arr, divisor)"
      ],
      "metadata": {
        "id": "RQfGl2nhu0U1",
        "colab": {
          "base_uri": "https://localhost:8080/"
        },
        "outputId": "b97c9a57-2349-492e-8914-63a67cec7fc4"
      },
      "execution_count": 12,
      "outputs": [
        {
          "output_type": "execute_result",
          "data": {
            "text/plain": [
              "[5, 10]"
            ]
          },
          "metadata": {},
          "execution_count": 12
        }
      ]
    },
    {
      "cell_type": "code",
      "source": [],
      "metadata": {
        "id": "4b9cq1BwtxSt"
      },
      "execution_count": null,
      "outputs": []
    }
  ]
}
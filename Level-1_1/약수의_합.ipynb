{
  "nbformat": 4,
  "nbformat_minor": 0,
  "metadata": {
    "colab": {
      "provenance": []
    },
    "kernelspec": {
      "name": "python3",
      "display_name": "Python 3"
    },
    "language_info": {
      "name": "python"
    }
  },
  "cells": [
    {
      "cell_type": "markdown",
      "source": [
        "출처 : 프로그래머스"
      ],
      "metadata": {
        "id": "dqWdCl1cQ9ML"
      }
    },
    {
      "cell_type": "code",
      "source": [
        "def solution(n):\n",
        "    answer = [n]\n",
        "    answer += [i  for i in range(1, n //2 +1) if n % i == 0 ]\n",
        "    return sum(answer)\n",
        "\n",
        "n = 16\n",
        "solution(n)"
      ],
      "metadata": {
        "colab": {
          "base_uri": "https://localhost:8080/",
          "height": 0
        },
        "id": "0IR1NBGtwk-M",
        "outputId": "a2462e19-6e52-4e8c-ad12-78c9a791ab68"
      },
      "execution_count": 36,
      "outputs": [
        {
          "output_type": "execute_result",
          "data": {
            "text/plain": [
              "31"
            ]
          },
          "metadata": {},
          "execution_count": 36
        }
      ]
    }
  ]
}
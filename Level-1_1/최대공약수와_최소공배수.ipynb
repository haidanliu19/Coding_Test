{
  "nbformat": 4,
  "nbformat_minor": 0,
  "metadata": {
    "colab": {
      "provenance": []
    },
    "kernelspec": {
      "name": "python3",
      "display_name": "Python 3"
    },
    "language_info": {
      "name": "python"
    }
  },
  "cells": [
    {
      "cell_type": "markdown",
      "source": [
        "출처 : 프로그래머스"
      ],
      "metadata": {
        "id": "dqWdCl1cQ9ML"
      }
    },
    {
      "cell_type": "code",
      "source": [
        "def GCD(n, m):\n",
        "    return n if m % n == 0 else GCD(m % n, n)\n",
        "\n",
        "def solution(n, m):\n",
        "    answer = []\n",
        "    n, m = min(n, m) , max(n, m)\n",
        "    # 최대공약수 GCD(greatest common divisor) \n",
        "    gcd = GCD(n, m)\n",
        "    #print(gcd)\n",
        "    # 최소공배수 LCM(largest common multiple)\n",
        "    lcm = n * m  // gcd  \n",
        "    answer = [gcd, lcm] \n",
        "    return answer\n",
        "\n",
        "n = 3\n",
        "m = 12\n",
        "solution(n, m)"
      ],
      "metadata": {
        "colab": {
          "base_uri": "https://localhost:8080/"
        },
        "id": "0IR1NBGtwk-M",
        "outputId": "a721797e-212b-410f-a1e3-0073c6d3f48e"
      },
      "execution_count": 43,
      "outputs": [
        {
          "output_type": "execute_result",
          "data": {
            "text/plain": [
              "[3, 12]"
            ]
          },
          "metadata": {},
          "execution_count": 43
        }
      ]
    }
  ]
}
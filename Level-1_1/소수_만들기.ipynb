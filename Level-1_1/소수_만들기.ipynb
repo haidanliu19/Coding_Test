{
  "nbformat": 4,
  "nbformat_minor": 0,
  "metadata": {
    "colab": {
      "provenance": []
    },
    "kernelspec": {
      "name": "python3",
      "display_name": "Python 3"
    },
    "language_info": {
      "name": "python"
    }
  },
  "cells": [
    {
      "cell_type": "markdown",
      "source": [
        "출처 : 프로그래머스"
      ],
      "metadata": {
        "id": "dqWdCl1cQ9ML"
      }
    },
    {
      "cell_type": "code",
      "source": [
        "def solution(nums):\n",
        "    answer = 0\n",
        "    numbers = []\n",
        "    for i in range(len(nums)-2):\n",
        "        for j in range(i+1, len(nums)-1):\n",
        "            for z in range(j+1, len(nums)):\n",
        "                numbers.append(nums[i] + nums[j] +  nums[z])\n",
        "    for num in numbers:\n",
        "        for p in range(2, int(num ** 0.5)+1):\n",
        "            if num % p == 0:\n",
        "                break\n",
        "        else:\n",
        "            answer += 1\n",
        "                \n",
        "    return answer\n",
        "\n",
        "\n",
        "nums = [1,2,3,4]\n",
        "solution(nums)"
      ],
      "metadata": {
        "colab": {
          "base_uri": "https://localhost:8080/"
        },
        "id": "W2SJ7BNO6wRF",
        "outputId": "80444061-bab7-4218-dcac-23f7a1fdf931"
      },
      "execution_count": 8,
      "outputs": [
        {
          "output_type": "execute_result",
          "data": {
            "text/plain": [
              "1"
            ]
          },
          "metadata": {},
          "execution_count": 8
        }
      ]
    },
    {
      "cell_type": "code",
      "source": [],
      "metadata": {
        "id": "GzsImsYD6YxT"
      },
      "execution_count": null,
      "outputs": []
    }
  ]
}
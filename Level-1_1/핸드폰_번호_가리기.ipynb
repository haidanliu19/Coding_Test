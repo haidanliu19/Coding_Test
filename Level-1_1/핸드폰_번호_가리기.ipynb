{
  "nbformat": 4,
  "nbformat_minor": 0,
  "metadata": {
    "colab": {
      "provenance": []
    },
    "kernelspec": {
      "name": "python3",
      "display_name": "Python 3"
    },
    "language_info": {
      "name": "python"
    }
  },
  "cells": [
    {
      "cell_type": "markdown",
      "source": [
        "출처 : 프로그래머스"
      ],
      "metadata": {
        "id": "dqWdCl1cQ9ML"
      }
    },
    {
      "cell_type": "code",
      "source": [
        "def solution(phone_number):\n",
        "    answer = \"*\" * len(phone_number[:-4]) + phone_number[-4:]\n",
        "    return answer\n",
        "\n",
        "phone_number = \"01033334444\"\t\n",
        "solution(phone_number)"
      ],
      "metadata": {
        "colab": {
          "base_uri": "https://localhost:8080/",
          "height": 35
        },
        "id": "0IR1NBGtwk-M",
        "outputId": "33ad9f0d-4a92-4cfd-f57a-889c03f976b1"
      },
      "execution_count": 26,
      "outputs": [
        {
          "output_type": "execute_result",
          "data": {
            "text/plain": [
              "'********4444'"
            ],
            "application/vnd.google.colaboratory.intrinsic+json": {
              "type": "string"
            }
          },
          "metadata": {},
          "execution_count": 26
        }
      ]
    },
    {
      "cell_type": "code",
      "source": [
        "def solution(phone_number):\n",
        "    answer = \"*\"*(len(phone_number)-4) + phone_number[-4:]\n",
        "    return answer"
      ],
      "metadata": {
        "id": "sPKbAHHAb14J"
      },
      "execution_count": null,
      "outputs": []
    }
  ]
}
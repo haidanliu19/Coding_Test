{
  "nbformat": 4,
  "nbformat_minor": 0,
  "metadata": {
    "colab": {
      "provenance": []
    },
    "kernelspec": {
      "name": "python3",
      "display_name": "Python 3"
    },
    "language_info": {
      "name": "python"
    }
  },
  "cells": [
    {
      "cell_type": "markdown",
      "source": [
        "출처 : 프로그래머스"
      ],
      "metadata": {
        "id": "dqWdCl1cQ9ML"
      }
    },
    {
      "cell_type": "code",
      "source": [
        "def solution(new_id):\n",
        "    answer = ''\n",
        "    '''\n",
        "    1단계 new_id의 모든 대문자를 대응되는 소문자로 치환합니다.\n",
        "    2단계 new_id에서 알파벳 소문자, 숫자, 빼기(-), 밑줄(_), 마침표(.)를 제외한 모든 문자를 제거합니다.\n",
        "    3단계 new_id에서 마침표(.)가 2번 이상 연속된 부분을 하나의 마침표(.)로 치환합니다.\n",
        "    4단계 new_id에서 마침표(.)가 처음이나 끝에 위치한다면 제거합니다.\n",
        "    5단계 new_id가 빈 문자열이라면, new_id에 \"a\"를 대입합니다.\n",
        "    6단계 new_id의 길이가 16자 이상이면, new_id의 첫 15개의 문자를 제외한 나머지 문자들을 모두 제거합니다.\n",
        "        만약 제거 후 마침표(.)가 new_id의 끝에 위치한다면 끝에 위치한 마침표(.) 문자를 제거합니다.\n",
        "    7단계 new_id의 길이가 2자 이하라면, new_id의 마지막 문자를 new_id의 길이가 3이 될 때까지 반복해서 끝에 붙입니다.\n",
        "    '''\n",
        "    # step 1\n",
        "    new_id = new_id.lower()\n",
        "    # step 2\n",
        "    for i in new_id:\n",
        "        if i.isalpha() or i.isdigit() or i in ['-', '_', '.']:\n",
        "            answer += i\n",
        "    # step 3\n",
        "    while '..' in answer:\n",
        "        answer = answer.replace('..', '.')\n",
        "    # step  4\n",
        "    if answer[0] == '.':\n",
        "        answer = answer[1:] if len(answer) > 1 else '.'\n",
        "    if answer[-1] == '.':\n",
        "        answer = answer[:-1]\n",
        "    # step 5\n",
        "    if len(answer) == 0:\n",
        "        answer = 'a'\n",
        "    # step 6\n",
        "    if len(answer) >= 16:\n",
        "        answer = answer[:15]\n",
        "        if answer[-1] == '.':\n",
        "            answer = answer[:-1]\n",
        "    # step 7\n",
        "    while len(answer) < 3:\n",
        "        answer += answer[-1]\n",
        "    return answer\n",
        "\n",
        "new_id = \"...!@BaT#*..y.abcdefghijklm\"\n",
        "solution(new_id)"
      ],
      "metadata": {
        "colab": {
          "base_uri": "https://localhost:8080/",
          "height": 35
        },
        "id": "W2SJ7BNO6wRF",
        "outputId": "c21c2184-07e7-4e5a-cd01-2a468b7ab78f"
      },
      "execution_count": null,
      "outputs": [
        {
          "output_type": "execute_result",
          "data": {
            "text/plain": [
              "'bat.y.abcdefghi'"
            ],
            "application/vnd.google.colaboratory.intrinsic+json": {
              "type": "string"
            }
          },
          "metadata": {},
          "execution_count": 22
        }
      ]
    },
    {
      "cell_type": "code",
      "source": [],
      "metadata": {
        "id": "ctUddbnNgS3Y"
      },
      "execution_count": null,
      "outputs": []
    }
  ]
}
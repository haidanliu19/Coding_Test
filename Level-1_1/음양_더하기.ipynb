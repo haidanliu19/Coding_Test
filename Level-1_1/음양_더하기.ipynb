{
  "nbformat": 4,
  "nbformat_minor": 0,
  "metadata": {
    "colab": {
      "provenance": []
    },
    "kernelspec": {
      "name": "python3",
      "display_name": "Python 3"
    },
    "language_info": {
      "name": "python"
    }
  },
  "cells": [
    {
      "cell_type": "markdown",
      "source": [
        "출처 : 프로그래머스"
      ],
      "metadata": {
        "id": "dqWdCl1cQ9ML"
      }
    },
    {
      "cell_type": "code",
      "source": [
        "def solution(absolutes, signs):\n",
        "    answer = sum([ -absolute  if not sign else absolute for absolute, sign  in zip(absolutes, signs)])\n",
        "    return answer\n",
        "\n",
        "absolutes = [4,7,12]\n",
        "signs = [True,False,True]\n",
        "solution(absolutes, signs)"
      ],
      "metadata": {
        "colab": {
          "base_uri": "https://localhost:8080/"
        },
        "id": "W2SJ7BNO6wRF",
        "outputId": "3e0c7c7c-9796-4626-d60a-6fda0b392e62"
      },
      "execution_count": 44,
      "outputs": [
        {
          "output_type": "execute_result",
          "data": {
            "text/plain": [
              "9"
            ]
          },
          "metadata": {},
          "execution_count": 44
        }
      ]
    },
    {
      "cell_type": "code",
      "source": [],
      "metadata": {
        "id": "GzsImsYD6YxT",
        "colab": {
          "base_uri": "https://localhost:8080/"
        },
        "outputId": "72ab9980-1780-46f3-b111-8d24dcccb4b7"
      },
      "execution_count": 43,
      "outputs": [
        {
          "output_type": "execute_result",
          "data": {
            "text/plain": [
              "9"
            ]
          },
          "metadata": {},
          "execution_count": 43
        }
      ]
    },
    {
      "cell_type": "code",
      "source": [],
      "metadata": {
        "id": "BVRa56g0PmBa"
      },
      "execution_count": null,
      "outputs": []
    }
  ]
}
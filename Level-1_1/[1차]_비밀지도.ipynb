{
  "nbformat": 4,
  "nbformat_minor": 0,
  "metadata": {
    "colab": {
      "provenance": []
    },
    "kernelspec": {
      "name": "python3",
      "display_name": "Python 3"
    },
    "language_info": {
      "name": "python"
    }
  },
  "cells": [
    {
      "cell_type": "markdown",
      "source": [
        "출처 : 프로그래머스"
      ],
      "metadata": {
        "id": "dqWdCl1cQ9ML"
      }
    },
    {
      "cell_type": "code",
      "source": [
        "def solution(n, arr1, arr2):\n",
        "    answer = []\n",
        "    _dict = {'1':'#', '0': ' '}\n",
        "    for idx in range(len(arr1)):\n",
        "        answer.append(\"\".join(map(lambda x: _dict.get(x) , (bin(arr1[idx] | arr2[idx] )[2:]).zfill(n))))\n",
        "    return answer\n",
        "\n",
        "n = 5\n",
        "arr1 = [9, 20, 28, 18, 11]\n",
        "arr2 = \t[30, 1, 21, 17, 28]\n",
        "solution(n, arr1, arr2)"
      ],
      "metadata": {
        "colab": {
          "base_uri": "https://localhost:8080/"
        },
        "id": "0IR1NBGtwk-M",
        "outputId": "f0f0fbb3-b3a4-4aad-e61d-72109e5e1ca3"
      },
      "execution_count": 24,
      "outputs": [
        {
          "output_type": "execute_result",
          "data": {
            "text/plain": [
              "['#####', '# # #', '### #', '#  ##', '#####']"
            ]
          },
          "metadata": {},
          "execution_count": 24
        }
      ]
    },
    {
      "cell_type": "code",
      "source": [
        "def solution(n, arr1, arr2):\n",
        "    answer = []\n",
        "    _dict = {'1':'#', '0': ' '}\n",
        "    for idx in range(len(arr1)):\n",
        "        answer.append(\"\".join(map(lambda x: _dict.get(x) , (bin(arr1[idx] | arr2[idx] )[2:]).rjust(n, '0'))))\n",
        "    return answer\n",
        "\n",
        "n = 5\n",
        "arr1 = [9, 20, 28, 18, 11]\n",
        "arr2 = \t[30, 1, 21, 17, 28]\n",
        "solution(n, arr1, arr2)"
      ],
      "metadata": {
        "id": "4b9cq1BwtxSt",
        "colab": {
          "base_uri": "https://localhost:8080/"
        },
        "outputId": "b2a7ae0c-c2a2-413f-8a84-c50969ade498"
      },
      "execution_count": 25,
      "outputs": [
        {
          "output_type": "execute_result",
          "data": {
            "text/plain": [
              "['#####', '# # #', '### #', '#  ##', '#####']"
            ]
          },
          "metadata": {},
          "execution_count": 25
        }
      ]
    },
    {
      "cell_type": "code",
      "source": [],
      "metadata": {
        "id": "BEMH_SPWuGfs"
      },
      "execution_count": null,
      "outputs": []
    }
  ]
}
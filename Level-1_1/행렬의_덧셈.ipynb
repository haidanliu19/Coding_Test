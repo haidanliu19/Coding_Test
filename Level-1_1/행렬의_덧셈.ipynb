{
  "nbformat": 4,
  "nbformat_minor": 0,
  "metadata": {
    "colab": {
      "provenance": []
    },
    "kernelspec": {
      "name": "python3",
      "display_name": "Python 3"
    },
    "language_info": {
      "name": "python"
    }
  },
  "cells": [
    {
      "cell_type": "markdown",
      "source": [
        "출처 : 프로그래머스"
      ],
      "metadata": {
        "id": "dqWdCl1cQ9ML"
      }
    },
    {
      "cell_type": "code",
      "source": [
        "def solution(arr1,arr2):\n",
        "    answer = []\n",
        "    answer = [[arr1[i][j] + arr2[i][j] for j in range(len(arr1[i]))] for i in range(len(arr1)) ]\n",
        "        \n",
        "    return answer\n",
        "\n",
        "arr1 = [[1,2],[2,3]]\n",
        "arr2 = [[3,4],[5,6]]\n",
        "solution(arr1,arr2)"
      ],
      "metadata": {
        "colab": {
          "base_uri": "https://localhost:8080/"
        },
        "id": "0IR1NBGtwk-M",
        "outputId": "c8f7eb03-d216-4c3c-cee8-e8aea5431a19"
      },
      "execution_count": 22,
      "outputs": [
        {
          "output_type": "execute_result",
          "data": {
            "text/plain": [
              "[[4, 6], [7, 9]]"
            ]
          },
          "metadata": {},
          "execution_count": 22
        }
      ]
    },
    {
      "cell_type": "code",
      "source": [
        "def solution(arr1,arr2):\n",
        "    answer = []\n",
        "    for i in range(len(arr1)) :\n",
        "        answer_1 = []\n",
        "        for j in range(len(arr1[i])) :\n",
        "            answer_1.append(arr1[i][j] + arr2[i][j])\n",
        "        answer.append(answer_1)\n",
        "    return answer"
      ],
      "metadata": {
        "id": "sPKbAHHAb14J"
      },
      "execution_count": null,
      "outputs": []
    }
  ]
}
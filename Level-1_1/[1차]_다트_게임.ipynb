{
  "nbformat": 4,
  "nbformat_minor": 0,
  "metadata": {
    "colab": {
      "provenance": []
    },
    "kernelspec": {
      "name": "python3",
      "display_name": "Python 3"
    },
    "language_info": {
      "name": "python"
    }
  },
  "cells": [
    {
      "cell_type": "markdown",
      "source": [
        "출처 : 프로그래머스"
      ],
      "metadata": {
        "id": "dqWdCl1cQ9ML"
      }
    },
    {
      "cell_type": "code",
      "source": [
        "def solution(dartResult):\n",
        "    answer = 0\n",
        "    score_dict = {\"S\":1, \"D\": 2, \"T\":3}\n",
        "    list_ = []\n",
        "    dartResult =  dartResult.replace('10', 'A')\n",
        "    for idx,v in enumerate(dartResult):\n",
        "        if v.isdigit() :\n",
        "            s_ = v\n",
        "        elif v == 'A':\n",
        "            s_ = '10'\n",
        "        else:\n",
        "            if v == \"*\":\n",
        "                list_[-2:] = [i * 2 for i in list_[-2: ]]\n",
        "            elif v == \"#\":\n",
        "                list_[-1:] = [i * -1 for i in list_[-1:]]\n",
        "            else:\n",
        "                list_.append(int(s_) ** score_dict[v])\n",
        "    answer = sum(list_)\n",
        "    return answer\n",
        "\n",
        "dartResult =\"1S2D*3T\"\n",
        "print(solution(dartResult))\n",
        "\n",
        "dartResult = \"1T2D3D#\"\n",
        "print(solution(dartResult))\n",
        "\n",
        "dartResult =  \"1D2S#10S\"\n",
        "print(solution(dartResult))\n",
        "\n",
        "dartResult = \"1D2S3T*\"\n",
        "print(solution(dartResult))"
      ],
      "metadata": {
        "colab": {
          "base_uri": "https://localhost:8080/"
        },
        "id": "0IR1NBGtwk-M",
        "outputId": "563fa49f-f77f-445e-e7ee-da8aedbfa3eb"
      },
      "execution_count": 67,
      "outputs": [
        {
          "output_type": "stream",
          "name": "stdout",
          "text": [
            "[2, 8, 27]\n",
            "37\n",
            "[1, 4, -9]\n",
            "-4\n",
            "[1, -2, 10]\n",
            "9\n",
            "[1, 4, 54]\n",
            "59\n"
          ]
        }
      ]
    },
    {
      "cell_type": "code",
      "source": [],
      "metadata": {
        "id": "4b9cq1BwtxSt"
      },
      "execution_count": null,
      "outputs": []
    }
  ]
}
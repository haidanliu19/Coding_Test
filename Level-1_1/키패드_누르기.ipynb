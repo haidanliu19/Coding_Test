{
  "nbformat": 4,
  "nbformat_minor": 0,
  "metadata": {
    "colab": {
      "provenance": []
    },
    "kernelspec": {
      "name": "python3",
      "display_name": "Python 3"
    },
    "language_info": {
      "name": "python"
    }
  },
  "cells": [
    {
      "cell_type": "markdown",
      "source": [
        "출처 : 프로그래머스"
      ],
      "metadata": {
        "id": "dqWdCl1cQ9ML"
      }
    },
    {
      "cell_type": "code",
      "source": [
        "def solution(numbers, hand):\n",
        "    answer = ''\n",
        "    left_hands =  [1, 4, 7, '*']\n",
        "    right_hands = [3, 6, 9, '#']\n",
        "    left_hand, right_hand = 10, 11\n",
        "                      #  0, 1, 2, 3, 4, 5, 6, 7, 8, 9, *, #\n",
        "    hand_dicts = { 2 : [ 3, 1, 0, 1, 2, 1, 2, 3, 2, 3, 4, 4],\n",
        "                   5 : [ 2, 2, 1, 2, 1, 0, 1, 2, 1, 2, 3, 3],\n",
        "                   8 : [ 1, 3, 2, 3, 2, 1, 2, 1, 0, 1, 2, 2],\n",
        "                   0 : [ 0, 4, 3, 4, 3, 2, 3, 2, 1, 2, 1, 1]}\n",
        "    for number in numbers:\n",
        "        if number in left_hands:\n",
        "            answer += 'L'\n",
        "            left_hand = number\n",
        "        elif number in right_hands:\n",
        "            answer += 'R'\n",
        "            right_hand = number\n",
        "        else:\n",
        "            if hand_dicts[number][left_hand] < hand_dicts[number][right_hand]:\n",
        "                answer += 'L'\n",
        "                left_hand = number\n",
        "            elif hand_dicts[number][left_hand] > hand_dicts[number][right_hand]:\n",
        "                answer += 'R'\n",
        "                right_hand = number\n",
        "            else:\n",
        "                if 'R' in hand.upper() :\n",
        "                    answer += 'R'\n",
        "                    right_hand = number\n",
        "                else:\n",
        "                    answer += 'L'\n",
        "                    left_hand = number\n",
        "            \n",
        "    return answer\n",
        "\n",
        "numbers = \t[1, 3, 4, 5, 8, 2, 1, 4, 5, 9, 5]\n",
        "hand = \"right\"\n",
        "solution(numbers, hand)"
      ],
      "metadata": {
        "colab": {
          "base_uri": "https://localhost:8080/",
          "height": 35
        },
        "id": "W2SJ7BNO6wRF",
        "outputId": "4e6b20c3-8425-4c7a-bdc0-10b0e74a3722"
      },
      "execution_count": 63,
      "outputs": [
        {
          "output_type": "execute_result",
          "data": {
            "text/plain": [
              "'LRLLLRLLRRL'"
            ],
            "application/vnd.google.colaboratory.intrinsic+json": {
              "type": "string"
            }
          },
          "metadata": {},
          "execution_count": 63
        }
      ]
    },
    {
      "cell_type": "code",
      "source": [],
      "metadata": {
        "id": "ctUddbnNgS3Y"
      },
      "execution_count": null,
      "outputs": []
    }
  ]
}
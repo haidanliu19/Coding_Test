{
  "nbformat": 4,
  "nbformat_minor": 0,
  "metadata": {
    "colab": {
      "provenance": []
    },
    "kernelspec": {
      "name": "python3",
      "display_name": "Python 3"
    },
    "language_info": {
      "name": "python"
    }
  },
  "cells": [
    {
      "cell_type": "markdown",
      "source": [
        "출처 : 프로그래머스"
      ],
      "metadata": {
        "id": "dqWdCl1cQ9ML"
      }
    },
    {
      "cell_type": "code",
      "source": [
        "def solution(arr):\n",
        "    answer = []\n",
        "    answer.append(arr[0])\n",
        "    for idx, val in enumerate(arr):\n",
        "        if answer[-1] != val:\n",
        "            answer.append(val)\n",
        "    return answer\n",
        "\n",
        "arr = [1,1,3,3,0,1,1]\n",
        "solution(arr)"
      ],
      "metadata": {
        "colab": {
          "base_uri": "https://localhost:8080/"
        },
        "id": "0IR1NBGtwk-M",
        "outputId": "5d902c6a-4c2d-4124-802b-5f9b2c59e932"
      },
      "execution_count": 15,
      "outputs": [
        {
          "output_type": "execute_result",
          "data": {
            "text/plain": [
              "[1, 3, 0, 1]"
            ]
          },
          "metadata": {},
          "execution_count": 15
        }
      ]
    },
    {
      "cell_type": "code",
      "source": [],
      "metadata": {
        "id": "4b9cq1BwtxSt"
      },
      "execution_count": null,
      "outputs": []
    }
  ]
}
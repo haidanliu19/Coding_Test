{
  "nbformat": 4,
  "nbformat_minor": 0,
  "metadata": {
    "colab": {
      "provenance": []
    },
    "kernelspec": {
      "name": "python3",
      "display_name": "Python 3"
    },
    "language_info": {
      "name": "python"
    }
  },
  "cells": [
    {
      "cell_type": "markdown",
      "source": [
        "출처 : 프로그래머스"
      ],
      "metadata": {
        "id": "dqWdCl1cQ9ML"
      }
    },
    {
      "cell_type": "code",
      "source": [
        "def solution(n):\n",
        "    answer = 0\n",
        "    answer_ = ''\n",
        "    while n > 0:\n",
        "        div, mod = divmod(n, 3)\n",
        "        n = div \n",
        "        answer_ += str(mod)\n",
        "    for idx, val in enumerate(answer_):\n",
        "        answer += int(val) * (3 ** (len(answer_) - idx -1))\n",
        "    return answer\n",
        "\n",
        "n = 45\n",
        "solution(n)"
      ],
      "metadata": {
        "colab": {
          "base_uri": "https://localhost:8080/"
        },
        "id": "0IR1NBGtwk-M",
        "outputId": "4987a7d8-a4c3-45e7-d9f3-aa4dd5fa5560"
      },
      "execution_count": 51,
      "outputs": [
        {
          "output_type": "execute_result",
          "data": {
            "text/plain": [
              "7"
            ]
          },
          "metadata": {},
          "execution_count": 51
        }
      ]
    },
    {
      "cell_type": "code",
      "source": [],
      "metadata": {
        "id": "GKXwwmVqxpsT"
      },
      "execution_count": null,
      "outputs": []
    }
  ]
}
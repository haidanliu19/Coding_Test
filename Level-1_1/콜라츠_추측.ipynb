{
  "nbformat": 4,
  "nbformat_minor": 0,
  "metadata": {
    "colab": {
      "provenance": []
    },
    "kernelspec": {
      "name": "python3",
      "display_name": "Python 3"
    },
    "language_info": {
      "name": "python"
    }
  },
  "cells": [
    {
      "cell_type": "markdown",
      "source": [
        "출처 : 프로그래머스"
      ],
      "metadata": {
        "id": "dqWdCl1cQ9ML"
      }
    },
    {
      "cell_type": "code",
      "source": [
        "def solution(num):\n",
        "    answer = 0\n",
        "    while num != 1:\n",
        "        num = num // 2 if num % 2 == 0 else num * 3 + 1\n",
        "        answer += 1\n",
        "        if answer > 500:\n",
        "            answer = -1\n",
        "            break\n",
        "    return answer\n",
        "\n",
        "num = 626331\n",
        "solution(num)"
      ],
      "metadata": {
        "colab": {
          "base_uri": "https://localhost:8080/"
        },
        "id": "0IR1NBGtwk-M",
        "outputId": "298632c2-a34f-4a49-adc6-edfbe29fe386"
      },
      "execution_count": 22,
      "outputs": [
        {
          "output_type": "execute_result",
          "data": {
            "text/plain": [
              "-1"
            ]
          },
          "metadata": {},
          "execution_count": 22
        }
      ]
    },
    {
      "cell_type": "code",
      "source": [
        "def solution(num):\n",
        "    answer = []\n",
        "    while num != 1 and len(answer) <= 500:\n",
        "        num = num // 2 if num % 2 == 0 else num * 3 + 1\n",
        "        answer.append(num)\n",
        "    return len(answer) if len(answer) < 500 else -1\n",
        "\n",
        "num = 626331\n",
        "solution(num)"
      ],
      "metadata": {
        "colab": {
          "base_uri": "https://localhost:8080/"
        },
        "id": "HUugvSaMPinL",
        "outputId": "b9128e41-6097-4bc4-83c7-b0c5690ed11b"
      },
      "execution_count": 26,
      "outputs": [
        {
          "output_type": "execute_result",
          "data": {
            "text/plain": [
              "-1"
            ]
          },
          "metadata": {},
          "execution_count": 26
        }
      ]
    }
  ]
}
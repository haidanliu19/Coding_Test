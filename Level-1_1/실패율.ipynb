{
  "nbformat": 4,
  "nbformat_minor": 0,
  "metadata": {
    "colab": {
      "provenance": []
    },
    "kernelspec": {
      "name": "python3",
      "display_name": "Python 3"
    },
    "language_info": {
      "name": "python"
    }
  },
  "cells": [
    {
      "cell_type": "markdown",
      "source": [
        "출처 : 프로그래머스"
      ],
      "metadata": {
        "id": "dqWdCl1cQ9ML"
      }
    },
    {
      "cell_type": "code",
      "source": [
        "def solution(N, stages):\n",
        "    answer = {}\n",
        "    count = len(stages)\n",
        "    for i in range(1, N + 1):\n",
        "        cnt = stages.count(i)\n",
        "        if cnt == 0:\n",
        "            answer[i] = 0\n",
        "        else:\n",
        "            answer[i]= (cnt/ count)\n",
        "        count -= cnt\n",
        "    answer = sorted(answer, key = lambda x: answer[x],  reverse=True)\n",
        "    return answer\n",
        "\n",
        "N = 5\n",
        "stages = [2, 1, 2, 6, 2, 4, 3, 3]\t\n",
        "solution(N, stages)"
      ],
      "metadata": {
        "colab": {
          "base_uri": "https://localhost:8080/"
        },
        "id": "W2SJ7BNO6wRF",
        "outputId": "d7d5a57a-f0b2-486d-efe5-b1ba6e499e54"
      },
      "execution_count": 54,
      "outputs": [
        {
          "output_type": "execute_result",
          "data": {
            "text/plain": [
              "[3, 4, 2, 1, 5]"
            ]
          },
          "metadata": {},
          "execution_count": 54
        }
      ]
    },
    {
      "cell_type": "code",
      "source": [],
      "metadata": {
        "id": "0IR1NBGtwk-M",
        "colab": {
          "base_uri": "https://localhost:8080/"
        },
        "outputId": "6abbcb27-83fa-430b-a317-1909742de944"
      },
      "execution_count": 41,
      "outputs": [
        {
          "output_type": "execute_result",
          "data": {
            "text/plain": [
              "[3, 4, 2, 1, 5]"
            ]
          },
          "metadata": {},
          "execution_count": 41
        }
      ]
    },
    {
      "cell_type": "code",
      "source": [],
      "metadata": {
        "id": "GzsImsYD6YxT"
      },
      "execution_count": null,
      "outputs": []
    }
  ]
}
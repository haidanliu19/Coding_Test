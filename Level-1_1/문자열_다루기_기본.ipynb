{
  "nbformat": 4,
  "nbformat_minor": 0,
  "metadata": {
    "colab": {
      "provenance": []
    },
    "kernelspec": {
      "name": "python3",
      "display_name": "Python 3"
    },
    "language_info": {
      "name": "python"
    }
  },
  "cells": [
    {
      "cell_type": "markdown",
      "source": [
        "출처 : 프로그래머스"
      ],
      "metadata": {
        "id": "dqWdCl1cQ9ML"
      }
    },
    {
      "cell_type": "code",
      "source": [
        "def solution(s):\n",
        "    answer = True\n",
        "    if len(s) != 4 and len(s) != 6:\n",
        "        answer = False\n",
        "    try:\n",
        "        int(s)\n",
        "    except ValueError:\n",
        "        answer = False\n",
        "    return answer\n",
        "\n",
        "\n",
        "s = \"a234\"\n",
        "solution(s)"
      ],
      "metadata": {
        "colab": {
          "base_uri": "https://localhost:8080/"
        },
        "id": "0IR1NBGtwk-M",
        "outputId": "c42e2689-df5a-4b76-9d58-0d6c0dfcf6d7"
      },
      "execution_count": 26,
      "outputs": [
        {
          "output_type": "execute_result",
          "data": {
            "text/plain": [
              "False"
            ]
          },
          "metadata": {},
          "execution_count": 26
        }
      ]
    },
    {
      "cell_type": "code",
      "source": [],
      "metadata": {
        "id": "RQfGl2nhu0U1"
      },
      "execution_count": null,
      "outputs": []
    },
    {
      "cell_type": "code",
      "source": [],
      "metadata": {
        "id": "4b9cq1BwtxSt"
      },
      "execution_count": null,
      "outputs": []
    }
  ]
}
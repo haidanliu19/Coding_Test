{
  "nbformat": 4,
  "nbformat_minor": 0,
  "metadata": {
    "colab": {
      "provenance": []
    },
    "kernelspec": {
      "name": "python3",
      "display_name": "Python 3"
    },
    "language_info": {
      "name": "python"
    }
  },
  "cells": [
    {
      "cell_type": "markdown",
      "source": [
        "출처 : 프로그래머스"
      ],
      "metadata": {
        "id": "dqWdCl1cQ9ML"
      }
    },
    {
      "cell_type": "code",
      "source": [
        "def solution(x):\n",
        "    return True if x%sum(list(map(int, str(x)))) ==0 else False\n",
        "\n",
        "x = 10\t\n",
        "solution(x)"
      ],
      "metadata": {
        "colab": {
          "base_uri": "https://localhost:8080/"
        },
        "id": "0IR1NBGtwk-M",
        "outputId": "f2ecb9ac-6feb-40ad-edbe-b8963e92bf1c"
      },
      "execution_count": 5,
      "outputs": [
        {
          "output_type": "execute_result",
          "data": {
            "text/plain": [
              "True"
            ]
          },
          "metadata": {},
          "execution_count": 5
        }
      ]
    },
    {
      "cell_type": "code",
      "source": [
        "def solution(x):\n",
        "    return x%sum(list(map(int, str(x)))) ==0\n",
        "\n",
        "x = 10\t\n",
        "solution(x)"
      ],
      "metadata": {
        "colab": {
          "base_uri": "https://localhost:8080/"
        },
        "id": "ytxA6sRMO3cS",
        "outputId": "24d87e7e-9c2d-4294-8ad5-fef620d908c4"
      },
      "execution_count": 6,
      "outputs": [
        {
          "output_type": "execute_result",
          "data": {
            "text/plain": [
              "True"
            ]
          },
          "metadata": {},
          "execution_count": 6
        }
      ]
    }
  ]
}
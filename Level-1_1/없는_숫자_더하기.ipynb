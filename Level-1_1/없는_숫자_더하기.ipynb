{
  "nbformat": 4,
  "nbformat_minor": 0,
  "metadata": {
    "colab": {
      "provenance": []
    },
    "kernelspec": {
      "name": "python3",
      "display_name": "Python 3"
    },
    "language_info": {
      "name": "python"
    }
  },
  "cells": [
    {
      "cell_type": "markdown",
      "source": [
        "출처 : 프로그래머스"
      ],
      "metadata": {
        "id": "dqWdCl1cQ9ML"
      }
    },
    {
      "cell_type": "code",
      "source": [
        "def solution(numbers):\n",
        "    # filter(lambda u: u[\"mail\"].endswith(\"@gmail.com\"), users)\n",
        "    answer = sum(filter(lambda u: u if u not in numbers else 0, range(0, 10)))\n",
        "    return answer\n",
        "\n",
        "numbers = [1,2,3,4,6,7,8,0]\n",
        "solution(numbers)"
      ],
      "metadata": {
        "colab": {
          "base_uri": "https://localhost:8080/"
        },
        "id": "W2SJ7BNO6wRF",
        "outputId": "90a392af-e45e-4681-c465-2f6a63ec1548"
      },
      "execution_count": 9,
      "outputs": [
        {
          "output_type": "execute_result",
          "data": {
            "text/plain": [
              "14"
            ]
          },
          "metadata": {},
          "execution_count": 9
        }
      ]
    },
    {
      "cell_type": "code",
      "source": [],
      "metadata": {
        "id": "ctUddbnNgS3Y"
      },
      "execution_count": null,
      "outputs": []
    }
  ]
}
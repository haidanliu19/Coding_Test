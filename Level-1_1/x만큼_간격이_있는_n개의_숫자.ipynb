{
  "nbformat": 4,
  "nbformat_minor": 0,
  "metadata": {
    "colab": {
      "provenance": []
    },
    "kernelspec": {
      "name": "python3",
      "display_name": "Python 3"
    },
    "language_info": {
      "name": "python"
    }
  },
  "cells": [
    {
      "cell_type": "markdown",
      "source": [
        "출처 : 프로그래머스"
      ],
      "metadata": {
        "id": "dqWdCl1cQ9ML"
      }
    },
    {
      "cell_type": "code",
      "source": [
        "def solution(x, n):\n",
        "    answer = []\n",
        "    cnt = 1\n",
        "    while len(answer) < n:\n",
        "        answer.append(x * cnt)\n",
        "        cnt += 1\n",
        "    return answer\n",
        " \n",
        "x = 2\n",
        "n = 5\n",
        "solution(x, n)"
      ],
      "metadata": {
        "colab": {
          "base_uri": "https://localhost:8080/"
        },
        "id": "0IR1NBGtwk-M",
        "outputId": "310c488f-97d3-492c-cd5b-2da363183d11"
      },
      "execution_count": 13,
      "outputs": [
        {
          "output_type": "execute_result",
          "data": {
            "text/plain": [
              "[2, 4, 6, 8, 10]"
            ]
          },
          "metadata": {},
          "execution_count": 13
        }
      ]
    },
    {
      "cell_type": "code",
      "source": [
        "def solution(x, n):\n",
        "    answer = []\n",
        "    if x > 10000000 or x < -10000000:\n",
        "        return answer\n",
        "    if n > 1000:\n",
        "        return answer\n",
        "    result = [i for i in range(1,n+1)]\n",
        "    for i in result:\n",
        "        answer.append(x* i)\n",
        "    \n",
        "    return answer"
      ],
      "metadata": {
        "id": "rGTrXhYPaR4d"
      },
      "execution_count": null,
      "outputs": []
    }
  ]
}
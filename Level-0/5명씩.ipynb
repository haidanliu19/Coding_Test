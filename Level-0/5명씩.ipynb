{
  "nbformat": 4,
  "nbformat_minor": 0,
  "metadata": {
    "colab": {
      "provenance": []
    },
    "kernelspec": {
      "name": "python3",
      "display_name": "Python 3"
    },
    "language_info": {
      "name": "python"
    }
  },
  "cells": [
    {
      "cell_type": "code",
      "execution_count": 31,
      "metadata": {
        "colab": {
          "base_uri": "https://localhost:8080/"
        },
        "id": "8CD9FAe4zYuw",
        "outputId": "713bc2a0-9466-4363-8bb3-b3473f40e860"
      },
      "outputs": [
        {
          "output_type": "execute_result",
          "data": {
            "text/plain": [
              "['nami', 'vex']"
            ]
          },
          "metadata": {},
          "execution_count": 31
        }
      ],
      "source": [
        "def solution(names):\n",
        "    answer = []\n",
        "    for i, val in enumerate(names):\n",
        "        if i % 5 ==0:\n",
        "            answer.append(val)\n",
        "    return answer\n",
        "\n",
        "names = [\"nami\", \"ahri\", \"jayce\", \"garen\", \"ivern\", \"vex\", \"jinx\"]\n",
        "solution(names)"
      ]
    },
    {
      "cell_type": "code",
      "source": [
        "def solution(names):\n",
        "    answer = [val for i, val in enumerate(names) if i % 5 ==0]\n",
        "    return answer\n",
        "\n",
        "names = [\"nami\", \"ahri\", \"jayce\", \"garen\", \"ivern\", \"vex\", \"jinx\"]\n",
        "solution(names)"
      ],
      "metadata": {
        "id": "SIz85oS9rg0b",
        "colab": {
          "base_uri": "https://localhost:8080/"
        },
        "outputId": "f2af4334-991f-44c4-c289-777ed1215f35"
      },
      "execution_count": 33,
      "outputs": [
        {
          "output_type": "execute_result",
          "data": {
            "text/plain": [
              "['nami', 'vex']"
            ]
          },
          "metadata": {},
          "execution_count": 33
        }
      ]
    },
    {
      "cell_type": "code",
      "source": [],
      "metadata": {
        "id": "Po7j6_uABR30"
      },
      "execution_count": null,
      "outputs": []
    }
  ]
}
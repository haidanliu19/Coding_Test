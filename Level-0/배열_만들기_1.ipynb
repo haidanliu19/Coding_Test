{
  "nbformat": 4,
  "nbformat_minor": 0,
  "metadata": {
    "colab": {
      "provenance": []
    },
    "kernelspec": {
      "name": "python3",
      "display_name": "Python 3"
    },
    "language_info": {
      "name": "python"
    }
  },
  "cells": [
    {
      "cell_type": "code",
      "execution_count": 22,
      "metadata": {
        "colab": {
          "base_uri": "https://localhost:8080/"
        },
        "id": "8CD9FAe4zYuw",
        "outputId": "7acc7564-c36a-4a19-a77f-d6e13de6abbe"
      },
      "outputs": [
        {
          "output_type": "execute_result",
          "data": {
            "text/plain": [
              "[3, 6, 9]"
            ]
          },
          "metadata": {},
          "execution_count": 22
        }
      ],
      "source": [
        "def solution(n, k):\n",
        "    answer = list(range(k, n+1, k))\n",
        "    return answer\n",
        "\n",
        "n = 10\n",
        "k = 3\n",
        "solution(n, k)"
      ]
    },
    {
      "cell_type": "code",
      "source": [],
      "metadata": {
        "id": "Po7j6_uABR30"
      },
      "execution_count": null,
      "outputs": []
    }
  ]
}
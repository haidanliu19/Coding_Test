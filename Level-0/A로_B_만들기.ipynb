{
  "nbformat": 4,
  "nbformat_minor": 0,
  "metadata": {
    "colab": {
      "provenance": [],
      "collapsed_sections": []
    },
    "kernelspec": {
      "name": "python3",
      "display_name": "Python 3"
    },
    "language_info": {
      "name": "python"
    }
  },
  "cells": [
    {
      "cell_type": "markdown",
      "source": [
        "출처 : 프로그래머스"
      ],
      "metadata": {
        "id": "dqWdCl1cQ9ML"
      }
    },
    {
      "cell_type": "code",
      "source": [
        "\n",
        "def solution(before, after):\n",
        "    answer = 0\n",
        "    for i in before:\n",
        "        if i in after:\n",
        "            after = after.replace(i, '', 1)\n",
        "    answer = 1 if len(after) == 0 else 0\n",
        "    return answer\n",
        "\n",
        "before = \"olleh\"\n",
        "after = \"hello\"\n",
        "solution(before, after)"
      ],
      "metadata": {
        "id": "KH5ecB_tUzj1",
        "outputId": "e714ea0a-70f2-4ca6-97b7-fba83289dcb4",
        "colab": {
          "base_uri": "https://localhost:8080/"
        }
      },
      "execution_count": 101,
      "outputs": [
        {
          "output_type": "execute_result",
          "data": {
            "text/plain": [
              "1"
            ]
          },
          "metadata": {},
          "execution_count": 101
        }
      ]
    }
  ]
}
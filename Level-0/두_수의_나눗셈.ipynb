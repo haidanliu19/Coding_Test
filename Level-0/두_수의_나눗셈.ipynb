{
  "nbformat": 4,
  "nbformat_minor": 0,
  "metadata": {
    "colab": {
      "provenance": [],
      "collapsed_sections": []
    },
    "kernelspec": {
      "name": "python3",
      "display_name": "Python 3"
    },
    "language_info": {
      "name": "python"
    }
  },
  "cells": [
    {
      "cell_type": "markdown",
      "source": [
        "출처 : 프로그래머스"
      ],
      "metadata": {
        "id": "Q64C9ISTte12"
      }
    },
    {
      "cell_type": "code",
      "source": [
        "def solution(num1, num2):\n",
        "    answer = int((num1  / num2 ) * 1000)\n",
        "    return answer\n",
        "\n",
        "num1 = 3\n",
        "num2 = 2\n",
        "solution(num1, num2)"
      ],
      "metadata": {
        "colab": {
          "base_uri": "https://localhost:8080/"
        },
        "id": "NBZL-jl9zIru",
        "outputId": "ab73f3a5-0199-4f2d-acf1-5ea74f467418"
      },
      "execution_count": 64,
      "outputs": [
        {
          "output_type": "execute_result",
          "data": {
            "text/plain": [
              "1500"
            ]
          },
          "metadata": {},
          "execution_count": 64
        }
      ]
    }
  ]
}
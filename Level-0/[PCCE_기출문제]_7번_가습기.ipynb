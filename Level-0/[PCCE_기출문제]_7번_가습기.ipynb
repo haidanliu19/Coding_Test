{
  "nbformat": 4,
  "nbformat_minor": 0,
  "metadata": {
    "colab": {
      "provenance": []
    },
    "kernelspec": {
      "name": "python3",
      "display_name": "Python 3"
    },
    "language_info": {
      "name": "python"
    }
  },
  "cells": [
    {
      "cell_type": "code",
      "execution_count": 5,
      "metadata": {
        "colab": {
          "base_uri": "https://localhost:8080/"
        },
        "id": "8CD9FAe4zYuw",
        "outputId": "9c5223c0-41a0-4735-a527-e98bc85dba38"
      },
      "outputs": [
        {
          "output_type": "execute_result",
          "data": {
            "text/plain": [
              "3"
            ]
          },
          "metadata": {},
          "execution_count": 5
        }
      ],
      "source": [
        "def func1(humidity, val_set):\n",
        "    if humidity < val_set:\n",
        "        return 3\n",
        "    return 1\n",
        "\n",
        "def func2(humidity):\n",
        "    if humidity >= 50:\n",
        "        return 0\n",
        "    elif humidity >= 40:\n",
        "        return 1\n",
        "    elif humidity >= 30:\n",
        "        return 2\n",
        "    elif humidity >= 20:\n",
        "        return 3\n",
        "    elif humidity >= 10:\n",
        "        return 4\n",
        "    else:\n",
        "        return 5\n",
        "\n",
        "\n",
        "def func3(humidity, val_set):\n",
        "    if humidity < val_set:\n",
        "        return 1\n",
        "    return 0\n",
        "\n",
        "\n",
        "def solution(mode_type, humidity, val_set):\n",
        "    answer = 0\n",
        "    if mode_type == \"auto\":\n",
        "        answer = func2(humidity)\n",
        "\n",
        "    elif mode_type == \"target\":\n",
        "        answer = func1(humidity, val_set)\n",
        "\n",
        "    elif mode_type == \"minimum\":\n",
        "        answer = func3(humidity, val_set)\n",
        "\n",
        "    return answer\n",
        "\n",
        "mode_type =  \"auto\"\n",
        "humidity = 23\n",
        "val_set = 45\n",
        "solution(mode_type, humidity, val_set)"
      ]
    },
    {
      "cell_type": "code",
      "source": [],
      "metadata": {
        "id": "RnQow7H65s4w"
      },
      "execution_count": null,
      "outputs": []
    }
  ]
}
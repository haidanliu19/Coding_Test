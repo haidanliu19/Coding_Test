{
  "nbformat": 4,
  "nbformat_minor": 0,
  "metadata": {
    "colab": {
      "provenance": []
    },
    "kernelspec": {
      "name": "python3",
      "display_name": "Python 3"
    },
    "language_info": {
      "name": "python"
    }
  },
  "cells": [
    {
      "cell_type": "code",
      "execution_count": 19,
      "metadata": {
        "colab": {
          "base_uri": "https://localhost:8080/"
        },
        "id": "8CD9FAe4zYuw",
        "outputId": "7929c42d-bde2-43a7-b629-d5be27fbef25"
      },
      "outputs": [
        {
          "output_type": "execute_result",
          "data": {
            "text/plain": [
              "[1, 6, 2]"
            ]
          },
          "metadata": {},
          "execution_count": 19
        }
      ],
      "source": [
        "def solution(num_list, n):\n",
        "    answer = num_list[n:] + num_list[:n]\n",
        "    return answer\n",
        "\n",
        "num_list = [2, 1, 6]\n",
        "n = 1\n",
        "solution(num_list, n)"
      ]
    },
    {
      "cell_type": "code",
      "source": [],
      "metadata": {
        "id": "Po7j6_uABR30"
      },
      "execution_count": null,
      "outputs": []
    }
  ]
}
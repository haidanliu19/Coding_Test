{
  "nbformat": 4,
  "nbformat_minor": 0,
  "metadata": {
    "colab": {
      "provenance": []
    },
    "kernelspec": {
      "name": "python3",
      "display_name": "Python 3"
    },
    "language_info": {
      "name": "python"
    }
  },
  "cells": [
    {
      "cell_type": "code",
      "execution_count": 46,
      "metadata": {
        "colab": {
          "base_uri": "https://localhost:8080/"
        },
        "id": "8CD9FAe4zYuw",
        "outputId": "a7511ba8-3aaf-4647-97b0-127cfda633c2"
      },
      "outputs": [
        {
          "output_type": "execute_result",
          "data": {
            "text/plain": [
              "17"
            ]
          },
          "metadata": {},
          "execution_count": 46
        }
      ],
      "source": [
        "def solution(num_list):\n",
        "    a, b =  0, 0\n",
        "    for i, val in enumerate(num_list):\n",
        "        if i % 2:\n",
        "            a += val\n",
        "        else:\n",
        "            b += val\n",
        "    answer = max(a, b)\n",
        "    return answer\n",
        "\n",
        "num_list = [4, 2, 6, 1, 7, 6]\n",
        "solution(num_list)"
      ]
    },
    {
      "cell_type": "code",
      "source": [],
      "metadata": {
        "id": "Po7j6_uABR30"
      },
      "execution_count": null,
      "outputs": []
    }
  ]
}
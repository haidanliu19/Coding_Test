{
  "nbformat": 4,
  "nbformat_minor": 0,
  "metadata": {
    "colab": {
      "provenance": []
    },
    "kernelspec": {
      "name": "python3",
      "display_name": "Python 3"
    },
    "language_info": {
      "name": "python"
    }
  },
  "cells": [
    {
      "cell_type": "code",
      "execution_count": 49,
      "metadata": {
        "colab": {
          "base_uri": "https://localhost:8080/"
        },
        "id": "8CD9FAe4zYuw",
        "outputId": "b5e51e5f-166d-415c-b2aa-ce0b741e9a0f"
      },
      "outputs": [
        {
          "output_type": "execute_result",
          "data": {
            "text/plain": [
              "30"
            ]
          },
          "metadata": {},
          "execution_count": 49
        }
      ],
      "source": [
        "def solution(a, b, c, d):\n",
        "    answer = 0\n",
        "    list_ = [a, b, c, d]\n",
        "    list_cnt = {}\n",
        "    p, q, r = 0, 0, 0\n",
        "    # dict key : 값 value : 값 개수\n",
        "    for i in list_:\n",
        "        list_cnt[i] = list_cnt.get(i, 0) + 1\n",
        "    # 값이 잴 많은 개수 로 정렬 한다.\n",
        "    list_cnt= dict(sorted(list_cnt.items(), key = lambda item: -item[1]))\n",
        "    # 최대 개수를 뽑는다.\n",
        "    max_value= max(list_cnt.values())\n",
        "    # 최대 개수가 4일 경우 = 같을 경우\n",
        "    if max_value == 4:\n",
        "        p = a\n",
        "        answer = 1111 * p\n",
        "    # 3개 같을 경우\n",
        "    elif max_value ==  3:\n",
        "        p, q  = list(list_cnt.keys())[0],  list(list_cnt.keys())[1]\n",
        "        answer = ( 10 * p + q ) ** 2\n",
        "    # 2개가 같은 것 있을 경우\n",
        "    elif max_value == 2:\n",
        "        # 다른 값이 2개 일 경우\n",
        "        if len(list(list_cnt.keys())) == 2:\n",
        "            p, q = list(list_cnt.keys())[0],  list(list_cnt.keys())[1]\n",
        "            answer = ( p + q) * abs(p - q)\n",
        "        # 다른 값이 3개 일 경우\n",
        "        else:\n",
        "            p = list(list_cnt.keys())[0]\n",
        "            list_1 = [i for i in list_ if p != i]\n",
        "            q, r = list_1[0], list_1[1]\n",
        "            answer = q * r\n",
        "    # 다를 경우\n",
        "    else:\n",
        "        answer = min(list_)\n",
        "    return answer\n",
        "\n",
        "a = 2\n",
        "b = 5\n",
        "c = 2\n",
        "d = 6\n",
        "solution(a, b, c, d)"
      ]
    },
    {
      "cell_type": "code",
      "source": [],
      "metadata": {
        "id": "xI6F7-IOF_5p"
      },
      "execution_count": null,
      "outputs": []
    }
  ]
}
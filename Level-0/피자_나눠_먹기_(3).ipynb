{
  "nbformat": 4,
  "nbformat_minor": 0,
  "metadata": {
    "colab": {
      "provenance": []
    },
    "kernelspec": {
      "name": "python3",
      "display_name": "Python 3"
    },
    "language_info": {
      "name": "python"
    }
  },
  "cells": [
    {
      "cell_type": "markdown",
      "source": [
        "출처 : 프로그래머스"
      ],
      "metadata": {
        "id": "dqWdCl1cQ9ML"
      }
    },
    {
      "cell_type": "code",
      "source": [
        "def solution(slice, n):\n",
        "    answer = 0\n",
        "    div, mod = divmod(n, slice)\n",
        "    answer = div\n",
        "    if mod > 0:\n",
        "        answer += 1\n",
        "    return answer\n",
        "\n",
        "slice = 7\n",
        "n = 10\n",
        "solution(slice, n)"
      ],
      "metadata": {
        "colab": {
          "base_uri": "https://localhost:8080/"
        },
        "id": "0IR1NBGtwk-M",
        "outputId": "19d49027-48ab-4a7f-c2f7-1826ed849271"
      },
      "execution_count": 120,
      "outputs": [
        {
          "output_type": "execute_result",
          "data": {
            "text/plain": [
              "2"
            ]
          },
          "metadata": {},
          "execution_count": 120
        }
      ]
    }
  ]
}
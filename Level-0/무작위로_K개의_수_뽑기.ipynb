{
  "nbformat": 4,
  "nbformat_minor": 0,
  "metadata": {
    "colab": {
      "provenance": []
    },
    "kernelspec": {
      "name": "python3",
      "display_name": "Python 3"
    },
    "language_info": {
      "name": "python"
    }
  },
  "cells": [
    {
      "cell_type": "code",
      "execution_count": 100,
      "metadata": {
        "colab": {
          "base_uri": "https://localhost:8080/"
        },
        "id": "8CD9FAe4zYuw",
        "outputId": "4fca122a-a7c0-4bec-ec18-dad5d4e93895"
      },
      "outputs": [
        {
          "output_type": "execute_result",
          "data": {
            "text/plain": [
              "[0, 1, -1, -1]"
            ]
          },
          "metadata": {},
          "execution_count": 100
        }
      ],
      "source": [
        "def solution(arr, k):\n",
        "    answer = []\n",
        "    for i in arr:\n",
        "        if i not in answer:\n",
        "            answer.append(i)\n",
        "    answer = answer[:k]\n",
        "    answer += (k - len(answer) ) * [-1]\n",
        "    return answer\n",
        "\n",
        "\n",
        "arr =  [0, 1, 0, 1]\n",
        "k = 4\n",
        "solution(arr, k)"
      ]
    },
    {
      "cell_type": "code",
      "source": [],
      "metadata": {
        "id": "myJcOx1arqoq"
      },
      "execution_count": null,
      "outputs": []
    }
  ]
}
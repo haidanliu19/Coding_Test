{
  "nbformat": 4,
  "nbformat_minor": 0,
  "metadata": {
    "colab": {
      "provenance": [],
      "collapsed_sections": []
    },
    "kernelspec": {
      "name": "python3",
      "display_name": "Python 3"
    },
    "language_info": {
      "name": "python"
    }
  },
  "cells": [
    {
      "cell_type": "markdown",
      "source": [
        "출처 : 프로그래머스"
      ],
      "metadata": {
        "id": "dqWdCl1cQ9ML"
      }
    },
    {
      "cell_type": "code",
      "source": [
        "def solution(lines):\n",
        "    answer = 0\n",
        "    for i in lines:\n",
        "        i.sort()\n",
        "    lines1 = [[i for i in range(line[0], line[1] )] for line in lines]\n",
        "    results = []\n",
        "    for i in lines1:\n",
        "        for j in i:\n",
        "            if j not in results:\n",
        "                results.append(j)\n",
        "            else:\n",
        "                results.remove(j)\n",
        "                answer += 1\n",
        "    return answer\n",
        "\n",
        "lines =  [[0, 5], [3, 9], [1, 10]]\n",
        "solution(lines)"
      ],
      "metadata": {
        "colab": {
          "base_uri": "https://localhost:8080/"
        },
        "id": "3gUPhRb17k2c",
        "outputId": "9ef74893-ebdc-4d10-9bd8-9eb519412e8d"
      },
      "execution_count": 71,
      "outputs": [
        {
          "output_type": "execute_result",
          "data": {
            "text/plain": [
              "8"
            ]
          },
          "metadata": {},
          "execution_count": 71
        }
      ]
    },
    {
      "cell_type": "code",
      "source": [
        "def solution(lines):\n",
        "    answer = 0\n",
        "    # -100 ≤ a < b ≤ 100\n",
        "    lines1 = [set(range(min(line), max(line))) for line in lines]\n",
        "    results = []\n",
        "    for i in range(len(lines1)-1):\n",
        "        for j in range(i+1 , len(lines1)):\n",
        "            result = lines1[i] & lines1[j]\n",
        "            results += result        \n",
        "    print(results)   \n",
        "    return  len(set(results))\n",
        "\n",
        "\n",
        "lines = [[0, 1], [2, 3], [0, 4]]\n",
        "solution(lines)"
      ],
      "metadata": {
        "colab": {
          "base_uri": "https://localhost:8080/"
        },
        "id": "aRGA7OdlGRwY",
        "outputId": "e84ba2ec-4bd5-4ee8-98e5-a2d6fbe826df"
      },
      "execution_count": 157,
      "outputs": [
        {
          "output_type": "stream",
          "name": "stdout",
          "text": [
            "[0, 2]\n"
          ]
        },
        {
          "output_type": "execute_result",
          "data": {
            "text/plain": [
              "2"
            ]
          },
          "metadata": {},
          "execution_count": 157
        }
      ]
    },
    {
      "cell_type": "code",
      "source": [
        "# 테스트 케이스 1, 9 오류가 난다. \n",
        "def solution(lines):\n",
        "    answer = 0\n",
        "    # -100 ≤ a < b ≤ 100\n",
        "    for i in lines:\n",
        "        i.sort()\n",
        "    lines1 = [[i for i in range(min(line), max(line) + 1)] for line in lines]\n",
        "    results = []\n",
        "    for i in range(len(lines1)-1):\n",
        "        for j in range(i+1 , len(lines1)):\n",
        "            result = list(set(lines1[i]) & set(lines1[j]))\n",
        "            print(result)\n",
        "            if len(result) > 1:\n",
        "                results += result\n",
        "    print(results)\n",
        "    answer = len(set(results))-1  if len(results) > 0 else 0 \n",
        "    return answer\n",
        "\n",
        "lines =[[0, 1], [2, 3], [0, 4]]\n",
        "solution(lines)"
      ],
      "metadata": {
        "colab": {
          "base_uri": "https://localhost:8080/"
        },
        "id": "AVSxriqjN7Po",
        "outputId": "d120261c-65f5-4cf9-8154-923cbb85c4ad"
      },
      "execution_count": 156,
      "outputs": [
        {
          "output_type": "stream",
          "name": "stdout",
          "text": [
            "[]\n",
            "[0, 1]\n",
            "[2, 3]\n",
            "[0, 1, 2, 3]\n"
          ]
        },
        {
          "output_type": "execute_result",
          "data": {
            "text/plain": [
              "3"
            ]
          },
          "metadata": {},
          "execution_count": 156
        }
      ]
    }
  ]
}
{
  "nbformat": 4,
  "nbformat_minor": 0,
  "metadata": {
    "colab": {
      "provenance": []
    },
    "kernelspec": {
      "name": "python3",
      "display_name": "Python 3"
    },
    "language_info": {
      "name": "python"
    }
  },
  "cells": [
    {
      "cell_type": "code",
      "execution_count": 38,
      "metadata": {
        "colab": {
          "base_uri": "https://localhost:8080/",
          "height": 0
        },
        "id": "8CD9FAe4zYuw",
        "outputId": "f84feea1-e491-4a5f-f812-0000e97bfee4"
      },
      "outputs": [
        {
          "output_type": "execute_result",
          "data": {
            "text/plain": [
              "0"
            ]
          },
          "metadata": {},
          "execution_count": 38
        }
      ],
      "source": [
        "def solution(number, n, m):\n",
        "    answer =  int( (number % n == 0) & (number % m == 0))\n",
        "    return answer\n",
        "\n",
        "\n",
        "number = 55\n",
        "n = 10\n",
        "m = 5\n",
        "solution(number, n, m)"
      ]
    },
    {
      "cell_type": "code",
      "source": [],
      "metadata": {
        "id": "9prk0MIOtmaT"
      },
      "execution_count": null,
      "outputs": []
    }
  ]
}
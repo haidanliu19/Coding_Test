{
  "nbformat": 4,
  "nbformat_minor": 0,
  "metadata": {
    "colab": {
      "provenance": []
    },
    "kernelspec": {
      "name": "python3",
      "display_name": "Python 3"
    },
    "language_info": {
      "name": "python"
    }
  },
  "cells": [
    {
      "cell_type": "markdown",
      "source": [
        "출처 : 프로그래머스"
      ],
      "metadata": {
        "id": "dqWdCl1cQ9ML"
      }
    },
    {
      "cell_type": "code",
      "source": [
        "def solution(denum1, num1, denum2, num2):\n",
        "    # 최소 공배수 구하기 \n",
        "    for i in range(max(num1, num2) , num1 * num2 + 1):\n",
        "        if i % num1 == 0 and i % num2 == 0:\n",
        "            lcm = i\n",
        "            break\n",
        "    denominator = lcm# 분모\n",
        "    molecule = denum1 * (lcm // num1) + denum2 * (lcm // num2)# 분자\n",
        "    # 나누어질 때 \n",
        "    if molecule %  denominator == 0:\n",
        "        molecule = molecule // denominator\n",
        "        denominator = denominator // denominator\n",
        "    for i in range(2, denominator + 1):\n",
        "        if molecule % i == 0 and denominator%i ==0:\n",
        "            molecule = molecule // i\n",
        "            denominator = denominator // i\n",
        "    answer = [molecule, denominator]\n",
        "    return answer\n",
        "\n",
        "denum1 = 2\n",
        "num1 = 512\n",
        "denum2 = 512\n",
        "num2 = 512\n",
        "solution(denum1, num1, denum2, num2)"
      ],
      "metadata": {
        "colab": {
          "base_uri": "https://localhost:8080/"
        },
        "id": "0IR1NBGtwk-M",
        "outputId": "01f992cf-9460-4a09-e9ae-a7f150e8fbf4"
      },
      "execution_count": 37,
      "outputs": [
        {
          "output_type": "execute_result",
          "data": {
            "text/plain": [
              "[257, 256]"
            ]
          },
          "metadata": {},
          "execution_count": 37
        }
      ]
    }
  ]
}
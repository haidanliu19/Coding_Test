{
  "nbformat": 4,
  "nbformat_minor": 0,
  "metadata": {
    "colab": {
      "provenance": []
    },
    "kernelspec": {
      "name": "python3",
      "display_name": "Python 3"
    },
    "language_info": {
      "name": "python"
    }
  },
  "cells": [
    {
      "cell_type": "code",
      "execution_count": 32,
      "metadata": {
        "colab": {
          "base_uri": "https://localhost:8080/"
        },
        "id": "8CD9FAe4zYuw",
        "outputId": "67896cc1-3f8c-44d2-d54c-ab0b6adc0308"
      },
      "outputs": [
        {
          "output_type": "execute_result",
          "data": {
            "text/plain": [
              "3"
            ]
          },
          "metadata": {},
          "execution_count": 32
        }
      ],
      "source": [
        "def solution(arr, idx):\n",
        "    answer = -1\n",
        "    arr_ = arr[idx :]\n",
        "    if 1 in arr_:\n",
        "        return idx + arr_.index(1)\n",
        "    return answer\n",
        "\n",
        "arr = [1, 1, 1, 1, 0]\n",
        "idx = 3\n",
        "solution(arr, idx)"
      ]
    },
    {
      "cell_type": "code",
      "source": [],
      "metadata": {
        "id": "Po7j6_uABR30"
      },
      "execution_count": null,
      "outputs": []
    }
  ]
}
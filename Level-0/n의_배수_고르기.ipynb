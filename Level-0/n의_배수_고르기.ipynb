{
  "nbformat": 4,
  "nbformat_minor": 0,
  "metadata": {
    "colab": {
      "provenance": [],
      "collapsed_sections": []
    },
    "kernelspec": {
      "name": "python3",
      "display_name": "Python 3"
    },
    "language_info": {
      "name": "python"
    }
  },
  "cells": [
    {
      "cell_type": "markdown",
      "source": [
        "출처 : 프로그래머스"
      ],
      "metadata": {
        "id": "dqWdCl1cQ9ML"
      }
    },
    {
      "cell_type": "code",
      "execution_count": 71,
      "metadata": {
        "colab": {
          "base_uri": "https://localhost:8080/"
        },
        "id": "Z4ZPUi_8Qr8C",
        "outputId": "b0ba2a57-9179-4709-aeb4-945870319ed5"
      },
      "outputs": [
        {
          "output_type": "execute_result",
          "data": {
            "text/plain": [
              "[6, 9, 12]"
            ]
          },
          "metadata": {},
          "execution_count": 71
        }
      ],
      "source": [
        "def solution(n, numlist):\n",
        "    answer = [i for i in numlist if i % n == 0]\n",
        "    return answer\n",
        "\n",
        "n = 3\n",
        "numlist = [4, 5, 6, 7, 8, 9, 10, 11, 12]\n",
        "solution(n, numlist)"
      ]
    }
  ]
}
{
  "nbformat": 4,
  "nbformat_minor": 0,
  "metadata": {
    "colab": {
      "provenance": [],
      "collapsed_sections": []
    },
    "kernelspec": {
      "name": "python3",
      "display_name": "Python 3"
    },
    "language_info": {
      "name": "python"
    }
  },
  "cells": [
    {
      "cell_type": "markdown",
      "source": [
        "출처 : 프로그래머스"
      ],
      "metadata": {
        "id": "dqWdCl1cQ9ML"
      }
    },
    {
      "cell_type": "code",
      "source": [
        "def solution(dots):\n",
        "    answer = 0\n",
        "    except_list = [i for  i in range(0, 4)]\n",
        "    list_ = []\n",
        "    for i in range(len(dots)-1):\n",
        "        for j in range(i +1, len(dots)):\n",
        "            list_1 =[]\n",
        "            except_list_1 = [k for k in except_list if i != k and j != k]\n",
        "            list_1.append(i)\n",
        "            list_1.append(j)\n",
        "            list_1.extend(except_list_1)\n",
        "            list_.append(list_1)\n",
        "    for i in list_:\n",
        "        x1 = abs(dots[i[0]][0] - dots[i[1]][0])\n",
        "        y1 = abs(dots[i[0]][1] - dots[i[1]][1])\n",
        "        x2 = abs(dots[i[2]][0] - dots[i[3]][0])\n",
        "        y2 = abs(dots[i[2]][1] - dots[i[3]][1])\n",
        "        print(dots[i[0]], dots[i[1]], dots[i[2]], dots[i[3]], x1, x2, y1, y2)\n",
        "        if (x1 / x2) == (y1 / y2):\n",
        "            answer = 1\n",
        "            return answer\n",
        "    return answer\n",
        "\n",
        "dots = [[1, 4], [9, 2], [3, 8], [11, 6]]\n",
        "solution(dots)"
      ],
      "metadata": {
        "colab": {
          "base_uri": "https://localhost:8080/",
          "height": 0
        },
        "id": "0IR1NBGtwk-M",
        "outputId": "35c22197-d50f-4afa-aa1c-00f17803eb36"
      },
      "execution_count": 88,
      "outputs": [
        {
          "output_type": "stream",
          "name": "stdout",
          "text": [
            "[1, 4] [9, 2] [3, 8] [11, 6] 8 8 2 2\n"
          ]
        },
        {
          "output_type": "execute_result",
          "data": {
            "text/plain": [
              "1"
            ]
          },
          "metadata": {},
          "execution_count": 88
        }
      ]
    },
    {
      "cell_type": "code",
      "source": [
        "# 이것은 틀렸다. \n",
        "def solution(dots):\n",
        "    answer = 0\n",
        "    except_list = [i for  i in range(0, 4)]\n",
        "    list_ = []\n",
        "    for i in range(len(dots)-1):\n",
        "        for j in range(i +1, len(dots)):\n",
        "            list_1 =[]\n",
        "            except_list_1 = [k for k in except_list if i != k and j != k]\n",
        "            list_1.append(i)\n",
        "            list_1.append(j)\n",
        "            list_1.extend(except_list_1)\n",
        "            list_.append(list_1)\n",
        "    for i in list_:\n",
        "        x1 = abs(dots[i[0]][0] - dots[i[1]][0])\n",
        "        y1 = abs(dots[i[0]][1] - dots[i[1]][1])\n",
        "        x2 = abs(dots[i[2]][0] - dots[i[3]][0])\n",
        "        y2 = abs(dots[i[2]][1] - dots[i[3]][1])\n",
        "        #print(dots[i[0]], dots[i[1]], dots[i[2]], dots[i[3]], x1, x2, y1, y2)\n",
        "        if x1 == x2 and y1 == y2:\n",
        "            answer = 1\n",
        "            return answer\n",
        "    return answer\n",
        "\n",
        "dots = [[1, 4], [9, 2], [3, 8], [11, 6]]\n",
        "solution(dots)"
      ],
      "metadata": {
        "colab": {
          "base_uri": "https://localhost:8080/",
          "height": 0
        },
        "id": "3gUPhRb17k2c",
        "outputId": "79a7eba6-0a1f-43c7-a25d-109074635b1f"
      },
      "execution_count": 51,
      "outputs": [
        {
          "output_type": "stream",
          "name": "stdout",
          "text": [
            "[1, 4] [9, 2] [3, 8] [11, 6] 8 8 2 2\n"
          ]
        },
        {
          "output_type": "execute_result",
          "data": {
            "text/plain": [
              "1"
            ]
          },
          "metadata": {},
          "execution_count": 51
        }
      ]
    },
    {
      "cell_type": "code",
      "source": [],
      "metadata": {
        "id": "rYpzbBTSt0zF"
      },
      "execution_count": null,
      "outputs": []
    }
  ]
}
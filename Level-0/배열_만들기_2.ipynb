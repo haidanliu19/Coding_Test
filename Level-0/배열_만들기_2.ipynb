{
  "nbformat": 4,
  "nbformat_minor": 0,
  "metadata": {
    "colab": {
      "provenance": []
    },
    "kernelspec": {
      "name": "python3",
      "display_name": "Python 3"
    },
    "language_info": {
      "name": "python"
    }
  },
  "cells": [
    {
      "cell_type": "code",
      "execution_count": 82,
      "metadata": {
        "colab": {
          "base_uri": "https://localhost:8080/"
        },
        "id": "8CD9FAe4zYuw",
        "outputId": "951dc309-313b-4aad-cc01-f9ccf2b79256"
      },
      "outputs": [
        {
          "output_type": "execute_result",
          "data": {
            "text/plain": [
              "[-1]"
            ]
          },
          "metadata": {},
          "execution_count": 82
        }
      ],
      "source": [
        "def solution(l, r ):\n",
        "    answer = []\n",
        "    str_ = \"12346789\"\n",
        "\n",
        "    for i in range(l, r + 1):\n",
        "        result = True\n",
        "        for j in str(i):\n",
        "            if j in str_:\n",
        "                result = False\n",
        "                break\n",
        "        if result:\n",
        "            answer.append(i)\n",
        "\n",
        "    return [-1] if answer == [] else answer\n",
        "\n",
        "l = 10\n",
        "r = 20\n",
        "solution(l, r)"
      ]
    },
    {
      "cell_type": "code",
      "source": [],
      "metadata": {
        "id": "xI6F7-IOF_5p"
      },
      "execution_count": null,
      "outputs": []
    }
  ]
}
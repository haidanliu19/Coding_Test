{
  "nbformat": 4,
  "nbformat_minor": 0,
  "metadata": {
    "colab": {
      "provenance": []
    },
    "kernelspec": {
      "name": "python3",
      "display_name": "Python 3"
    },
    "language_info": {
      "name": "python"
    }
  },
  "cells": [
    {
      "cell_type": "markdown",
      "source": [
        "출처 : 프로그래머스"
      ],
      "metadata": {
        "id": "dqWdCl1cQ9ML"
      }
    },
    {
      "cell_type": "code",
      "source": [
        "def solution(numbers, direction):\n",
        "    answer = []\n",
        "    if direction == \"right\":\n",
        "        answer = numbers[-1:] + numbers[0:-1]\n",
        "    else:\n",
        "        answer = numbers[1:] + numbers[:1]\n",
        "    return answer\n",
        "\n",
        "numbers = [1, 2, 3]\n",
        "direction = \"right\"\n",
        "solution(numbers, direction)"
      ],
      "metadata": {
        "colab": {
          "base_uri": "https://localhost:8080/"
        },
        "id": "0IR1NBGtwk-M",
        "outputId": "6737d635-6801-418d-90e1-a8989e789ecd"
      },
      "execution_count": 5,
      "outputs": [
        {
          "output_type": "execute_result",
          "data": {
            "text/plain": [
              "[3, 1, 2]"
            ]
          },
          "metadata": {},
          "execution_count": 5
        }
      ]
    },
    {
      "cell_type": "code",
      "source": [
        "10 * 8"
      ],
      "metadata": {
        "colab": {
          "base_uri": "https://localhost:8080/"
        },
        "id": "fNHr9u-EE51c",
        "outputId": "7ddc9fcb-423a-486c-e273-b3dd8ff96173"
      },
      "execution_count": null,
      "outputs": [
        {
          "output_type": "execute_result",
          "data": {
            "text/plain": [
              "80"
            ]
          },
          "metadata": {},
          "execution_count": 52
        }
      ]
    },
    {
      "cell_type": "code",
      "source": [],
      "metadata": {
        "id": "9rG_2BxtDXLt"
      },
      "execution_count": null,
      "outputs": []
    }
  ]
}
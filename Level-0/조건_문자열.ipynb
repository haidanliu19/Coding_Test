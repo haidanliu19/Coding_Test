{
  "nbformat": 4,
  "nbformat_minor": 0,
  "metadata": {
    "colab": {
      "provenance": []
    },
    "kernelspec": {
      "name": "python3",
      "display_name": "Python 3"
    },
    "language_info": {
      "name": "python"
    }
  },
  "cells": [
    {
      "cell_type": "code",
      "execution_count": 5,
      "metadata": {
        "colab": {
          "base_uri": "https://localhost:8080/"
        },
        "id": "8CD9FAe4zYuw",
        "outputId": "c4fb40b7-415f-4a20-bb51-b43a8e15e06a"
      },
      "outputs": [
        {
          "output_type": "execute_result",
          "data": {
            "text/plain": [
              "1"
            ]
          },
          "metadata": {},
          "execution_count": 5
        }
      ],
      "source": [
        "def solution(ineq, eq, n, m):\n",
        "    answer = int(eval(str(n) + ineq + (\"\" if eq == \"!\" else eq) + str(m)))\n",
        "    return answer\n",
        "\n",
        "ineq = \"<\"\n",
        "eq = \"=\"\n",
        "n = 20\n",
        "m = 50\n",
        "solution(ineq, eq, n, m)"
      ]
    },
    {
      "cell_type": "code",
      "source": [],
      "metadata": {
        "id": "87gSwOfMU7z5"
      },
      "execution_count": null,
      "outputs": []
    }
  ]
}
{
  "nbformat": 4,
  "nbformat_minor": 0,
  "metadata": {
    "colab": {
      "provenance": []
    },
    "kernelspec": {
      "name": "python3",
      "display_name": "Python 3"
    },
    "language_info": {
      "name": "python"
    }
  },
  "cells": [
    {
      "cell_type": "markdown",
      "source": [
        "출처 : 프로그래머스"
      ],
      "metadata": {
        "id": "dqWdCl1cQ9ML"
      }
    },
    {
      "cell_type": "code",
      "source": [
        "def solution(dot):\n",
        "    answer = 0\n",
        "    x, y = dot\n",
        "    if x > 0 and y > 0:\n",
        "        answer = 1\n",
        "    elif x > 0 and y < 0:\n",
        "        answer = 4\n",
        "    elif x < 0 and y > 0:\n",
        "        answer = 2\n",
        "    else:\n",
        "        answer = 3\n",
        "    return answer\n",
        "\n",
        "dot = [2, 4]\n",
        "solution(dot)"
      ],
      "metadata": {
        "colab": {
          "base_uri": "https://localhost:8080/"
        },
        "id": "0IR1NBGtwk-M",
        "outputId": "73538ba3-849a-4d94-ff72-8d2223a4af60"
      },
      "execution_count": 38,
      "outputs": [
        {
          "output_type": "execute_result",
          "data": {
            "text/plain": [
              "1"
            ]
          },
          "metadata": {},
          "execution_count": 38
        }
      ]
    },
    {
      "cell_type": "code",
      "source": [],
      "metadata": {
        "id": "9rG_2BxtDXLt"
      },
      "execution_count": null,
      "outputs": []
    }
  ]
}
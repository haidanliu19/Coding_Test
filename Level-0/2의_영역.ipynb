{
  "nbformat": 4,
  "nbformat_minor": 0,
  "metadata": {
    "colab": {
      "provenance": []
    },
    "kernelspec": {
      "name": "python3",
      "display_name": "Python 3"
    },
    "language_info": {
      "name": "python"
    }
  },
  "cells": [
    {
      "cell_type": "code",
      "execution_count": 15,
      "metadata": {
        "colab": {
          "base_uri": "https://localhost:8080/"
        },
        "id": "8CD9FAe4zYuw",
        "outputId": "8be15200-0725-489e-a1ed-82a854b57ab1"
      },
      "outputs": [
        {
          "output_type": "execute_result",
          "data": {
            "text/plain": [
              "[2, 1, 4, 5, 2]"
            ]
          },
          "metadata": {},
          "execution_count": 15
        }
      ],
      "source": [
        "def solution(arr):\n",
        "    answer = [-1]\n",
        "    if 2 in arr:\n",
        "        if arr.count(2) >= 2:\n",
        "            start = arr.index(2)\n",
        "            end = len(arr) - arr[::-1].index(2)\n",
        "            answer = arr[start:end]\n",
        "        else:\n",
        "            start = arr.index(2)\n",
        "            answer = arr[start:start+1]\n",
        "    return answer\n",
        "\n",
        "arr = [1, 2, 1, 4, 5, 2, 9]\n",
        "solution(arr)"
      ]
    },
    {
      "cell_type": "code",
      "source": [],
      "metadata": {
        "id": "Po7j6_uABR30"
      },
      "execution_count": null,
      "outputs": []
    }
  ]
}
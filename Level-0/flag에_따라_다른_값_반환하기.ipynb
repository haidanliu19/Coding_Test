{
  "nbformat": 4,
  "nbformat_minor": 0,
  "metadata": {
    "colab": {
      "provenance": []
    },
    "kernelspec": {
      "name": "python3",
      "display_name": "Python 3"
    },
    "language_info": {
      "name": "python"
    }
  },
  "cells": [
    {
      "cell_type": "code",
      "execution_count": 38,
      "metadata": {
        "colab": {
          "base_uri": "https://localhost:8080/"
        },
        "id": "8CD9FAe4zYuw",
        "outputId": "2a79058c-9858-4055-e867-34b596b10482"
      },
      "outputs": [
        {
          "output_type": "execute_result",
          "data": {
            "text/plain": [
              "3"
            ]
          },
          "metadata": {},
          "execution_count": 38
        }
      ],
      "source": [
        "def solution(a, b, flag):\n",
        "    answer = a + b if flag else a - b\n",
        "    return answer\n",
        "\n",
        "a = -4\n",
        "b = 7\n",
        "flag = True\n",
        "solution(a, b, flag)"
      ]
    },
    {
      "cell_type": "code",
      "source": [],
      "metadata": {
        "id": "87gSwOfMU7z5"
      },
      "execution_count": null,
      "outputs": []
    }
  ]
}
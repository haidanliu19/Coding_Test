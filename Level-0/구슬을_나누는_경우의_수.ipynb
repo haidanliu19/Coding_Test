{
  "nbformat": 4,
  "nbformat_minor": 0,
  "metadata": {
    "colab": {
      "provenance": []
    },
    "kernelspec": {
      "name": "python3",
      "display_name": "Python 3"
    },
    "language_info": {
      "name": "python"
    }
  },
  "cells": [
    {
      "cell_type": "markdown",
      "source": [
        "출처 : 프로그래머스"
      ],
      "metadata": {
        "id": "dqWdCl1cQ9ML"
      }
    },
    {
      "cell_type": "code",
      "source": [
        "def solution(balls, share):\n",
        "    m, n, nm = 1,1,1\n",
        "    for i in range(1, balls + 1):\n",
        "        n *= i\n",
        "    for i in range(1, share + 1):\n",
        "        m *= i\n",
        "    for i in range(1, balls-share + 1):\n",
        "        nm *= i\n",
        "    answer = n // (m * nm)\n",
        "    \n",
        "    return answer\n",
        "\n",
        "balls = 3\n",
        "share = 2\n",
        "solution(balls, share)"
      ],
      "metadata": {
        "colab": {
          "base_uri": "https://localhost:8080/"
        },
        "id": "0IR1NBGtwk-M",
        "outputId": "8a70086d-b221-4509-aa38-55ed57094a5d"
      },
      "execution_count": 63,
      "outputs": [
        {
          "output_type": "execute_result",
          "data": {
            "text/plain": [
              "3"
            ]
          },
          "metadata": {},
          "execution_count": 63
        }
      ]
    },
    {
      "cell_type": "code",
      "source": [
        "from functools import reduce\n",
        "def solution(balls, share):\n",
        "    n = reduce(lambda x, y: x * y, [i for i in range(1, balls + 1)])\n",
        "    m = reduce(lambda x, y: x * y, [i for i in range(1, share + 1)])\n",
        "    nm = reduce(lambda x, y: x * y, [i for i in range(1, balls-share + 1)])\n",
        "    answer = n // (m * nm)\n",
        "    return answer\n",
        "\n",
        "balls = 3\n",
        "share = 2\n",
        "solution(balls, share)"
      ],
      "metadata": {
        "id": "9rG_2BxtDXLt"
      },
      "execution_count": null,
      "outputs": []
    }
  ]
}
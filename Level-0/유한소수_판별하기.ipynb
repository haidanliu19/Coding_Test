{
  "nbformat": 4,
  "nbformat_minor": 0,
  "metadata": {
    "colab": {
      "provenance": [],
      "collapsed_sections": []
    },
    "kernelspec": {
      "name": "python3",
      "display_name": "Python 3"
    },
    "language_info": {
      "name": "python"
    }
  },
  "cells": [
    {
      "cell_type": "markdown",
      "source": [
        "출처 : 프로그래머스"
      ],
      "metadata": {
        "id": "dqWdCl1cQ9ML"
      }
    },
    {
      "cell_type": "code",
      "source": [
        "def solution(a, b):\n",
        "    answer = 1\n",
        "    for i in range(2, a + 1):\n",
        "        if a % i == 0 and b % i == 0:\n",
        "            a = a // i\n",
        "            b = b // i\n",
        "    result = []\n",
        "    c = 2\n",
        "    while c <= b:\n",
        "        if b % c == 0:\n",
        "            b = b// c\n",
        "            result.append(c)\n",
        "        else: \n",
        "            c += 1\n",
        "    for i in result:\n",
        "        if i != 2 and i != 5:\n",
        "            answer = 2\n",
        "    return answer\n",
        "\n",
        "a = 7\n",
        "b = 20\n",
        "solution(a, b)"
      ],
      "metadata": {
        "colab": {
          "base_uri": "https://localhost:8080/"
        },
        "id": "pUX8RwSfSuqL",
        "outputId": "333204d9-3cf4-4b33-fb05-6b14d71ec8ec"
      },
      "execution_count": 177,
      "outputs": [
        {
          "output_type": "execute_result",
          "data": {
            "text/plain": [
              "1"
            ]
          },
          "metadata": {},
          "execution_count": 177
        }
      ]
    }
  ]
}
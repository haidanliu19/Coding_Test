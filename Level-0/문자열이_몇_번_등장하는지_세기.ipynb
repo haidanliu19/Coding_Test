{
  "nbformat": 4,
  "nbformat_minor": 0,
  "metadata": {
    "colab": {
      "provenance": []
    },
    "kernelspec": {
      "name": "python3",
      "display_name": "Python 3"
    },
    "language_info": {
      "name": "python"
    }
  },
  "cells": [
    {
      "cell_type": "code",
      "execution_count": 20,
      "metadata": {
        "colab": {
          "base_uri": "https://localhost:8080/"
        },
        "id": "8CD9FAe4zYuw",
        "outputId": "74341311-6e38-4339-8f1b-5df513ab5007"
      },
      "outputs": [
        {
          "output_type": "execute_result",
          "data": {
            "text/plain": [
              "3"
            ]
          },
          "metadata": {},
          "execution_count": 20
        }
      ],
      "source": [
        "def solution(myString, pat):\n",
        "    answer = 0\n",
        "\n",
        "    for i in range(len(myString)):\n",
        "        val = myString[i:][:len(pat)]\n",
        "        if val == pat:\n",
        "            answer += 1\n",
        "    return answer\n",
        "\n",
        "myString = \t\"aaaa\"\n",
        "pat = \"aa\"\n",
        "solution(myString, pat)"
      ]
    },
    {
      "cell_type": "code",
      "source": [],
      "metadata": {
        "id": "SIz85oS9rg0b"
      },
      "execution_count": null,
      "outputs": []
    }
  ]
}
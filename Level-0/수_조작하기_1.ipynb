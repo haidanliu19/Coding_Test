{
  "nbformat": 4,
  "nbformat_minor": 0,
  "metadata": {
    "colab": {
      "provenance": []
    },
    "kernelspec": {
      "name": "python3",
      "display_name": "Python 3"
    },
    "language_info": {
      "name": "python"
    }
  },
  "cells": [
    {
      "cell_type": "code",
      "execution_count": 25,
      "metadata": {
        "colab": {
          "base_uri": "https://localhost:8080/"
        },
        "id": "8CD9FAe4zYuw",
        "outputId": "3e4c4b64-e0b5-45af-c504-a86e2175df2c"
      },
      "outputs": [
        {
          "output_type": "execute_result",
          "data": {
            "text/plain": [
              "-1"
            ]
          },
          "metadata": {},
          "execution_count": 25
        }
      ],
      "source": [
        "def solution(n, control):\n",
        "    answer = n\n",
        "    dict_ = {\"w\": 1 , \"s\" : -1, \"d\" : 10, \"a\" : -10}\n",
        "    for i in control :\n",
        "        answer += dict_.get(i)\n",
        "    return answer\n",
        "\n",
        "n = 0\n",
        "control = \"wsdawsdassw\"\n",
        "solution(n, control)"
      ]
    },
    {
      "cell_type": "code",
      "source": [],
      "metadata": {
        "id": "xI6F7-IOF_5p"
      },
      "execution_count": null,
      "outputs": []
    }
  ]
}
{
  "nbformat": 4,
  "nbformat_minor": 0,
  "metadata": {
    "colab": {
      "provenance": []
    },
    "kernelspec": {
      "name": "python3",
      "display_name": "Python 3"
    },
    "language_info": {
      "name": "python"
    }
  },
  "cells": [
    {
      "cell_type": "markdown",
      "source": [
        "출처 : 프로그래머스"
      ],
      "metadata": {
        "id": "dqWdCl1cQ9ML"
      }
    },
    {
      "cell_type": "code",
      "source": [
        "def solution(polynomial):\n",
        "    answer = ''\n",
        "    list_ = polynomial.split(\" + \")\n",
        "    x_set = []\n",
        "    for i in list_:\n",
        "        if i == 'x':\n",
        "            i = '1x'\n",
        "        x_set.append((i.count('x'), i, i.replace('x', ''))) # i.strip(\"x\")[0] -> i.replace('x', '') # test 5,6,7 제외\n",
        "    x_set_sort = sorted(x_set, reverse = True)\n",
        "\n",
        "    sum_x = 0\n",
        "    sum_ = 0\n",
        "    for x_set in x_set_sort:\n",
        "        i, j  = x_set[0] , x_set[2]\n",
        "        if i == 1:\n",
        "            sum_x += int(j)\n",
        "        else:\n",
        "            sum_ += int(j)\n",
        "    if sum_x == 1: # test_case : 테스트 12, 테스트 10 , 테스트 8\n",
        "        sum_x = ''\n",
        "    if sum_ > 0:\n",
        "        if sum_x == 0:\n",
        "            answer = str(sum_) \n",
        "        else:\n",
        "            answer = str(sum_x) +\"x\" + \" + \" + str(sum_) \n",
        "    else:\n",
        "        answer = str(sum_x) +\"x\"\n",
        "\n",
        "    return answer\n",
        "\n",
        "polynomial = \"3x + 7 + x\"\n",
        "solution(polynomial)"
      ],
      "metadata": {
        "colab": {
          "base_uri": "https://localhost:8080/",
          "height": 35
        },
        "id": "0IR1NBGtwk-M",
        "outputId": "14d9d427-967e-4d2c-e1ba-55fcb235b988"
      },
      "execution_count": 70,
      "outputs": [
        {
          "output_type": "execute_result",
          "data": {
            "text/plain": [
              "'4x + 7'"
            ],
            "application/vnd.google.colaboratory.intrinsic+json": {
              "type": "string"
            }
          },
          "metadata": {},
          "execution_count": 70
        }
      ]
    },
    {
      "cell_type": "code",
      "source": [],
      "metadata": {
        "id": "bdk5pxKnRcZx"
      },
      "execution_count": null,
      "outputs": []
    }
  ]
}
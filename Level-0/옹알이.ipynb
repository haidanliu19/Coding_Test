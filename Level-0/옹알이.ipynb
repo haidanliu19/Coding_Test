{
  "nbformat": 4,
  "nbformat_minor": 0,
  "metadata": {
    "colab": {
      "provenance": [],
      "collapsed_sections": []
    },
    "kernelspec": {
      "name": "python3",
      "display_name": "Python 3"
    },
    "language_info": {
      "name": "python"
    }
  },
  "cells": [
    {
      "cell_type": "markdown",
      "source": [
        "출처 : 프로그래머스"
      ],
      "metadata": {
        "id": "Q64C9ISTte12"
      }
    },
    {
      "cell_type": "code",
      "source": [
        "def solution(babbling):\n",
        "    list_ = [\"aya\", \"ye\", \"woo\", \"ma\"]\n",
        "    answer = 0\n",
        "    for i in babbling:\n",
        "        for j in list_:\n",
        "            # 조카는 아직 \"aya\", \"ye\", \"woo\", \"ma\" 네 가지 발음과 네 가지 발음을 조합해서 \n",
        "            # 만들 수 있는 발음밖에 하지 못하고 연속해서 같은 발음을 하는 것을 어려워합니다. \n",
        "            if j*2 not in i:\n",
        "                i = i.replace(j, '')\n",
        "        if i == \"\":\n",
        "            answer += 1\n",
        "    return answer\n",
        "\n",
        "babbling = [\"aya\", \"yee\", \"u\", \"maa\"]\n",
        "solution(babbling)"
      ],
      "metadata": {
        "colab": {
          "base_uri": "https://localhost:8080/"
        },
        "id": "NBZL-jl9zIru",
        "outputId": "39221748-9891-4112-ac54-5077913c4bfc"
      },
      "execution_count": 107,
      "outputs": [
        {
          "output_type": "execute_result",
          "data": {
            "text/plain": [
              "1"
            ]
          },
          "metadata": {},
          "execution_count": 107
        }
      ]
    },
    {
      "cell_type": "code",
      "source": [
        "def solution(babbling):\n",
        "    list_ = [\"aya\", \"ye\", \"woo\", \"ma\"]\n",
        "    answer = 0\n",
        "    for i in babbling:\n",
        "        for j in list_:\n",
        "            # 조카는 아직 \"aya\", \"ye\", \"woo\", \"ma\" 네 가지 발음과 네 가지 발음을 조합해서 \n",
        "            # 만들 수 있는 발음밖에 하지 못하고 연속해서 같은 발음을 하는 것을 어려워합니다. \n",
        "            if j not in i:\n",
        "                i = i.replace(j, ' ')\n",
        "        if i.strip() == \"\":\n",
        "            answer += 1\n",
        "    return answer"
      ],
      "metadata": {
        "id": "_iF0OSqzDunn"
      },
      "execution_count": 106,
      "outputs": []
    }
  ]
}
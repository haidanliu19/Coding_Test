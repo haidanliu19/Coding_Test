{
  "nbformat": 4,
  "nbformat_minor": 0,
  "metadata": {
    "colab": {
      "provenance": []
    },
    "kernelspec": {
      "name": "python3",
      "display_name": "Python 3"
    },
    "language_info": {
      "name": "python"
    }
  },
  "cells": [
    {
      "cell_type": "code",
      "execution_count": 101,
      "metadata": {
        "colab": {
          "base_uri": "https://localhost:8080/"
        },
        "id": "8CD9FAe4zYuw",
        "outputId": "6fa7ef2a-6059-4aff-ed9b-d78536f65b7d"
      },
      "outputs": [
        {
          "output_type": "execute_result",
          "data": {
            "text/plain": [
              "-1"
            ]
          },
          "metadata": {},
          "execution_count": 101
        }
      ],
      "source": [
        "def solution(arr1, arr2):\n",
        "    answer = 0\n",
        "    len_arr1, len_arr2 = len(arr1), len(arr2)\n",
        "    sum_arr1, sum_arr2 = sum(arr1), sum(arr2)\n",
        "    if len_arr1 > len_arr2:\n",
        "        answer = 1\n",
        "    elif len_arr1 < len_arr2:\n",
        "        answer = -1\n",
        "    else:\n",
        "        if sum_arr1 > sum_arr2:\n",
        "            answer = 1\n",
        "        elif sum_arr1 < sum_arr2:\n",
        "            answer = -1\n",
        "    return answer\n",
        "\n",
        "arr1 = [49, 13]\n",
        "arr2 = [70, 11, 2]\n",
        "solution(arr1, arr2)"
      ]
    },
    {
      "cell_type": "code",
      "source": [],
      "metadata": {
        "id": "myJcOx1arqoq"
      },
      "execution_count": null,
      "outputs": []
    }
  ]
}
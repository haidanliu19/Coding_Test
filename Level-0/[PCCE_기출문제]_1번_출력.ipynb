{
  "nbformat": 4,
  "nbformat_minor": 0,
  "metadata": {
    "colab": {
      "provenance": []
    },
    "kernelspec": {
      "name": "python3",
      "display_name": "Python 3"
    },
    "language_info": {
      "name": "python"
    }
  },
  "cells": [
    {
      "cell_type": "code",
      "execution_count": 24,
      "metadata": {
        "colab": {
          "base_uri": "https://localhost:8080/"
        },
        "id": "8CD9FAe4zYuw",
        "outputId": "9860f4be-54f9-4255-a174-b2cf0e62cd91"
      },
      "outputs": [
        {
          "output_type": "stream",
          "name": "stdout",
          "text": [
            "Spring is beginning\n",
            "13\n",
            "310\n"
          ]
        }
      ],
      "source": [
        "string_msg = \"Spring is beginning\"\n",
        "\n",
        "int_val = 3\n",
        "\n",
        "string_val = \"3\"\n",
        "\n",
        "\n",
        "print(string_msg)\n",
        "print(int_val + 10)\n",
        "print(string_val + \"10\")"
      ]
    },
    {
      "cell_type": "code",
      "source": [],
      "metadata": {
        "id": "RnQow7H65s4w"
      },
      "execution_count": null,
      "outputs": []
    }
  ]
}
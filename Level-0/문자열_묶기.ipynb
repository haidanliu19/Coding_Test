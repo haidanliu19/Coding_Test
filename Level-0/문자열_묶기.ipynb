{
  "nbformat": 4,
  "nbformat_minor": 0,
  "metadata": {
    "colab": {
      "provenance": []
    },
    "kernelspec": {
      "name": "python3",
      "display_name": "Python 3"
    },
    "language_info": {
      "name": "python"
    }
  },
  "cells": [
    {
      "cell_type": "code",
      "execution_count": 102,
      "metadata": {
        "colab": {
          "base_uri": "https://localhost:8080/"
        },
        "id": "8CD9FAe4zYuw",
        "outputId": "0fc931de-4054-4a88-9b1a-fec1ba09a12f"
      },
      "outputs": [
        {
          "output_type": "execute_result",
          "data": {
            "text/plain": [
              "2"
            ]
          },
          "metadata": {},
          "execution_count": 102
        }
      ],
      "source": [
        "def solution(strArr):\n",
        "    strLenArr = ([len(i) for i in strArr])\n",
        "    strSetArr = set(strLenArr)\n",
        "    answer = max([strLenArr.count(i) for i in strSetArr])\n",
        "    return answer\n",
        "\n",
        "strArr = [\"a\",\"bc\",\"d\",\"efg\",\"hi\"]\n",
        "solution(strArr)"
      ]
    },
    {
      "cell_type": "code",
      "source": [],
      "metadata": {
        "id": "myJcOx1arqoq"
      },
      "execution_count": null,
      "outputs": []
    }
  ]
}
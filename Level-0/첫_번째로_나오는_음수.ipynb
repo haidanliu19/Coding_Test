{
  "nbformat": 4,
  "nbformat_minor": 0,
  "metadata": {
    "colab": {
      "provenance": []
    },
    "kernelspec": {
      "name": "python3",
      "display_name": "Python 3"
    },
    "language_info": {
      "name": "python"
    }
  },
  "cells": [
    {
      "cell_type": "code",
      "execution_count": 19,
      "metadata": {
        "colab": {
          "base_uri": "https://localhost:8080/"
        },
        "id": "8CD9FAe4zYuw",
        "outputId": "5488902e-4440-4fdb-9a73-01cc6a8d5a1c"
      },
      "outputs": [
        {
          "output_type": "execute_result",
          "data": {
            "text/plain": [
              "5"
            ]
          },
          "metadata": {},
          "execution_count": 19
        }
      ],
      "source": [
        "def solution(num_list):\n",
        "    answer = -1\n",
        "    for i, val in enumerate(num_list):\n",
        "        if val < 0:\n",
        "            answer = i\n",
        "            break\n",
        "    return answer\n",
        "\n",
        "num_list = [12, 4, 15, 46, 38, -2, 15]\n",
        "solution(num_list)"
      ]
    },
    {
      "cell_type": "code",
      "source": [],
      "metadata": {
        "id": "Po7j6_uABR30"
      },
      "execution_count": null,
      "outputs": []
    }
  ]
}
{
  "nbformat": 4,
  "nbformat_minor": 0,
  "metadata": {
    "colab": {
      "provenance": []
    },
    "kernelspec": {
      "name": "python3",
      "display_name": "Python 3"
    },
    "language_info": {
      "name": "python"
    }
  },
  "cells": [
    {
      "cell_type": "markdown",
      "source": [
        "출처 : 프로그래머스"
      ],
      "metadata": {
        "id": "dqWdCl1cQ9ML"
      }
    },
    {
      "cell_type": "code",
      "source": [
        "def solution(order):\n",
        "    price_4500 = [\"iceamericano\", \"americanoice\", \"hotamericano\", \"americanohot\", \"americano\", \"anything\"]\n",
        "    price_5000 = [\"icecafelatte\", \"cafelatteice\", \"hotcafelatte\", \"cafelattehot\", \"cafelatte\"]\n",
        "    answer = sum([4500 if i in price_4500 else 5000 for i in order])\n",
        "    return answer\n",
        "\n",
        "order = [\"cafelatte\", \"americanoice\", \"hotcafelatte\", \"anything\"]\n",
        "solution(order)"
      ],
      "metadata": {
        "colab": {
          "base_uri": "https://localhost:8080/"
        },
        "id": "W2SJ7BNO6wRF",
        "outputId": "4a3dbb46-262b-4a9f-df69-8233094c81bb"
      },
      "execution_count": 54,
      "outputs": [
        {
          "output_type": "execute_result",
          "data": {
            "text/plain": [
              "19000"
            ]
          },
          "metadata": {},
          "execution_count": 54
        }
      ]
    },
    {
      "cell_type": "code",
      "source": [],
      "metadata": {
        "id": "oDe44oe2pZdt"
      },
      "execution_count": 37,
      "outputs": []
    },
    {
      "cell_type": "code",
      "source": [],
      "metadata": {
        "id": "tGPhxvNJouAX"
      },
      "execution_count": null,
      "outputs": []
    }
  ]
}
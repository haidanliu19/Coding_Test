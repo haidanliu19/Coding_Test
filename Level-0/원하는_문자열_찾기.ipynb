{
  "nbformat": 4,
  "nbformat_minor": 0,
  "metadata": {
    "colab": {
      "provenance": []
    },
    "kernelspec": {
      "name": "python3",
      "display_name": "Python 3"
    },
    "language_info": {
      "name": "python"
    }
  },
  "cells": [
    {
      "cell_type": "code",
      "execution_count": 24,
      "metadata": {
        "colab": {
          "base_uri": "https://localhost:8080/"
        },
        "id": "8CD9FAe4zYuw",
        "outputId": "d1715a4e-4d1c-4832-ecc3-c5626bdb1f2e"
      },
      "outputs": [
        {
          "output_type": "execute_result",
          "data": {
            "text/plain": [
              "1"
            ]
          },
          "metadata": {},
          "execution_count": 24
        }
      ],
      "source": [
        "def solution(myString, pat):\n",
        "    answer =1 if pat.lower() in myString.lower() else 0\n",
        "    return answer\n",
        "\n",
        "myString = \"AbCdEfG\"\n",
        "pat = \"aBc\"\n",
        "solution(myString, pat)"
      ]
    },
    {
      "cell_type": "code",
      "source": [],
      "metadata": {
        "id": "SIz85oS9rg0b"
      },
      "execution_count": null,
      "outputs": []
    }
  ]
}
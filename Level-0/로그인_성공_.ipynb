{
  "nbformat": 4,
  "nbformat_minor": 0,
  "metadata": {
    "colab": {
      "provenance": [],
      "collapsed_sections": []
    },
    "kernelspec": {
      "name": "python3",
      "display_name": "Python 3"
    },
    "language_info": {
      "name": "python"
    }
  },
  "cells": [
    {
      "cell_type": "markdown",
      "source": [
        "출처 : 프로그래머스"
      ],
      "metadata": {
        "id": "dqWdCl1cQ9ML"
      }
    },
    {
      "cell_type": "code",
      "source": [
        "def solution(id_pw, db):\n",
        "    answer = ''\n",
        "    for i in db:\n",
        "        id, pw = id_pw[0], id_pw[1]\n",
        "        if id_pw == i:\n",
        "            answer = 'login'\n",
        "            break\n",
        "        if id in i and pw not in i:\n",
        "            answer = 'wrong pw'\n",
        "            break\n",
        "        else:\n",
        "            answer = 'fail'\n",
        "    return answer\n",
        "\n",
        "id_pw = [\"meosseugi\", \"1234\"]\n",
        "db = [[\"rardss\", \"123\"], [\"yyoom\", \"1234\"], [\"meosseugi\", \"1234\"]]\n",
        "solution(id_pw, db)"
      ],
      "metadata": {
        "colab": {
          "base_uri": "https://localhost:8080/",
          "height": 35
        },
        "id": "pUX8RwSfSuqL",
        "outputId": "f641d734-2a1f-429e-92ca-1cca564e7f74"
      },
      "execution_count": 126,
      "outputs": [
        {
          "output_type": "execute_result",
          "data": {
            "text/plain": [
              "'login'"
            ],
            "application/vnd.google.colaboratory.intrinsic+json": {
              "type": "string"
            }
          },
          "metadata": {},
          "execution_count": 126
        }
      ]
    }
  ]
}
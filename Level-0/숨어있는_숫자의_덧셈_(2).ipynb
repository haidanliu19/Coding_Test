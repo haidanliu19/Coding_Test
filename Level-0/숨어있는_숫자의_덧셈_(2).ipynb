{
  "nbformat": 4,
  "nbformat_minor": 0,
  "metadata": {
    "colab": {
      "provenance": []
    },
    "kernelspec": {
      "name": "python3",
      "display_name": "Python 3"
    },
    "language_info": {
      "name": "python"
    }
  },
  "cells": [
    {
      "cell_type": "markdown",
      "source": [
        "출처 : 프로그래머스"
      ],
      "metadata": {
        "id": "dqWdCl1cQ9ML"
      }
    },
    {
      "cell_type": "code",
      "source": [
        "def solution(my_string):\n",
        "    answer = 0\n",
        "    my_strings = \"\"\n",
        "    for i in my_string:\n",
        "        if i.isdigit():\n",
        "            my_strings += i\n",
        "        else:\n",
        "            my_strings += \" \"\n",
        "    list_ = list(filter(None, my_strings.split(\" \")))\n",
        "    answer = sum(list(map(int, list_)))\n",
        "    return answer\n",
        "\n",
        "my_string = \"aAb1B2cC34oOp\"\n",
        "solution(my_string)"
      ],
      "metadata": {
        "colab": {
          "base_uri": "https://localhost:8080/"
        },
        "id": "0IR1NBGtwk-M",
        "outputId": "ff33a219-f8ac-4717-8cf0-85ed0b729006"
      },
      "execution_count": 107,
      "outputs": [
        {
          "output_type": "execute_result",
          "data": {
            "text/plain": [
              "37"
            ]
          },
          "metadata": {},
          "execution_count": 107
        }
      ]
    },
    {
      "cell_type": "code",
      "source": [],
      "metadata": {
        "id": "93fwa2h4VETF"
      },
      "execution_count": null,
      "outputs": []
    },
    {
      "cell_type": "code",
      "source": [],
      "metadata": {
        "id": "bdk5pxKnRcZx"
      },
      "execution_count": null,
      "outputs": []
    }
  ]
}
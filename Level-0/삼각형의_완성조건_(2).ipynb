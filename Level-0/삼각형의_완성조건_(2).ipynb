{
  "nbformat": 4,
  "nbformat_minor": 0,
  "metadata": {
    "colab": {
      "provenance": [],
      "collapsed_sections": []
    },
    "kernelspec": {
      "name": "python3",
      "display_name": "Python 3"
    },
    "language_info": {
      "name": "python"
    }
  },
  "cells": [
    {
      "cell_type": "markdown",
      "source": [
        "출처 : 프로그래머스"
      ],
      "metadata": {
        "id": "dqWdCl1cQ9ML"
      }
    },
    {
      "cell_type": "code",
      "source": [
        "def solution(sides):\n",
        "    answer = 0\n",
        "    max_side_1 = max(sides)\n",
        "    min_side = min(sides)\n",
        "    result = [i for i in range(max_side_1- min_side +1, max_side_1 + 1)]\n",
        "   \n",
        "    max_side_2 = sum(sides) - 1\n",
        "    result_1 =  [i for i in range(max_side_1+1, max_side_2 + 1)]\n",
        "    #print(result, result_1)\n",
        "    answer = len(result) + len(result_1)\n",
        "    return answer\n",
        "\n",
        "sides =[11, 7]\n",
        "solution(sides)"
      ],
      "metadata": {
        "colab": {
          "base_uri": "https://localhost:8080/"
        },
        "id": "0IR1NBGtwk-M",
        "outputId": "1a557144-2da2-4d45-e484-123e84636bcb"
      },
      "execution_count": 49,
      "outputs": [
        {
          "output_type": "stream",
          "name": "stdout",
          "text": [
            "[5, 6, 7, 8, 9, 10, 11] [12, 13, 14, 15, 16, 17]\n"
          ]
        },
        {
          "output_type": "execute_result",
          "data": {
            "text/plain": [
              "13"
            ]
          },
          "metadata": {},
          "execution_count": 49
        }
      ]
    },
    {
      "cell_type": "code",
      "source": [],
      "metadata": {
        "id": "bdk5pxKnRcZx"
      },
      "execution_count": null,
      "outputs": []
    }
  ]
}
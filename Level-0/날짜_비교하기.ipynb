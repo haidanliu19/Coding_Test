{
  "nbformat": 4,
  "nbformat_minor": 0,
  "metadata": {
    "colab": {
      "provenance": []
    },
    "kernelspec": {
      "name": "python3",
      "display_name": "Python 3"
    },
    "language_info": {
      "name": "python"
    }
  },
  "cells": [
    {
      "cell_type": "markdown",
      "source": [
        "출처 : 프로그래머스"
      ],
      "metadata": {
        "id": "dqWdCl1cQ9ML"
      }
    },
    {
      "cell_type": "code",
      "source": [
        "from datetime import datetime\n",
        "def solution(date1, date2):\n",
        "    answer = 0\n",
        "    date_1 = datetime(date1[0], date1[1], date1[2])\n",
        "    date_2 = datetime(date2[0], date2[1], date2[2])\n",
        "    if date_1 < date_2:\n",
        "        answer = 1\n",
        "    return answer\n",
        "\n",
        "date1 = [2021, 12, 28]\n",
        "date2 = [2021, 12, 29]\n",
        "solution(date1, date2)"
      ],
      "metadata": {
        "colab": {
          "base_uri": "https://localhost:8080/"
        },
        "id": "W2SJ7BNO6wRF",
        "outputId": "5033fb59-203e-45cc-b701-33444186e28d"
      },
      "execution_count": 57,
      "outputs": [
        {
          "output_type": "execute_result",
          "data": {
            "text/plain": [
              "1"
            ]
          },
          "metadata": {},
          "execution_count": 57
        }
      ]
    },
    {
      "cell_type": "code",
      "source": [],
      "metadata": {
        "id": "oDe44oe2pZdt"
      },
      "execution_count": 37,
      "outputs": []
    },
    {
      "cell_type": "code",
      "source": [],
      "metadata": {
        "id": "tGPhxvNJouAX"
      },
      "execution_count": null,
      "outputs": []
    }
  ]
}
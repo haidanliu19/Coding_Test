{
  "nbformat": 4,
  "nbformat_minor": 0,
  "metadata": {
    "colab": {
      "provenance": []
    },
    "kernelspec": {
      "name": "python3",
      "display_name": "Python 3"
    },
    "language_info": {
      "name": "python"
    }
  },
  "cells": [
    {
      "cell_type": "code",
      "execution_count": 13,
      "metadata": {
        "colab": {
          "base_uri": "https://localhost:8080/"
        },
        "id": "8CD9FAe4zYuw",
        "outputId": "0b9d20f8-86cb-47ca-a256-a82c3c0ce944"
      },
      "outputs": [
        {
          "output_type": "execute_result",
          "data": {
            "text/plain": [
              "[0, 1, 0]"
            ]
          },
          "metadata": {},
          "execution_count": 13
        }
      ],
      "source": [
        "def solution(arr):\n",
        "    answer = [arr[0]]\n",
        "    for i in arr[1:]:\n",
        "        if (len(answer) > 0 ) and (i == answer[-1]):\n",
        "            answer.pop()\n",
        "        else:\n",
        "            answer.append(i)\n",
        "    return [-1] if len(answer) == 0 else answer\n",
        "\n",
        "arr = [0, 1, 1, 1, 0]\n",
        "solution(arr)"
      ]
    },
    {
      "cell_type": "code",
      "source": [],
      "metadata": {
        "id": "myJcOx1arqoq"
      },
      "execution_count": null,
      "outputs": []
    }
  ]
}
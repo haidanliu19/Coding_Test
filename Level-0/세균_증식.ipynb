{
  "nbformat": 4,
  "nbformat_minor": 0,
  "metadata": {
    "colab": {
      "provenance": [],
      "collapsed_sections": []
    },
    "kernelspec": {
      "name": "python3",
      "display_name": "Python 3"
    },
    "language_info": {
      "name": "python"
    }
  },
  "cells": [
    {
      "cell_type": "markdown",
      "source": [
        "출처 : 프로그래머스"
      ],
      "metadata": {
        "id": "dqWdCl1cQ9ML"
      }
    },
    {
      "cell_type": "code",
      "execution_count": 10,
      "metadata": {
        "colab": {
          "base_uri": "https://localhost:8080/"
        },
        "id": "Z4ZPUi_8Qr8C",
        "outputId": "f671cc89-098b-4a86-adfc-ad8c05ea99da"
      },
      "outputs": [
        {
          "output_type": "execute_result",
          "data": {
            "text/plain": [
              "2048"
            ]
          },
          "metadata": {},
          "execution_count": 10
        }
      ],
      "source": [
        "def solution(n, t):\n",
        "    answer = n\n",
        "    while t > 0:\n",
        "        answer *=  2  \n",
        "        t = t - 1\n",
        "    return answer\n",
        "\n",
        "n = 2\n",
        "t = 10\n",
        "solution(n, t)"
      ]
    }
  ]
}
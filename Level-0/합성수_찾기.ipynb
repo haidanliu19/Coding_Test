{
  "nbformat": 4,
  "nbformat_minor": 0,
  "metadata": {
    "colab": {
      "provenance": []
    },
    "kernelspec": {
      "name": "python3",
      "display_name": "Python 3"
    },
    "language_info": {
      "name": "python"
    }
  },
  "cells": [
    {
      "cell_type": "markdown",
      "source": [
        "출처 : 프로그래머스"
      ],
      "metadata": {
        "id": "dqWdCl1cQ9ML"
      }
    },
    {
      "cell_type": "code",
      "source": [
        "def com(n):\n",
        "    for i in range(2, (n // 2) + 1):\n",
        "        if n % i == 0:\n",
        "            return True\n",
        "    return False\n",
        "\n",
        "def solution(n):\n",
        "    answer = 0\n",
        "    for i in range(4, n+1):\n",
        "        if com(i):\n",
        "            answer += 1\n",
        "\n",
        "    return answer\n",
        "\n",
        "n = 10\n",
        "solution(n)"
      ],
      "metadata": {
        "colab": {
          "base_uri": "https://localhost:8080/"
        },
        "id": "0IR1NBGtwk-M",
        "outputId": "5e9314fe-300d-4511-d656-a8f2900e6535"
      },
      "execution_count": 44,
      "outputs": [
        {
          "output_type": "execute_result",
          "data": {
            "text/plain": [
              "5"
            ]
          },
          "metadata": {},
          "execution_count": 44
        }
      ]
    },
    {
      "cell_type": "code",
      "source": [],
      "metadata": {
        "id": "9rG_2BxtDXLt"
      },
      "execution_count": null,
      "outputs": []
    }
  ]
}
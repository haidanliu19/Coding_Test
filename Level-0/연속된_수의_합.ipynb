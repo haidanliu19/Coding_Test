{
  "nbformat": 4,
  "nbformat_minor": 0,
  "metadata": {
    "colab": {
      "provenance": [],
      "collapsed_sections": []
    },
    "kernelspec": {
      "name": "python3",
      "display_name": "Python 3"
    },
    "language_info": {
      "name": "python"
    }
  },
  "cells": [
    {
      "cell_type": "markdown",
      "source": [
        "출처 : 프로그래머스"
      ],
      "metadata": {
        "id": "Q64C9ISTte12"
      }
    },
    {
      "cell_type": "code",
      "source": [
        "def solution(num, total):\n",
        "    answer = [i for i in range(1, num+1)]\n",
        "    sum_ = (num * ( num + 1)) // 2\n",
        "    while True:\n",
        "        if total > sum_:\n",
        "            answer = [i + 1 for i in answer]\n",
        "        elif total < sum_:\n",
        "            answer = [i - 1 for i in answer]\n",
        "        else:\n",
        "            break\n",
        "        sum_ = sum(answer)\n",
        "    return answer\n",
        "\n",
        "num = 3\n",
        "total = 12\n",
        "solution(num, total)"
      ],
      "metadata": {
        "colab": {
          "base_uri": "https://localhost:8080/"
        },
        "id": "NBZL-jl9zIru",
        "outputId": "b5d8d95e-1f0b-4f5c-e94d-c873a6c43efd"
      },
      "execution_count": 105,
      "outputs": [
        {
          "output_type": "execute_result",
          "data": {
            "text/plain": [
              "[3, 4, 5]"
            ]
          },
          "metadata": {},
          "execution_count": 105
        }
      ]
    }
  ]
}
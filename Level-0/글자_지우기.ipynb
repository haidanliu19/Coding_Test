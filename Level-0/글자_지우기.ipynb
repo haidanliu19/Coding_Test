{
  "nbformat": 4,
  "nbformat_minor": 0,
  "metadata": {
    "colab": {
      "provenance": []
    },
    "kernelspec": {
      "name": "python3",
      "display_name": "Python 3"
    },
    "language_info": {
      "name": "python"
    }
  },
  "cells": [
    {
      "cell_type": "code",
      "execution_count": 16,
      "metadata": {
        "colab": {
          "base_uri": "https://localhost:8080/",
          "height": 35
        },
        "id": "8CD9FAe4zYuw",
        "outputId": "bcc50174-1a0f-40c9-ffa8-d03c04fbc07a"
      },
      "outputs": [
        {
          "output_type": "execute_result",
          "data": {
            "text/plain": [
              "'programmers'"
            ],
            "application/vnd.google.colaboratory.intrinsic+json": {
              "type": "string"
            }
          },
          "metadata": {},
          "execution_count": 16
        }
      ],
      "source": [
        "def solution(my_string, indices):\n",
        "    answer = my_string\n",
        "    indices.sort(reverse = True)\n",
        "    for i in indices:\n",
        "        answer = answer[:i] + answer[i+1:]\n",
        "    return answer\n",
        "\n",
        "my_string = \"apporoograpemmemprs\"\n",
        "indices = [1, 16, 6, 15, 0, 10, 11, 3]\n",
        "solution(my_string, indices)"
      ]
    },
    {
      "cell_type": "code",
      "source": [],
      "metadata": {
        "id": "Po7j6_uABR30"
      },
      "execution_count": null,
      "outputs": []
    }
  ]
}
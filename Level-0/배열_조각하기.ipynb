{
  "nbformat": 4,
  "nbformat_minor": 0,
  "metadata": {
    "colab": {
      "provenance": []
    },
    "kernelspec": {
      "name": "python3",
      "display_name": "Python 3"
    },
    "language_info": {
      "name": "python"
    }
  },
  "cells": [
    {
      "cell_type": "code",
      "execution_count": 29,
      "metadata": {
        "colab": {
          "base_uri": "https://localhost:8080/"
        },
        "id": "8CD9FAe4zYuw",
        "outputId": "a7fb74bf-be3d-40f6-d2dd-aeabf624ca5d"
      },
      "outputs": [
        {
          "output_type": "execute_result",
          "data": {
            "text/plain": [
              "[1, 2, 3]"
            ]
          },
          "metadata": {},
          "execution_count": 29
        }
      ],
      "source": [
        "def solution(arr, query):\n",
        "    answer = arr\n",
        "    for i, val in enumerate(query):\n",
        "        if i % 2 == 0: # 짝수\n",
        "            answer = answer[: val+1]\n",
        "        else: # 홀수\n",
        "            answer = answer[val:]\n",
        "    return answer\n",
        "\n",
        "arr = [0, 1, 2, 3, 4, 5]\n",
        "query = [4, 1, 2]\n",
        "solution(arr, query)"
      ]
    },
    {
      "cell_type": "code",
      "source": [],
      "metadata": {
        "id": "Po7j6_uABR30"
      },
      "execution_count": null,
      "outputs": []
    }
  ]
}
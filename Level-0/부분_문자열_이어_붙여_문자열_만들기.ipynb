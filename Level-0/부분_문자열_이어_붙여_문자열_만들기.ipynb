{
  "nbformat": 4,
  "nbformat_minor": 0,
  "metadata": {
    "colab": {
      "provenance": []
    },
    "kernelspec": {
      "name": "python3",
      "display_name": "Python 3"
    },
    "language_info": {
      "name": "python"
    }
  },
  "cells": [
    {
      "cell_type": "code",
      "execution_count": 13,
      "metadata": {
        "colab": {
          "base_uri": "https://localhost:8080/",
          "height": 35
        },
        "id": "8CD9FAe4zYuw",
        "outputId": "6bb8e900-ee22-4fa6-9fb1-cbd71a111e0e"
      },
      "outputs": [
        {
          "output_type": "execute_result",
          "data": {
            "text/plain": [
              "'programmers'"
            ],
            "application/vnd.google.colaboratory.intrinsic+json": {
              "type": "string"
            }
          },
          "metadata": {},
          "execution_count": 13
        }
      ],
      "source": [
        "def solution(my_strings, parts):\n",
        "    answer = ''\n",
        "    for part, my_string in zip(parts, my_strings):\n",
        "        answer+= my_string[part[0] : part[1]+1]\n",
        "    return answer\n",
        "\n",
        "my_strings = [\"progressive\", \"hamburger\", \"hammer\", \"ahocorasick\"]\n",
        "parts = [[0, 4], [1, 2], [3, 5], [7, 7]]\n",
        "solution(my_strings, parts)"
      ]
    },
    {
      "cell_type": "code",
      "source": [],
      "metadata": {
        "id": "xI6F7-IOF_5p"
      },
      "execution_count": null,
      "outputs": []
    }
  ]
}
{
  "nbformat": 4,
  "nbformat_minor": 0,
  "metadata": {
    "colab": {
      "provenance": []
    },
    "kernelspec": {
      "name": "python3",
      "display_name": "Python 3"
    },
    "language_info": {
      "name": "python"
    }
  },
  "cells": [
    {
      "cell_type": "markdown",
      "source": [
        "출처 : 프로그래머스"
      ],
      "metadata": {
        "id": "dqWdCl1cQ9ML"
      }
    },
    {
      "cell_type": "code",
      "source": [
        "def solution(arr):\n",
        "    row, col = len(arr), len(arr[0])\n",
        "    row_col = max(row, col)\n",
        "    answer = [[0 for j in range(row_col)]for i in range(row_col)]\n",
        "    for i, i_val in enumerate(arr):\n",
        "        for j, j_val in enumerate(i_val):\n",
        "            answer[i][j] = j_val\n",
        "    return answer\n",
        "\n",
        "arr = [[572, 22, 37], [287, 726, 384], [85, 137, 292], [487, 13, 876]]\n",
        "solution(arr)"
      ],
      "metadata": {
        "colab": {
          "base_uri": "https://localhost:8080/"
        },
        "id": "W2SJ7BNO6wRF",
        "outputId": "f9391795-6532-4069-d995-e64e2df4a8f7"
      },
      "execution_count": 116,
      "outputs": [
        {
          "output_type": "execute_result",
          "data": {
            "text/plain": [
              "[[572, 22, 37, 0], [287, 726, 384, 0], [85, 137, 292, 0], [487, 13, 876, 0]]"
            ]
          },
          "metadata": {},
          "execution_count": 116
        }
      ]
    },
    {
      "cell_type": "code",
      "source": [],
      "metadata": {
        "id": "yLdcO4q3slZ2"
      },
      "execution_count": null,
      "outputs": []
    }
  ]
}
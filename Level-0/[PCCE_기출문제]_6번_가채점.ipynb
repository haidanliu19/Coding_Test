{
  "nbformat": 4,
  "nbformat_minor": 0,
  "metadata": {
    "colab": {
      "provenance": []
    },
    "kernelspec": {
      "name": "python3",
      "display_name": "Python 3"
    },
    "language_info": {
      "name": "python"
    }
  },
  "cells": [
    {
      "cell_type": "code",
      "execution_count": 20,
      "metadata": {
        "colab": {
          "base_uri": "https://localhost:8080/"
        },
        "id": "8CD9FAe4zYuw",
        "outputId": "c1e38f29-ddd6-48b6-e4a4-37164082e501"
      },
      "outputs": [
        {
          "output_type": "execute_result",
          "data": {
            "text/plain": [
              "['Same']"
            ]
          },
          "metadata": {},
          "execution_count": 20
        }
      ],
      "source": [
        "def solution(numbers, our_score, score_list):\n",
        "    answer = []\n",
        "    for i in range(len(numbers)):\n",
        "        # if numbers[our_score[i]] == score_list[i]:\n",
        "        if our_score[i] == score_list[numbers[i]-1]:\n",
        "            answer.append(\"Same\")\n",
        "        else:\n",
        "            answer.append(\"Different\")\n",
        "\n",
        "    return answer\n",
        "\n",
        "numbers = [1]\n",
        "our_score = [100]\n",
        "score_list = [100, 80, 90, 84, 20]\n",
        "solution(numbers, our_score, score_list)"
      ]
    },
    {
      "cell_type": "code",
      "source": [],
      "metadata": {
        "id": "RnQow7H65s4w"
      },
      "execution_count": null,
      "outputs": []
    }
  ]
}
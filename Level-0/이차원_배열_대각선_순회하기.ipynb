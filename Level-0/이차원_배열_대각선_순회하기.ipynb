{
  "nbformat": 4,
  "nbformat_minor": 0,
  "metadata": {
    "colab": {
      "provenance": []
    },
    "kernelspec": {
      "name": "python3",
      "display_name": "Python 3"
    },
    "language_info": {
      "name": "python"
    }
  },
  "cells": [
    {
      "cell_type": "markdown",
      "source": [
        "출처 : 프로그래머스"
      ],
      "metadata": {
        "id": "dqWdCl1cQ9ML"
      }
    },
    {
      "cell_type": "code",
      "source": [
        "def solution(board, k):\n",
        "    answer = 0\n",
        "    for i, i_val in enumerate(board):\n",
        "        for j, j_val in enumerate(i_val):\n",
        "            if i + j <= k:\n",
        "                answer += j_val\n",
        "    return answer\n",
        "\n",
        "board = [[0, 1, 2],[1, 2, 3],[2, 3, 4],[3, 4, 5]]\n",
        "k = 2\n",
        "solution(board, k)"
      ],
      "metadata": {
        "colab": {
          "base_uri": "https://localhost:8080/"
        },
        "id": "W2SJ7BNO6wRF",
        "outputId": "27510a34-54c9-4175-dce1-ea66034cd93c"
      },
      "execution_count": 98,
      "outputs": [
        {
          "output_type": "execute_result",
          "data": {
            "text/plain": [
              "8"
            ]
          },
          "metadata": {},
          "execution_count": 98
        }
      ]
    },
    {
      "cell_type": "code",
      "source": [
        "def solution(board, k):\n",
        "    answer = sum([j_val  for i, i_val in enumerate(board) for j, j_val in enumerate(i_val) if i + j <= k ])\n",
        "    return answer\n",
        "\n",
        "board = [[0, 1, 2],[1, 2, 3],[2, 3, 4],[3, 4, 5]]\n",
        "k = 2\n",
        "solution(board, k)"
      ],
      "metadata": {
        "colab": {
          "base_uri": "https://localhost:8080/"
        },
        "id": "TllqFWenZc-m",
        "outputId": "40f01765-4937-49c2-ff23-55e5cb559de9"
      },
      "execution_count": 102,
      "outputs": [
        {
          "output_type": "execute_result",
          "data": {
            "text/plain": [
              "8"
            ]
          },
          "metadata": {},
          "execution_count": 102
        }
      ]
    },
    {
      "cell_type": "code",
      "source": [],
      "metadata": {
        "id": "yLdcO4q3slZ2"
      },
      "execution_count": null,
      "outputs": []
    }
  ]
}
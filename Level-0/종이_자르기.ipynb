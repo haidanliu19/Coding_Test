{
  "nbformat": 4,
  "nbformat_minor": 0,
  "metadata": {
    "colab": {
      "provenance": [],
      "collapsed_sections": []
    },
    "kernelspec": {
      "name": "python3",
      "display_name": "Python 3"
    },
    "language_info": {
      "name": "python"
    }
  },
  "cells": [
    {
      "cell_type": "markdown",
      "source": [
        "출처 : 프로그래머스"
      ],
      "metadata": {
        "id": "Q64C9ISTte12"
      }
    },
    {
      "cell_type": "code",
      "source": [
        "def solution(M, N):\n",
        "    answer = M - 1  + (N -1 )* M\n",
        "    return answer\n",
        "\n",
        "M = 2\n",
        "N = 2\n",
        "solution(M, N)"
      ],
      "metadata": {
        "colab": {
          "base_uri": "https://localhost:8080/",
          "height": 0
        },
        "id": "NBZL-jl9zIru",
        "outputId": "ecbd61f6-fa65-4112-ec78-37a4fd01d0c5"
      },
      "execution_count": 115,
      "outputs": [
        {
          "output_type": "execute_result",
          "data": {
            "text/plain": [
              "3"
            ]
          },
          "metadata": {},
          "execution_count": 115
        }
      ]
    }
  ]
}
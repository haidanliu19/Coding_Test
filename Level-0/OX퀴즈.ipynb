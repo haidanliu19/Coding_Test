{
  "nbformat": 4,
  "nbformat_minor": 0,
  "metadata": {
    "colab": {
      "provenance": [],
      "collapsed_sections": []
    },
    "kernelspec": {
      "name": "python3",
      "display_name": "Python 3"
    },
    "language_info": {
      "name": "python"
    }
  },
  "cells": [
    {
      "cell_type": "markdown",
      "source": [
        "출처 : 프로그래머스"
      ],
      "metadata": {
        "id": "dqWdCl1cQ9ML"
      }
    },
    {
      "cell_type": "code",
      "execution_count": 64,
      "metadata": {
        "colab": {
          "base_uri": "https://localhost:8080/"
        },
        "id": "Z4ZPUi_8Qr8C",
        "outputId": "0b14afbb-c0a9-4df8-b498-a433eb742301"
      },
      "outputs": [
        {
          "output_type": "execute_result",
          "data": {
            "text/plain": [
              "['X', 'O']"
            ]
          },
          "metadata": {},
          "execution_count": 64
        }
      ],
      "source": [
        "def solution(quiz):\n",
        "    answer = []\n",
        "    for i in quiz:\n",
        "        if eval(i.split(\"=\")[0]) == int(i.split(\"=\")[1]):\n",
        "            answer.append(\"O\")\n",
        "        else:\n",
        "            answer.append(\"X\")\n",
        "    return answer\n",
        "\n",
        "quiz = [\"3 - 4 = -3\", \"5 + 6 = 11\"]\n",
        "solution(quiz)"
      ]
    }
  ]
}
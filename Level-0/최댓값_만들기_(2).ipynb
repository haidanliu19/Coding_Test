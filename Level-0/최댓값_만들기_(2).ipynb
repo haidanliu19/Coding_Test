{
  "nbformat": 4,
  "nbformat_minor": 0,
  "metadata": {
    "colab": {
      "provenance": []
    },
    "kernelspec": {
      "name": "python3",
      "display_name": "Python 3"
    },
    "language_info": {
      "name": "python"
    }
  },
  "cells": [
    {
      "cell_type": "markdown",
      "source": [
        "출처 : 프로그래머스"
      ],
      "metadata": {
        "id": "dqWdCl1cQ9ML"
      }
    },
    {
      "cell_type": "code",
      "source": [
        "def solution(numbers):\n",
        "    answer = 0\n",
        "    numbers.sort()\n",
        "    num_left = numbers[0] * numbers[1]\n",
        "    num_right = numbers[-1] * numbers[-2]\n",
        "    answer = num_left if num_left > num_right else num_right\n",
        "    return answer\n",
        "\n",
        "numbers = [1, 2, -3, 4, -5]\n",
        "solution(numbers)"
      ],
      "metadata": {
        "colab": {
          "base_uri": "https://localhost:8080/"
        },
        "id": "0IR1NBGtwk-M",
        "outputId": "80393358-3ee5-4fac-c40f-7f50d66653db"
      },
      "execution_count": 75,
      "outputs": [
        {
          "output_type": "execute_result",
          "data": {
            "text/plain": [
              "15"
            ]
          },
          "metadata": {},
          "execution_count": 75
        }
      ]
    },
    {
      "cell_type": "code",
      "source": [],
      "metadata": {
        "id": "bdk5pxKnRcZx"
      },
      "execution_count": null,
      "outputs": []
    }
  ]
}
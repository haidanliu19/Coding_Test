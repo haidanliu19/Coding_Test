{
  "nbformat": 4,
  "nbformat_minor": 0,
  "metadata": {
    "colab": {
      "provenance": []
    },
    "kernelspec": {
      "name": "python3",
      "display_name": "Python 3"
    },
    "language_info": {
      "name": "python"
    }
  },
  "cells": [
    {
      "cell_type": "code",
      "execution_count": 9,
      "metadata": {
        "colab": {
          "base_uri": "https://localhost:8080/"
        },
        "id": "8CD9FAe4zYuw",
        "outputId": "fb067569-6002-43cf-dfaf-68278a86080a"
      },
      "outputs": [
        {
          "output_type": "execute_result",
          "data": {
            "text/plain": [
              "9"
            ]
          },
          "metadata": {},
          "execution_count": 9
        }
      ],
      "source": [
        "def solution(a, b, c):\n",
        "    answer = 0\n",
        "    list_ = set([a, b, c])\n",
        "    if len(list_) == 3:\n",
        "        answer = a + b + c\n",
        "    elif len(list_) == 2:\n",
        "        answer =  (a + b + c) * (a**2 + b**2 + c**2 )\n",
        "    else:\n",
        "        answer =  (a + b + c) * (a**2 + b**2 + c**2 ) * (a**3 + b**3 + c**3 )\n",
        "\n",
        "    return answer\n",
        "\n",
        "a = 2\n",
        "b = 6\n",
        "c = 1\n",
        "solution(a, b, c)"
      ]
    },
    {
      "cell_type": "code",
      "source": [],
      "metadata": {
        "id": "xI6F7-IOF_5p"
      },
      "execution_count": null,
      "outputs": []
    }
  ]
}
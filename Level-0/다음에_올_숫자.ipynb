{
  "nbformat": 4,
  "nbformat_minor": 0,
  "metadata": {
    "colab": {
      "provenance": [],
      "collapsed_sections": []
    },
    "kernelspec": {
      "name": "python3",
      "display_name": "Python 3"
    },
    "language_info": {
      "name": "python"
    }
  },
  "cells": [
    {
      "cell_type": "markdown",
      "source": [
        "출처 : 프로그래머스"
      ],
      "metadata": {
        "id": "Q64C9ISTte12"
      }
    },
    {
      "cell_type": "code",
      "source": [
        "def solution(common):\n",
        "    answer = 0\n",
        "    a, b, c = common[:3]\n",
        "    if b - a == c - b:\n",
        "        answer = common[-1] + ( b - a) \n",
        "    else:\n",
        "        answer = common[-1] * (b / a)\n",
        "    return answer\n",
        "\n",
        "common = [2, 4, 8]\n",
        "solution(common)"
      ],
      "metadata": {
        "colab": {
          "base_uri": "https://localhost:8080/"
        },
        "id": "NBZL-jl9zIru",
        "outputId": "ecc62a0d-e895-43a1-f83f-db0c5ff96eb8"
      },
      "execution_count": 30,
      "outputs": [
        {
          "output_type": "execute_result",
          "data": {
            "text/plain": [
              "16.0"
            ]
          },
          "metadata": {},
          "execution_count": 30
        }
      ]
    },
    {
      "cell_type": "code",
      "source": [
        "#### 오류 \n",
        "\n",
        "def solution(common):\n",
        "    answer = 0\n",
        "    diff = common[1] - common[0]\n",
        "    if common[1] - common[0] == common[2] - common[1]:\n",
        "        answer = (common[1] - common[0]) + common[-1]\n",
        "    if  common[1] / common[0] == common[2] / common[1]:\n",
        "        answer = (common[1] / common[0]) * common[-1]\n",
        "    return answer\n",
        "\n",
        "common = [2, 4, 8]\n",
        "solution(common)"
      ],
      "metadata": {
        "colab": {
          "base_uri": "https://localhost:8080/"
        },
        "id": "vXlBZWljy1VQ",
        "outputId": "25304383-b02d-43e7-f1a5-06d1bfb6a21f"
      },
      "execution_count": 25,
      "outputs": [
        {
          "output_type": "execute_result",
          "data": {
            "text/plain": [
              "16.0"
            ]
          },
          "metadata": {},
          "execution_count": 25
        }
      ]
    },
    {
      "cell_type": "code",
      "execution_count": 24,
      "metadata": {
        "colab": {
          "base_uri": "https://localhost:8080/"
        },
        "id": "SXB9jtv4tboT",
        "outputId": "7e312d98-d257-45a5-97bb-9ae2ace108a2"
      },
      "outputs": [
        {
          "output_type": "execute_result",
          "data": {
            "text/plain": [
              "16"
            ]
          },
          "metadata": {},
          "execution_count": 24
        }
      ],
      "source": [
        "#### 오류 \n",
        "\n",
        "def solution(common):\n",
        "    answer = 0\n",
        "    diff = common[1] - common[0]\n",
        "    if common[1] - common[0] == common[2] - common[1]:\n",
        "        answer = (common[1] - common[0]) + common[-1]\n",
        "    if  common[1] // common[0] == common[2] // common[1]:\n",
        "        answer = (common[1] // common[0]) * common[-1]\n",
        "    return answer\n",
        "\n",
        "common = [2, 4, 8]\n",
        "solution(common)"
      ]
    }
  ]
}
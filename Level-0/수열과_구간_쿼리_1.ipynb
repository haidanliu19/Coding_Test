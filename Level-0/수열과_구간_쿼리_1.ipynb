{
  "nbformat": 4,
  "nbformat_minor": 0,
  "metadata": {
    "colab": {
      "provenance": []
    },
    "kernelspec": {
      "name": "python3",
      "display_name": "Python 3"
    },
    "language_info": {
      "name": "python"
    }
  },
  "cells": [
    {
      "cell_type": "code",
      "execution_count": 93,
      "metadata": {
        "colab": {
          "base_uri": "https://localhost:8080/"
        },
        "id": "8CD9FAe4zYuw",
        "outputId": "0b43a029-9574-4cf4-d77d-eee5b2003d9c"
      },
      "outputs": [
        {
          "output_type": "execute_result",
          "data": {
            "text/plain": [
              "[1, 3, 4, 4, 4]"
            ]
          },
          "metadata": {},
          "execution_count": 93
        }
      ],
      "source": [
        "def solution(arr, queries):\n",
        "    answer = []\n",
        "    for i in queries:\n",
        "        s, e = i[0], i[1]\n",
        "        for i in range(s, e + 1):\n",
        "            arr[i] += 1\n",
        "    answer = arr\n",
        "    return answer\n",
        "\n",
        "arr = [0, 1, 2, 3, 4]\n",
        "queries = [[0, 1],[1, 2],[2, 3]]\n",
        "solution(arr, queries)"
      ]
    },
    {
      "cell_type": "code",
      "source": [],
      "metadata": {
        "id": "SIz85oS9rg0b"
      },
      "execution_count": null,
      "outputs": []
    }
  ]
}
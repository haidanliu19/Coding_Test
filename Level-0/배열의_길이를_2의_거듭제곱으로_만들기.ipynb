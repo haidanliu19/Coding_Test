{
  "nbformat": 4,
  "nbformat_minor": 0,
  "metadata": {
    "colab": {
      "provenance": []
    },
    "kernelspec": {
      "name": "python3",
      "display_name": "Python 3"
    },
    "language_info": {
      "name": "python"
    }
  },
  "cells": [
    {
      "cell_type": "code",
      "execution_count": 89,
      "metadata": {
        "colab": {
          "base_uri": "https://localhost:8080/"
        },
        "id": "8CD9FAe4zYuw",
        "outputId": "2220cb8d-4cf5-498c-e91a-22dbaf52ece7"
      },
      "outputs": [
        {
          "output_type": "execute_result",
          "data": {
            "text/plain": [
              "[0, 1, 2, 0]"
            ]
          },
          "metadata": {},
          "execution_count": 89
        }
      ],
      "source": [
        "def solution(arr):\n",
        "    cnt = 0\n",
        "    len_arr = len(arr)\n",
        "    while 2 ** cnt < len_arr:\n",
        "        cnt += 1\n",
        "    answer = [arr[i] if i < len_arr else 0 for i in range(2 ** cnt )]\n",
        "    return answer\n",
        "\n",
        "\n",
        "arr = [0, 1, 2]\n",
        "solution(arr)"
      ]
    },
    {
      "cell_type": "code",
      "source": [],
      "metadata": {
        "id": "myJcOx1arqoq"
      },
      "execution_count": null,
      "outputs": []
    }
  ]
}
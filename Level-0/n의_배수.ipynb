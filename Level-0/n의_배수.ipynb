{
  "nbformat": 4,
  "nbformat_minor": 0,
  "metadata": {
    "colab": {
      "provenance": []
    },
    "kernelspec": {
      "name": "python3",
      "display_name": "Python 3"
    },
    "language_info": {
      "name": "python"
    }
  },
  "cells": [
    {
      "cell_type": "code",
      "execution_count": 41,
      "metadata": {
        "colab": {
          "base_uri": "https://localhost:8080/"
        },
        "id": "8CD9FAe4zYuw",
        "outputId": "9e5492ea-c00f-4e13-944e-7a63b7338c67"
      },
      "outputs": [
        {
          "output_type": "execute_result",
          "data": {
            "text/plain": [
              "1"
            ]
          },
          "metadata": {},
          "execution_count": 41
        }
      ],
      "source": [
        "def solution(num, n):\n",
        "    answer = int(num%n == 0)\n",
        "    return answer\n",
        "\n",
        "\n",
        "num = 98\n",
        "n = 2\n",
        "solution(num, n)"
      ]
    },
    {
      "cell_type": "code",
      "source": [],
      "metadata": {
        "id": "9prk0MIOtmaT"
      },
      "execution_count": null,
      "outputs": []
    }
  ]
}
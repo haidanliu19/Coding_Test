{
  "nbformat": 4,
  "nbformat_minor": 0,
  "metadata": {
    "colab": {
      "provenance": [],
      "collapsed_sections": []
    },
    "kernelspec": {
      "name": "python3",
      "display_name": "Python 3"
    },
    "language_info": {
      "name": "python"
    }
  },
  "cells": [
    {
      "cell_type": "markdown",
      "source": [
        "출처 : 프로그래머스"
      ],
      "metadata": {
        "id": "dqWdCl1cQ9ML"
      }
    },
    {
      "cell_type": "code",
      "source": [
        "def solution(spell, dic):\n",
        "    list_sort = \"\".join(sorted(spell))\n",
        "    dic_sort = [\"\".join(sorted(i)) for i in dic]\n",
        "    answer  = 1 if list_sort in dic_sort else 2\n",
        "    return answer\n",
        "\n",
        "spell = [\"p\", \"o\", \"s\"]\n",
        "dic =  [\"sod\", \"eocd\", \"qixm\", \"adio\", \"soo\"]\n",
        "solution(spell, dic)"
      ],
      "metadata": {
        "colab": {
          "base_uri": "https://localhost:8080/"
        },
        "id": "0IR1NBGtwk-M",
        "outputId": "970f568c-4114-48fc-feb1-a3af2dd5163e"
      },
      "execution_count": 36,
      "outputs": [
        {
          "output_type": "execute_result",
          "data": {
            "text/plain": [
              "2"
            ]
          },
          "metadata": {},
          "execution_count": 36
        }
      ]
    },
    {
      "cell_type": "code",
      "source": [],
      "metadata": {
        "id": "rYpzbBTSt0zF"
      },
      "execution_count": 1,
      "outputs": []
    }
  ]
}
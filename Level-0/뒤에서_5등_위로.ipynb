{
  "nbformat": 4,
  "nbformat_minor": 0,
  "metadata": {
    "colab": {
      "provenance": []
    },
    "kernelspec": {
      "name": "python3",
      "display_name": "Python 3"
    },
    "language_info": {
      "name": "python"
    }
  },
  "cells": [
    {
      "cell_type": "code",
      "execution_count": 25,
      "metadata": {
        "colab": {
          "base_uri": "https://localhost:8080/"
        },
        "id": "8CD9FAe4zYuw",
        "outputId": "b0f5bc9f-8d4f-45fd-b6d4-2f40a337a656"
      },
      "outputs": [
        {
          "output_type": "execute_result",
          "data": {
            "text/plain": [
              "[15, 32, 38, 46, 56]"
            ]
          },
          "metadata": {},
          "execution_count": 25
        }
      ],
      "source": [
        "def solution(num_list):\n",
        "    answer = sorted(num_list)[5:]\n",
        "    return answer\n",
        "\n",
        "num_list = [12, 4, 15, 46, 38, 1, 14, 56, 32, 10]\n",
        "solution(num_list)"
      ]
    },
    {
      "cell_type": "code",
      "source": [],
      "metadata": {
        "id": "cbCDcWVpzZc9"
      },
      "execution_count": null,
      "outputs": []
    }
  ]
}
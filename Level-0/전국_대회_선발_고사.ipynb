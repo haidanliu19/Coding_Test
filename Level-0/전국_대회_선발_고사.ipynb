{
  "nbformat": 4,
  "nbformat_minor": 0,
  "metadata": {
    "colab": {
      "provenance": []
    },
    "kernelspec": {
      "name": "python3",
      "display_name": "Python 3"
    },
    "language_info": {
      "name": "python"
    }
  },
  "cells": [
    {
      "cell_type": "code",
      "execution_count": 17,
      "metadata": {
        "colab": {
          "base_uri": "https://localhost:8080/"
        },
        "id": "8CD9FAe4zYuw",
        "outputId": "9ff69601-6f39-421d-fd69-6305151c64fb"
      },
      "outputs": [
        {
          "output_type": "execute_result",
          "data": {
            "text/plain": [
              "20403"
            ]
          },
          "metadata": {},
          "execution_count": 17
        }
      ],
      "source": [
        "def solution(rank, attendance):\n",
        "    answer = 0\n",
        "    list_ = []\n",
        "    for i in range(1, max(rank) + 1):\n",
        "        idx = rank.index(i)\n",
        "        if attendance[idx] == True:\n",
        "            list_.append(idx)\n",
        "    answer = list_[0] * 10000 + list_[1] * 100 + list_[2]\n",
        "    return answer\n",
        "\n",
        "rank = [3, 7, 2, 5, 4, 6, 1]\n",
        "attendance = [ False, True, True, True, True, False, False]\n",
        "solution(rank, attendance)"
      ]
    },
    {
      "cell_type": "code",
      "source": [],
      "metadata": {
        "id": "cbCDcWVpzZc9"
      },
      "execution_count": null,
      "outputs": []
    }
  ]
}
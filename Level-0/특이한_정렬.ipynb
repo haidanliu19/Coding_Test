{
  "nbformat": 4,
  "nbformat_minor": 0,
  "metadata": {
    "colab": {
      "provenance": [],
      "collapsed_sections": []
    },
    "kernelspec": {
      "name": "python3",
      "display_name": "Python 3"
    },
    "language_info": {
      "name": "python"
    }
  },
  "cells": [
    {
      "cell_type": "markdown",
      "source": [
        "출처 : 프로그래머스"
      ],
      "metadata": {
        "id": "dqWdCl1cQ9ML"
      }
    },
    {
      "cell_type": "code",
      "source": [
        "def solution(numlist, n):\n",
        "    answer = []\n",
        "    answer = [i[0] for i in sorted([(i, abs(i-n) )for i in numlist], key = lambda x: (x[1], -x[0]))]\n",
        "    return answer\n",
        "\n",
        "numlist = [1, 2, 3, 4, 5, 6]\n",
        "n = 4\n",
        "solution(numlist, n)"
      ],
      "metadata": {
        "colab": {
          "base_uri": "https://localhost:8080/"
        },
        "id": "pUX8RwSfSuqL",
        "outputId": "65fad32b-0fe9-4d92-fc83-9a5e09bcfa40"
      },
      "execution_count": 172,
      "outputs": [
        {
          "output_type": "execute_result",
          "data": {
            "text/plain": [
              "[4, 5, 3, 6, 2, 1]"
            ]
          },
          "metadata": {},
          "execution_count": 172
        }
      ]
    },
    {
      "cell_type": "code",
      "source": [
        "()"
      ],
      "metadata": {
        "id": "75bMLb2QVZwe"
      },
      "execution_count": null,
      "outputs": []
    }
  ]
}
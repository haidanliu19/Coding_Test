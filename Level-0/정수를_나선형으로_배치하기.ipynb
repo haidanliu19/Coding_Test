{
  "nbformat": 4,
  "nbformat_minor": 0,
  "metadata": {
    "colab": {
      "provenance": []
    },
    "kernelspec": {
      "name": "python3",
      "display_name": "Python 3"
    },
    "language_info": {
      "name": "python"
    }
  },
  "cells": [
    {
      "cell_type": "markdown",
      "source": [
        "출처 : 프로그래머스"
      ],
      "metadata": {
        "id": "dqWdCl1cQ9ML"
      }
    },
    {
      "cell_type": "code",
      "source": [
        "def solution(n):\n",
        "    answer = [[0 for i in range(n)] for j in range(n)]\n",
        "    num = 1\n",
        "    i,j = 0,0\n",
        "    dir = \"right\"\n",
        "    while num < (n * n + 1):\n",
        "        answer[i][j] = num\n",
        "        # 오른쪽으로 진행 \n",
        "        if dir == \"right\":\n",
        "            if (j < n - 1) and (answer[i][j+1] == 0):\n",
        "                j += 1\n",
        "            else:\n",
        "                dir = \"down\"\n",
        "                i += 1\n",
        "        elif dir == \"down\":\n",
        "            if (i < n - 1) and (answer[i+1][j] == 0):\n",
        "                i += 1\n",
        "            else:\n",
        "                dir = \"left\"\n",
        "                j-= 1\n",
        "        elif dir == \"left\":\n",
        "            if (j > 0) and (answer[i][j-1] == 0):\n",
        "                j -= 1\n",
        "            else:\n",
        "                dir = \"up\"\n",
        "                i -= 1\n",
        "        else:\n",
        "            if (i > 0) and (answer[i-1][j] == 0):\n",
        "                i -= 1\n",
        "            else:\n",
        "                dir = \"right\"\n",
        "                j += 1\n",
        "        num += 1\n",
        "        #print(answer)\n",
        "        \n",
        "            \n",
        "    return answer\n",
        "\n",
        "n = 4\n",
        "solution(n)"
      ],
      "metadata": {
        "colab": {
          "base_uri": "https://localhost:8080/"
        },
        "id": "W2SJ7BNO6wRF",
        "outputId": "d25ea19e-3357-4938-ecda-71120c6c106c"
      },
      "execution_count": 69,
      "outputs": [
        {
          "output_type": "execute_result",
          "data": {
            "text/plain": [
              "[[1, 2, 3, 4], [12, 13, 14, 5], [11, 16, 15, 6], [10, 9, 8, 7]]"
            ]
          },
          "metadata": {},
          "execution_count": 69
        }
      ]
    },
    {
      "cell_type": "code",
      "source": [],
      "metadata": {
        "id": "RCVxuvRAQucU"
      },
      "execution_count": null,
      "outputs": []
    }
  ]
}
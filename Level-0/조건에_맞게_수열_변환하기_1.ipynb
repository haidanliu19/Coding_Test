{
  "nbformat": 4,
  "nbformat_minor": 0,
  "metadata": {
    "colab": {
      "provenance": []
    },
    "kernelspec": {
      "name": "python3",
      "display_name": "Python 3"
    },
    "language_info": {
      "name": "python"
    }
  },
  "cells": [
    {
      "cell_type": "code",
      "execution_count": 77,
      "metadata": {
        "colab": {
          "base_uri": "https://localhost:8080/"
        },
        "id": "8CD9FAe4zYuw",
        "outputId": "d7e78bdd-9214-434b-cd71-cc82766fe8fc"
      },
      "outputs": [
        {
          "output_type": "execute_result",
          "data": {
            "text/plain": [
              "[2, 2, 6, 50, 99, 49]"
            ]
          },
          "metadata": {},
          "execution_count": 77
        }
      ],
      "source": [
        "def solution(arr):\n",
        "    answer = []\n",
        "    for i in arr:\n",
        "        if (i >= 50) and (i % 2 == 0):\n",
        "            i //= 2\n",
        "        elif (i < 50) and (i % 2 != 0):\n",
        "            i *= 2\n",
        "        answer.append(i)\n",
        "    return answer\n",
        "\n",
        "arr = [1, 2, 3, 100, 99, 98]\n",
        "solution(arr)"
      ]
    },
    {
      "cell_type": "code",
      "source": [],
      "metadata": {
        "id": "SIz85oS9rg0b"
      },
      "execution_count": null,
      "outputs": []
    }
  ]
}
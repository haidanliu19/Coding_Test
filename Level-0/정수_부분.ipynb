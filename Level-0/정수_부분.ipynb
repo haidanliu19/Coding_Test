{
  "nbformat": 4,
  "nbformat_minor": 0,
  "metadata": {
    "colab": {
      "provenance": []
    },
    "kernelspec": {
      "name": "python3",
      "display_name": "Python 3"
    },
    "language_info": {
      "name": "python"
    }
  },
  "cells": [
    {
      "cell_type": "code",
      "execution_count": 7,
      "metadata": {
        "colab": {
          "base_uri": "https://localhost:8080/"
        },
        "id": "8CD9FAe4zYuw",
        "outputId": "8f1440eb-aea5-4523-e4f9-ba5ad5720cc6"
      },
      "outputs": [
        {
          "output_type": "execute_result",
          "data": {
            "text/plain": [
              "1"
            ]
          },
          "metadata": {},
          "execution_count": 7
        }
      ],
      "source": [
        "def solution(flo):\n",
        "    answer = int(flo)\n",
        "    return answer\n",
        "\n",
        "flo = 1.42\n",
        "solution(flo)"
      ]
    },
    {
      "cell_type": "code",
      "source": [],
      "metadata": {
        "id": "cbCDcWVpzZc9"
      },
      "execution_count": null,
      "outputs": []
    }
  ]
}
{
  "nbformat": 4,
  "nbformat_minor": 0,
  "metadata": {
    "colab": {
      "provenance": []
    },
    "kernelspec": {
      "name": "python3",
      "display_name": "Python 3"
    },
    "language_info": {
      "name": "python"
    }
  },
  "cells": [
    {
      "cell_type": "code",
      "execution_count": 79,
      "metadata": {
        "colab": {
          "base_uri": "https://localhost:8080/",
          "height": 35
        },
        "id": "8CD9FAe4zYuw",
        "outputId": "09fcafab-f2c6-4e15-ea3f-abc5e283bca7"
      },
      "outputs": [
        {
          "output_type": "execute_result",
          "data": {
            "text/plain": [
              "'programmers'"
            ],
            "application/vnd.google.colaboratory.intrinsic+json": {
              "type": "string"
            }
          },
          "metadata": {},
          "execution_count": 79
        }
      ],
      "source": [
        "def solution(my_string, queries):\n",
        "    for j in queries:\n",
        "        answer = my_string[ : j[0]] + my_string[j[0] : j[1] + 1][::-1] + my_string[j[1] + 1 : ]\n",
        "        my_string = answer\n",
        "    return answer\n",
        "\n",
        "my_string = \"rermgorpsam\"\n",
        "queries = [[2, 3], [0, 7], [5, 9], [6, 10]]\n",
        "solution(my_string, queries)"
      ]
    },
    {
      "cell_type": "code",
      "source": [],
      "metadata": {
        "id": "xI6F7-IOF_5p"
      },
      "execution_count": null,
      "outputs": []
    }
  ]
}
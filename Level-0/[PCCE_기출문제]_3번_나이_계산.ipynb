{
  "nbformat": 4,
  "nbformat_minor": 0,
  "metadata": {
    "colab": {
      "provenance": []
    },
    "kernelspec": {
      "name": "python3",
      "display_name": "Python 3"
    },
    "language_info": {
      "name": "python"
    }
  },
  "cells": [
    {
      "cell_type": "code",
      "execution_count": 27,
      "metadata": {
        "colab": {
          "base_uri": "https://localhost:8080/"
        },
        "id": "8CD9FAe4zYuw",
        "outputId": "65ce1709-49db-48e7-e4d5-f56c5d818cfa"
      },
      "outputs": [
        {
          "output_type": "stream",
          "name": "stdout",
          "text": [
            "31\n"
          ]
        }
      ],
      "source": [
        "year = 2000\n",
        "age_type = \"Korea\"\n",
        "\n",
        "if age_type == \"Korea\":\n",
        "    answer = 2030 - year + 1\n",
        "\n",
        "elif age_type == \"Year\":\n",
        "    answer = 2030 - year\n",
        "\n",
        "\n",
        "print(answer)"
      ]
    },
    {
      "cell_type": "code",
      "source": [],
      "metadata": {
        "id": "RnQow7H65s4w"
      },
      "execution_count": null,
      "outputs": []
    }
  ]
}
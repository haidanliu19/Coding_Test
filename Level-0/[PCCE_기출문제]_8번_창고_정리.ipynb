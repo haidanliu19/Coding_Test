{
  "nbformat": 4,
  "nbformat_minor": 0,
  "metadata": {
    "colab": {
      "provenance": []
    },
    "kernelspec": {
      "name": "python3",
      "display_name": "Python 3"
    },
    "language_info": {
      "name": "python"
    }
  },
  "cells": [
    {
      "cell_type": "code",
      "execution_count": null,
      "metadata": {
        "colab": {
          "base_uri": "https://localhost:8080/",
          "height": 35
        },
        "id": "8CD9FAe4zYuw",
        "outputId": "f24ce383-da56-493a-e174-2ff19dbae47d"
      },
      "outputs": [
        {
          "output_type": "execute_result",
          "data": {
            "text/plain": [
              "'pencil'"
            ],
            "application/vnd.google.colaboratory.intrinsic+json": {
              "type": "string"
            }
          },
          "metadata": {},
          "execution_count": 25
        }
      ],
      "source": [
        "def solution(storage, num):\n",
        "    clean_storage = []\n",
        "    clean_num = []\n",
        "    for i in range(len(storage)):\n",
        "        if storage[i] in clean_storage:\n",
        "            pos = clean_storage.index(storage[i])\n",
        "            clean_num[pos] += num[i]\n",
        "        else:\n",
        "            clean_storage.append(storage[i])\n",
        "            clean_num.append(num[i])\n",
        "\n",
        "    # 아래 코드에는 틀린 부분이 없습니다.\n",
        "\n",
        "    max_num = max(clean_num)\n",
        "    answer = clean_storage[clean_num.index(max_num)]\n",
        "    return answer\n",
        "\n",
        "storage = [\"pencil\", \"pencil\", \"pencil\", \"book\"]\n",
        "num = [2, 4, 3, 1]\n",
        "solution(storage, num)"
      ]
    },
    {
      "cell_type": "code",
      "source": [
        "\"\""
      ],
      "metadata": {
        "id": "qjuszqRVFs7V"
      },
      "execution_count": null,
      "outputs": []
    },
    {
      "cell_type": "code",
      "source": [],
      "metadata": {
        "id": "RnQow7H65s4w"
      },
      "execution_count": null,
      "outputs": []
    }
  ]
}
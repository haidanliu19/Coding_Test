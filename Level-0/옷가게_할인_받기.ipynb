{
  "nbformat": 4,
  "nbformat_minor": 0,
  "metadata": {
    "colab": {
      "provenance": []
    },
    "kernelspec": {
      "name": "python3",
      "display_name": "Python 3"
    },
    "language_info": {
      "name": "python"
    }
  },
  "cells": [
    {
      "cell_type": "markdown",
      "source": [
        "출처 : 프로그래머스"
      ],
      "metadata": {
        "id": "dqWdCl1cQ9ML"
      }
    },
    {
      "cell_type": "code",
      "source": [
        "def solution(price):\n",
        "    discount = 0\n",
        "    if 300000 > price >= 100000 :\n",
        "        discount = 0.05\n",
        "    elif 500000 > price >= 300000 :\n",
        "        discount = 0.1\n",
        "    elif 1000000 >= price >= 500000:\n",
        "        discount = 0.2\n",
        "    answer = price - price * discount\n",
        "    return int(answer)\n",
        "\n",
        "price = 580000\n",
        "solution(price)"
      ],
      "metadata": {
        "colab": {
          "base_uri": "https://localhost:8080/"
        },
        "id": "0IR1NBGtwk-M",
        "outputId": "9282708a-b1e4-4ccd-9733-d061b2a59a22"
      },
      "execution_count": 21,
      "outputs": [
        {
          "output_type": "execute_result",
          "data": {
            "text/plain": [
              "464000"
            ]
          },
          "metadata": {},
          "execution_count": 21
        }
      ]
    }
  ]
}
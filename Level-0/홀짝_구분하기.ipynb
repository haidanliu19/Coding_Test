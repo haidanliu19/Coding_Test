{
  "nbformat": 4,
  "nbformat_minor": 0,
  "metadata": {
    "colab": {
      "provenance": []
    },
    "kernelspec": {
      "name": "python3",
      "display_name": "Python 3"
    },
    "language_info": {
      "name": "python"
    }
  },
  "cells": [
    {
      "cell_type": "code",
      "execution_count": 2,
      "metadata": {
        "colab": {
          "base_uri": "https://localhost:8080/",
          "height": 0
        },
        "id": "8CD9FAe4zYuw",
        "outputId": "01185dcb-06fc-4c31-e04b-548e2e9b2f66"
      },
      "outputs": [
        {
          "output_type": "stream",
          "name": "stdout",
          "text": [
            "100\n",
            "100 is even\n"
          ]
        }
      ],
      "source": [
        "a = int(input())\n",
        "print(f'{a} is even' if a % 2 == 0 else f'{a} is odd')"
      ]
    },
    {
      "cell_type": "code",
      "source": [],
      "metadata": {
        "id": "RnQow7H65s4w"
      },
      "execution_count": null,
      "outputs": []
    }
  ]
}
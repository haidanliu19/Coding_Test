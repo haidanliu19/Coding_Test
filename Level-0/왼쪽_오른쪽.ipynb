{
  "nbformat": 4,
  "nbformat_minor": 0,
  "metadata": {
    "colab": {
      "provenance": []
    },
    "kernelspec": {
      "name": "python3",
      "display_name": "Python 3"
    },
    "language_info": {
      "name": "python"
    }
  },
  "cells": [
    {
      "cell_type": "code",
      "execution_count": 17,
      "metadata": {
        "colab": {
          "base_uri": "https://localhost:8080/"
        },
        "id": "8CD9FAe4zYuw",
        "outputId": "8d10d214-c942-492f-d3e7-86ceff586885"
      },
      "outputs": [
        {
          "output_type": "execute_result",
          "data": {
            "text/plain": [
              "['u', 'u']"
            ]
          },
          "metadata": {},
          "execution_count": 17
        }
      ],
      "source": [
        "def solution(str_list):\n",
        "    answer = []\n",
        "    for i, val in enumerate(str_list):\n",
        "        if val == \"l\":\n",
        "            answer = str_list[:i]\n",
        "            return answer\n",
        "        elif val == \"r\":\n",
        "            answer = str_list[i+1:]\n",
        "            return answer\n",
        "\n",
        "    return answer\n",
        "\n",
        "str_list = [\"u\", \"u\", \"l\", \"r\"]\n",
        "solution(str_list)"
      ]
    },
    {
      "cell_type": "code",
      "source": [],
      "metadata": {
        "id": "Po7j6_uABR30"
      },
      "execution_count": null,
      "outputs": []
    }
  ]
}
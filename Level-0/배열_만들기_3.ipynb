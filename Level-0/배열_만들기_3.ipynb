{
  "nbformat": 4,
  "nbformat_minor": 0,
  "metadata": {
    "colab": {
      "provenance": []
    },
    "kernelspec": {
      "name": "python3",
      "display_name": "Python 3"
    },
    "language_info": {
      "name": "python"
    }
  },
  "cells": [
    {
      "cell_type": "code",
      "execution_count": 18,
      "metadata": {
        "colab": {
          "base_uri": "https://localhost:8080/"
        },
        "id": "8CD9FAe4zYuw",
        "outputId": "be8e152e-cc00-4bb9-ebc3-afb665f55275"
      },
      "outputs": [
        {
          "output_type": "execute_result",
          "data": {
            "text/plain": [
              "[2, 3, 4, 1, 2, 3, 4, 5]"
            ]
          },
          "metadata": {},
          "execution_count": 18
        }
      ],
      "source": [
        "def solution(arr, intervals):\n",
        "    answer = []\n",
        "    for i in intervals:\n",
        "        answer.extend(arr[i[0]: i[1] + 1])\n",
        "    return answer\n",
        "\n",
        "arr = [1, 2, 3, 4, 5]\n",
        "intervals = [[1, 3], [0, 4]]\n",
        "solution(arr, intervals)"
      ]
    },
    {
      "cell_type": "code",
      "source": [],
      "metadata": {
        "id": "Po7j6_uABR30"
      },
      "execution_count": null,
      "outputs": []
    }
  ]
}
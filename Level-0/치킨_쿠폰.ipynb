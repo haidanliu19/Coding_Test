{
  "nbformat": 4,
  "nbformat_minor": 0,
  "metadata": {
    "colab": {
      "provenance": [],
      "collapsed_sections": []
    },
    "kernelspec": {
      "name": "python3",
      "display_name": "Python 3"
    },
    "language_info": {
      "name": "python"
    }
  },
  "cells": [
    {
      "cell_type": "markdown",
      "source": [
        "출처 : 프로그래머스"
      ],
      "metadata": {
        "id": "dqWdCl1cQ9ML"
      }
    },
    {
      "cell_type": "code",
      "source": [
        "def solution(chicken):\n",
        "    answer = 0\n",
        "    while True:\n",
        "        div, mod = divmod(chicken, 10)\n",
        "        chicken= div +mod\n",
        "        answer += div\n",
        "        if div == 0:\n",
        "            break\n",
        "    return answer\n",
        "\n",
        "chicken = 1081\n",
        "solution(chicken)"
      ],
      "metadata": {
        "id": "KH5ecB_tUzj1",
        "outputId": "1322ed1c-6c6a-409d-c525-b0f00ecce1be",
        "colab": {
          "base_uri": "https://localhost:8080/"
        }
      },
      "execution_count": 119,
      "outputs": [
        {
          "output_type": "stream",
          "name": "stdout",
          "text": [
            "108\n",
            "10\n",
            "1\n",
            "1\n",
            "0\n"
          ]
        },
        {
          "output_type": "execute_result",
          "data": {
            "text/plain": [
              "120"
            ]
          },
          "metadata": {},
          "execution_count": 119
        }
      ]
    }
  ]
}
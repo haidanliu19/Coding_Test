{
  "nbformat": 4,
  "nbformat_minor": 0,
  "metadata": {
    "colab": {
      "provenance": []
    },
    "kernelspec": {
      "name": "python3",
      "display_name": "Python 3"
    },
    "language_info": {
      "name": "python"
    }
  },
  "cells": [
    {
      "cell_type": "code",
      "execution_count": 20,
      "metadata": {
        "colab": {
          "base_uri": "https://localhost:8080/"
        },
        "id": "8CD9FAe4zYuw",
        "outputId": "6f0385bf-c615-45d3-b122-2cb38811e152"
      },
      "outputs": [
        {
          "output_type": "execute_result",
          "data": {
            "text/plain": [
              "['aaa', 'BBB', 'ccc', 'DDD']"
            ]
          },
          "metadata": {},
          "execution_count": 20
        }
      ],
      "source": [
        "def solution(strArr):\n",
        "    answer = []\n",
        "    for i, val in enumerate(strArr):\n",
        "        if i % 2 == 0:\n",
        "            answer.append(val.lower())\n",
        "        else:\n",
        "            answer.append(val.upper())\n",
        "    return answer\n",
        "\n",
        "strArr = [\"AAA\",\"BBB\",\"CCC\",\"DDD\"]\n",
        "solution(strArr)"
      ]
    },
    {
      "cell_type": "code",
      "source": [],
      "metadata": {
        "id": "SIz85oS9rg0b"
      },
      "execution_count": null,
      "outputs": []
    }
  ]
}
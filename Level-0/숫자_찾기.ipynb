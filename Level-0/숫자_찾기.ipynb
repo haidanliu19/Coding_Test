{
  "nbformat": 4,
  "nbformat_minor": 0,
  "metadata": {
    "colab": {
      "provenance": [],
      "collapsed_sections": []
    },
    "kernelspec": {
      "name": "python3",
      "display_name": "Python 3"
    },
    "language_info": {
      "name": "python"
    }
  },
  "cells": [
    {
      "cell_type": "markdown",
      "source": [
        "출처 : 프로그래머스"
      ],
      "metadata": {
        "id": "dqWdCl1cQ9ML"
      }
    },
    {
      "cell_type": "code",
      "execution_count": 6,
      "metadata": {
        "colab": {
          "base_uri": "https://localhost:8080/"
        },
        "id": "Z4ZPUi_8Qr8C",
        "outputId": "a8351ed9-cf7d-4772-c12a-1ea0fb0a7315"
      },
      "outputs": [
        {
          "output_type": "execute_result",
          "data": {
            "text/plain": [
              "4"
            ]
          },
          "metadata": {},
          "execution_count": 6
        }
      ],
      "source": [
        "def solution(num, k):\n",
        "    answer = str(num).find(str(k))\n",
        "    return answer + 1 if answer >=0 else answer\n",
        "\n",
        "num = 232443\n",
        "k = 4\n",
        "solution(num, k)"
      ]
    }
  ]
}
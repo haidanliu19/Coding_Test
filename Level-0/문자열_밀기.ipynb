{
  "nbformat": 4,
  "nbformat_minor": 0,
  "metadata": {
    "colab": {
      "provenance": [],
      "collapsed_sections": []
    },
    "kernelspec": {
      "name": "python3",
      "display_name": "Python 3"
    },
    "language_info": {
      "name": "python"
    }
  },
  "cells": [
    {
      "cell_type": "markdown",
      "source": [
        "출처 : 프로그래머스"
      ],
      "metadata": {
        "id": "Q64C9ISTte12"
      }
    },
    {
      "cell_type": "code",
      "source": [
        "def solution(A, B):\n",
        "    answer = -1\n",
        "    for i in range(len(A)):\n",
        "        s = A[-i:] + A[:-i] \n",
        "        if s == B:\n",
        "            answer = i\n",
        "    return answer\n",
        "\n",
        "A = \"hello\"\n",
        "B = \"ohell\"\n",
        "solution(A, B)"
      ],
      "metadata": {
        "colab": {
          "base_uri": "https://localhost:8080/"
        },
        "id": "NBZL-jl9zIru",
        "outputId": "1b543cec-fdf0-47e5-9a1a-3ae3d0141133"
      },
      "execution_count": 80,
      "outputs": [
        {
          "output_type": "stream",
          "name": "stdout",
          "text": [
            "0 hello\n",
            "1 ohell\n",
            "2 lohel\n",
            "3 llohe\n",
            "4 elloh\n"
          ]
        },
        {
          "output_type": "execute_result",
          "data": {
            "text/plain": [
              "1"
            ]
          },
          "metadata": {},
          "execution_count": 80
        }
      ]
    },
    {
      "cell_type": "code",
      "source": [
        "# 다른 사람 풀이 \n",
        "a = \"hello\"\n",
        "b = \"ohell\"\n",
        "solution=lambda a,b:(b*2).find(a)"
      ],
      "metadata": {
        "id": "YFoP5jAu8lBI"
      },
      "execution_count": 84,
      "outputs": []
    },
    {
      "cell_type": "code",
      "source": [
        "(b*2).find(a)"
      ],
      "metadata": {
        "colab": {
          "base_uri": "https://localhost:8080/"
        },
        "id": "BPTyicVF889i",
        "outputId": "acd77a5f-ecc9-41cb-b379-507ab48ba100"
      },
      "execution_count": 85,
      "outputs": [
        {
          "output_type": "execute_result",
          "data": {
            "text/plain": [
              "1"
            ]
          },
          "metadata": {},
          "execution_count": 85
        }
      ]
    }
  ]
}
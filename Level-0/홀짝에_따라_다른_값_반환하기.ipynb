{
  "nbformat": 4,
  "nbformat_minor": 0,
  "metadata": {
    "colab": {
      "provenance": []
    },
    "kernelspec": {
      "name": "python3",
      "display_name": "Python 3"
    },
    "language_info": {
      "name": "python"
    }
  },
  "cells": [
    {
      "cell_type": "code",
      "execution_count": 10,
      "metadata": {
        "colab": {
          "base_uri": "https://localhost:8080/"
        },
        "id": "8CD9FAe4zYuw",
        "outputId": "56f2b51f-8e81-4bd4-cb95-8d38b17bd124"
      },
      "outputs": [
        {
          "output_type": "execute_result",
          "data": {
            "text/plain": [
              "16"
            ]
          },
          "metadata": {},
          "execution_count": 10
        }
      ],
      "source": [
        "def solution(n):\n",
        "    answer = 0\n",
        "    startIdx =1 if n%2 else 2\n",
        "    for i in range(startIdx  , n + 1, 2):\n",
        "        answer += i** (startIdx)\n",
        "    return answer\n",
        "\n",
        "n = 7\n",
        "solution(n)"
      ]
    },
    {
      "cell_type": "code",
      "source": [
        "def solution(n):\n",
        "    answer = 0\n",
        "    for i in range(2 - (n %2)  , n + 1, 2):\n",
        "        answer += i** (2 - (n %2))\n",
        "    return answer\n",
        "\n",
        "n = 7\n",
        "solution(n)"
      ],
      "metadata": {
        "id": "87gSwOfMU7z5",
        "colab": {
          "base_uri": "https://localhost:8080/"
        },
        "outputId": "4d12f952-4517-4796-ea4a-e55d91f79782"
      },
      "execution_count": 12,
      "outputs": [
        {
          "output_type": "execute_result",
          "data": {
            "text/plain": [
              "16"
            ]
          },
          "metadata": {},
          "execution_count": 12
        }
      ]
    },
    {
      "cell_type": "code",
      "source": [],
      "metadata": {
        "id": "XahdfK-4saqT"
      },
      "execution_count": null,
      "outputs": []
    }
  ]
}
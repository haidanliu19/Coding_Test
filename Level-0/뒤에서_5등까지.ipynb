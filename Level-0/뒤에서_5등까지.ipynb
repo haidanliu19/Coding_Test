{
  "nbformat": 4,
  "nbformat_minor": 0,
  "metadata": {
    "colab": {
      "provenance": []
    },
    "kernelspec": {
      "name": "python3",
      "display_name": "Python 3"
    },
    "language_info": {
      "name": "python"
    }
  },
  "cells": [
    {
      "cell_type": "code",
      "execution_count": 27,
      "metadata": {
        "colab": {
          "base_uri": "https://localhost:8080/"
        },
        "id": "8CD9FAe4zYuw",
        "outputId": "9b65a718-b7fb-4729-8129-6fce3458233c"
      },
      "outputs": [
        {
          "output_type": "execute_result",
          "data": {
            "text/plain": [
              "[1, 4, 10, 12, 14]"
            ]
          },
          "metadata": {},
          "execution_count": 27
        }
      ],
      "source": [
        "def solution(num_list):\n",
        "    answer = sorted(num_list)[:5]\n",
        "    return answer\n",
        "\n",
        "num_list = [12, 4, 15, 46, 38, 1, 14, 56, 32, 10]\n",
        "solution(num_list)"
      ]
    },
    {
      "cell_type": "code",
      "source": [],
      "metadata": {
        "id": "cbCDcWVpzZc9"
      },
      "execution_count": null,
      "outputs": []
    }
  ]
}
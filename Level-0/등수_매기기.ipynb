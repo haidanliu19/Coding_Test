{
  "nbformat": 4,
  "nbformat_minor": 0,
  "metadata": {
    "colab": {
      "provenance": [],
      "collapsed_sections": []
    },
    "kernelspec": {
      "name": "python3",
      "display_name": "Python 3"
    },
    "language_info": {
      "name": "python"
    }
  },
  "cells": [
    {
      "cell_type": "markdown",
      "source": [
        "출처 : 프로그래머스"
      ],
      "metadata": {
        "id": "dqWdCl1cQ9ML"
      }
    },
    {
      "cell_type": "code",
      "source": [
        "def solution(score):\n",
        "    answer = []\n",
        "    dic={}\n",
        "    list_1 = [(s[0] + s[1] ) for idx, s in enumerate(score)]\n",
        "    \n",
        "    for idx, val in enumerate(sorted(list_1, reverse = True )):\n",
        "        if val not in dic.keys():\n",
        "            dic[val] = idx + 1\n",
        "\n",
        "    answer = [dic.get(i) for i in list_1]\n",
        "    return answer\n",
        "\n",
        "score = [[80, 70], [70, 80], [30, 50], [90, 100], [100, 90], [100, 100], [10, 30]]\n",
        "solution(score)"
      ],
      "metadata": {
        "colab": {
          "base_uri": "https://localhost:8080/"
        },
        "id": "pUX8RwSfSuqL",
        "outputId": "086f516a-4ad3-4d38-995c-823623f72ad4"
      },
      "execution_count": 163,
      "outputs": [
        {
          "output_type": "execute_result",
          "data": {
            "text/plain": [
              "[4, 4, 6, 2, 2, 1, 7]"
            ]
          },
          "metadata": {},
          "execution_count": 163
        }
      ]
    },
    {
      "cell_type": "code",
      "source": [
        "()"
      ],
      "metadata": {
        "id": "75bMLb2QVZwe"
      },
      "execution_count": null,
      "outputs": []
    }
  ]
}
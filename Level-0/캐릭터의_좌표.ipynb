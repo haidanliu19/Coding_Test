{
  "nbformat": 4,
  "nbformat_minor": 0,
  "metadata": {
    "colab": {
      "provenance": []
    },
    "kernelspec": {
      "name": "python3",
      "display_name": "Python 3"
    },
    "language_info": {
      "name": "python"
    }
  },
  "cells": [
    {
      "cell_type": "markdown",
      "source": [
        "출처 : 프로그래머스"
      ],
      "metadata": {
        "id": "dqWdCl1cQ9ML"
      }
    },
    {
      "cell_type": "code",
      "source": [
        "def solution(keyinput, board):\n",
        "    answer = []\n",
        "    boards = [[- i//2 + 1, i// 2] for i in board]\n",
        "    dict_ = {\"up\" : [0, 1] ,\"down\" : [0, -1], \"left\": [-1, 0], \"right\" : [1, 0]}\n",
        "    point = [0,0]\n",
        "    for key in keyinput:\n",
        "        for i, val in enumerate(point):\n",
        "            move = val + dict_.get(key)[i]\n",
        "            if  boards[i][1]  >= move >= boards[i][0]:\n",
        "                point[i] = move\n",
        "    answer = point\n",
        "    return answer\n",
        "\n",
        "keyinput = [\"down\", \"down\", \"down\", \"down\", \"down\"]\n",
        "board =[7, 9]\n",
        "solution(keyinput, board)"
      ],
      "metadata": {
        "colab": {
          "base_uri": "https://localhost:8080/"
        },
        "id": "0IR1NBGtwk-M",
        "outputId": "6276893f-33e5-4b00-b8ab-7dce86ad342f"
      },
      "execution_count": 109,
      "outputs": [
        {
          "output_type": "execute_result",
          "data": {
            "text/plain": [
              "[0, -4]"
            ]
          },
          "metadata": {},
          "execution_count": 109
        }
      ]
    },
    {
      "cell_type": "code",
      "source": [],
      "metadata": {
        "id": "bdk5pxKnRcZx"
      },
      "execution_count": null,
      "outputs": []
    }
  ]
}
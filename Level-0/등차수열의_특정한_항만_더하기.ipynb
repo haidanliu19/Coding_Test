{
  "nbformat": 4,
  "nbformat_minor": 0,
  "metadata": {
    "colab": {
      "provenance": []
    },
    "kernelspec": {
      "name": "python3",
      "display_name": "Python 3"
    },
    "language_info": {
      "name": "python"
    }
  },
  "cells": [
    {
      "cell_type": "code",
      "execution_count": 13,
      "metadata": {
        "colab": {
          "base_uri": "https://localhost:8080/"
        },
        "id": "8CD9FAe4zYuw",
        "outputId": "22f7a8c0-148b-4b62-f748-99aa9b413dcd"
      },
      "outputs": [
        {
          "output_type": "execute_result",
          "data": {
            "text/plain": [
              "37"
            ]
          },
          "metadata": {},
          "execution_count": 13
        }
      ],
      "source": [
        "def solution(a, d, included):\n",
        "    answer = sum([a + d * i for i in range(len(included)) if included[i]])\n",
        "    return answer\n",
        "\n",
        "a = 3\n",
        "d = 4\n",
        "included = [True, False, False, True, True]\n",
        "solution(a, d, included)"
      ]
    },
    {
      "cell_type": "code",
      "source": [],
      "metadata": {
        "id": "xI6F7-IOF_5p"
      },
      "execution_count": null,
      "outputs": []
    }
  ]
}
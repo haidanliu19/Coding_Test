{
  "nbformat": 4,
  "nbformat_minor": 0,
  "metadata": {
    "colab": {
      "provenance": []
    },
    "kernelspec": {
      "name": "python3",
      "display_name": "Python 3"
    },
    "language_info": {
      "name": "python"
    }
  },
  "cells": [
    {
      "cell_type": "code",
      "execution_count": 11,
      "metadata": {
        "colab": {
          "base_uri": "https://localhost:8080/",
          "height": 35
        },
        "id": "8CD9FAe4zYuw",
        "outputId": "4a33028a-f3ed-444b-f2ff-a65d68e91017"
      },
      "outputs": [
        {
          "output_type": "execute_result",
          "data": {
            "text/plain": [
              "'grammerS123'"
            ],
            "application/vnd.google.colaboratory.intrinsic+json": {
              "type": "string"
            }
          },
          "metadata": {},
          "execution_count": 11
        }
      ],
      "source": [
        "def solution(my_string, n):\n",
        "    answer = my_string[len(my_string)-n:]\n",
        "    return answer\n",
        "\n",
        "my_string = \"ProgrammerS123\"\n",
        "n = 11\n",
        "solution(my_string, n)"
      ]
    },
    {
      "cell_type": "code",
      "source": [],
      "metadata": {
        "id": "xI6F7-IOF_5p"
      },
      "execution_count": null,
      "outputs": []
    }
  ]
}
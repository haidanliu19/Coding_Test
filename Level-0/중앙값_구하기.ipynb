{
  "nbformat": 4,
  "nbformat_minor": 0,
  "metadata": {
    "colab": {
      "provenance": []
    },
    "kernelspec": {
      "name": "python3",
      "display_name": "Python 3"
    },
    "language_info": {
      "name": "python"
    }
  },
  "cells": [
    {
      "cell_type": "markdown",
      "source": [
        "출처 : 프로그래머스"
      ],
      "metadata": {
        "id": "dqWdCl1cQ9ML"
      }
    },
    {
      "cell_type": "code",
      "source": [
        "def solution(array):\n",
        "    answer = sorted(array)[len(array) // 2 ]\n",
        "    return answer\n",
        "\n",
        "array = [1, 2, 7, 10, 11]\n",
        "solution(array)"
      ],
      "metadata": {
        "colab": {
          "base_uri": "https://localhost:8080/"
        },
        "id": "0IR1NBGtwk-M",
        "outputId": "5d24077d-f65d-456a-9474-92b49a6fdedf"
      },
      "execution_count": 41,
      "outputs": [
        {
          "output_type": "execute_result",
          "data": {
            "text/plain": [
              "7"
            ]
          },
          "metadata": {},
          "execution_count": 41
        }
      ]
    }
  ]
}
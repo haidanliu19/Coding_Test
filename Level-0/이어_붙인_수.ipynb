{
  "nbformat": 4,
  "nbformat_minor": 0,
  "metadata": {
    "colab": {
      "provenance": []
    },
    "kernelspec": {
      "name": "python3",
      "display_name": "Python 3"
    },
    "language_info": {
      "name": "python"
    }
  },
  "cells": [
    {
      "cell_type": "code",
      "execution_count": 44,
      "metadata": {
        "colab": {
          "base_uri": "https://localhost:8080/"
        },
        "id": "8CD9FAe4zYuw",
        "outputId": "cabafab3-ff16-4f00-db3c-a007ef697b51"
      },
      "outputs": [
        {
          "output_type": "execute_result",
          "data": {
            "text/plain": [
              "393"
            ]
          },
          "metadata": {},
          "execution_count": 44
        }
      ],
      "source": [
        "def solution(num_list):\n",
        "    answer = int(\"\".join(map(str, filter(lambda x: x% 2, num_list)))) + int(\"\".join(map(str, filter(lambda x: x% 2 == 0, num_list))))\n",
        "    return answer\n",
        "\n",
        "num_list = [3, 4, 5, 2, 1]\n",
        "solution(num_list)"
      ]
    },
    {
      "cell_type": "code",
      "source": [],
      "metadata": {
        "id": "xI6F7-IOF_5p"
      },
      "execution_count": null,
      "outputs": []
    }
  ]
}
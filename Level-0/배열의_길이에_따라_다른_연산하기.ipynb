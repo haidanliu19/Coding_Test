{
  "nbformat": 4,
  "nbformat_minor": 0,
  "metadata": {
    "colab": {
      "provenance": []
    },
    "kernelspec": {
      "name": "python3",
      "display_name": "Python 3"
    },
    "language_info": {
      "name": "python"
    }
  },
  "cells": [
    {
      "cell_type": "code",
      "execution_count": 103,
      "metadata": {
        "colab": {
          "base_uri": "https://localhost:8080/"
        },
        "id": "8CD9FAe4zYuw",
        "outputId": "5cd06369-6880-421f-fd7d-76972161e92b"
      },
      "outputs": [
        {
          "output_type": "execute_result",
          "data": {
            "text/plain": [
              "[76, 12, 127, 276, 60]"
            ]
          },
          "metadata": {},
          "execution_count": 103
        }
      ],
      "source": [
        "def solution(arr, n):\n",
        "    answer = arr\n",
        "    a = len(arr) % 2 # 홀수\n",
        "    for i in range(len(arr)):\n",
        "        val = arr[i]\n",
        "        if a % 2 == 1 and  i % 2 ==0:\n",
        "            arr[i]  += n\n",
        "        if a % 2 == 0 and i% 2 != 0:\n",
        "            arr[i]  += n\n",
        "    return answer\n",
        "\n",
        "arr = [49, 12, 100, 276, 33]\n",
        "n = 27\n",
        "solution(arr, n)"
      ]
    },
    {
      "cell_type": "code",
      "source": [],
      "metadata": {
        "id": "myJcOx1arqoq"
      },
      "execution_count": null,
      "outputs": []
    }
  ]
}
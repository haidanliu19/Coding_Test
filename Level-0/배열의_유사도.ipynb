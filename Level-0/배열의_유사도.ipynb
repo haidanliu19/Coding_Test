{
  "nbformat": 4,
  "nbformat_minor": 0,
  "metadata": {
    "colab": {
      "provenance": [],
      "collapsed_sections": []
    },
    "kernelspec": {
      "name": "python3",
      "display_name": "Python 3"
    },
    "language_info": {
      "name": "python"
    }
  },
  "cells": [
    {
      "cell_type": "markdown",
      "source": [
        "출처 : 프로그래머스"
      ],
      "metadata": {
        "id": "dqWdCl1cQ9ML"
      }
    },
    {
      "cell_type": "code",
      "execution_count": 8,
      "metadata": {
        "colab": {
          "base_uri": "https://localhost:8080/"
        },
        "id": "Z4ZPUi_8Qr8C",
        "outputId": "a251a171-120d-4ef6-e580-ab105e70bd98"
      },
      "outputs": [
        {
          "output_type": "execute_result",
          "data": {
            "text/plain": [
              "2"
            ]
          },
          "metadata": {},
          "execution_count": 8
        }
      ],
      "source": [
        "def solution(s1, s2):\n",
        "    answer = 0\n",
        "    if len(s1) > len(s2) :\n",
        "        s1, s2 = s2, s1\n",
        "    for s_2 in s2:\n",
        "        if s_2 in s1:\n",
        "            answer += 1\n",
        "    return answer\n",
        "\n",
        "s1 = [\"a\", \"b\", \"c\"]\n",
        "s2 = [\"com\", \"b\", \"d\", \"p\", \"c\"]\n",
        "solution(s1, s2)"
      ]
    },
    {
      "cell_type": "code",
      "source": [
        "s1 = [\"a\", \"b\", \"c\"]\n",
        "s2 = [\"com\", \"b\", \"d\", \"p\", \"c\"]\n",
        "set(s1)&set(s2)"
      ],
      "metadata": {
        "colab": {
          "base_uri": "https://localhost:8080/"
        },
        "id": "h6ACYM4v0UdE",
        "outputId": "1c7b8749-179e-4f48-8d32-f57fcef44f2f"
      },
      "execution_count": 9,
      "outputs": [
        {
          "output_type": "execute_result",
          "data": {
            "text/plain": [
              "{'b', 'c'}"
            ]
          },
          "metadata": {},
          "execution_count": 9
        }
      ]
    },
    {
      "cell_type": "code",
      "source": [
        "s1 = [\"a\", \"b\", \"c\", \"a\"]\n",
        "s2 = [\"com\", \"b\", \"d\", \"p\", \"c\"]\n",
        "dic = {i:1 for i in s1}\n",
        "sum(dic.get(j,0) for j in s2)"
      ],
      "metadata": {
        "colab": {
          "base_uri": "https://localhost:8080/"
        },
        "id": "ZSVm_qNk0dBF",
        "outputId": "a7d00f02-d1a5-47db-8724-58a407e6b537"
      },
      "execution_count": 16,
      "outputs": [
        {
          "output_type": "execute_result",
          "data": {
            "text/plain": [
              "2"
            ]
          },
          "metadata": {},
          "execution_count": 16
        }
      ]
    }
  ]
}
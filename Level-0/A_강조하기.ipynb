{
  "nbformat": 4,
  "nbformat_minor": 0,
  "metadata": {
    "colab": {
      "provenance": []
    },
    "kernelspec": {
      "name": "python3",
      "display_name": "Python 3"
    },
    "language_info": {
      "name": "python"
    }
  },
  "cells": [
    {
      "cell_type": "code",
      "execution_count": 15,
      "metadata": {
        "colab": {
          "base_uri": "https://localhost:8080/",
          "height": 35
        },
        "id": "8CD9FAe4zYuw",
        "outputId": "1a56c5ce-3d19-4afe-a70b-ed6000899cdf"
      },
      "outputs": [
        {
          "output_type": "execute_result",
          "data": {
            "text/plain": [
              "'AbstrAct AlgebrA'"
            ],
            "application/vnd.google.colaboratory.intrinsic+json": {
              "type": "string"
            }
          },
          "metadata": {},
          "execution_count": 15
        }
      ],
      "source": [
        "def solution(myString):\n",
        "    answer = \"\".join([i if i != 'a' else i.upper() for i in myString.lower()])\n",
        "    return answer\n",
        "\n",
        "myString = \"abstract algebra\"\n",
        "solution(myString)"
      ]
    },
    {
      "cell_type": "code",
      "source": [],
      "metadata": {
        "id": "SIz85oS9rg0b"
      },
      "execution_count": null,
      "outputs": []
    }
  ]
}
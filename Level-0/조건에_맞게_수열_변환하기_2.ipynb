{
  "nbformat": 4,
  "nbformat_minor": 0,
  "metadata": {
    "colab": {
      "provenance": []
    },
    "kernelspec": {
      "name": "python3",
      "display_name": "Python 3"
    },
    "language_info": {
      "name": "python"
    }
  },
  "cells": [
    {
      "cell_type": "code",
      "execution_count": 75,
      "metadata": {
        "colab": {
          "base_uri": "https://localhost:8080/"
        },
        "id": "8CD9FAe4zYuw",
        "outputId": "ed8f0652-e6f8-45cc-e9e7-d80f1ad45e06"
      },
      "outputs": [
        {
          "output_type": "execute_result",
          "data": {
            "text/plain": [
              "5"
            ]
          },
          "metadata": {},
          "execution_count": 75
        }
      ],
      "source": [
        "def sol(arr):\n",
        "    arr_ = []\n",
        "    for i in arr:\n",
        "        if (i >= 50) and (i % 2 == 0):\n",
        "            i //= 2\n",
        "        elif (i < 50) and (i % 2 != 0):\n",
        "            i = i * 2 + 1\n",
        "        arr_.append(i)\n",
        "    return arr_\n",
        "\n",
        "def solution(arr):\n",
        "    answer = 0\n",
        "    while True:\n",
        "        arr_1 = sol(arr)\n",
        "        if arr == arr_1:\n",
        "            break\n",
        "        else:\n",
        "            arr = arr_1\n",
        "        answer += 1\n",
        "\n",
        "    return answer\n",
        "\n",
        "arr =  [1, 2, 3, 100, 99, 98]\n",
        "solution(arr)"
      ]
    },
    {
      "cell_type": "code",
      "source": [],
      "metadata": {
        "id": "SIz85oS9rg0b"
      },
      "execution_count": null,
      "outputs": []
    }
  ]
}
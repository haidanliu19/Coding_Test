{
  "nbformat": 4,
  "nbformat_minor": 0,
  "metadata": {
    "colab": {
      "provenance": []
    },
    "kernelspec": {
      "name": "python3",
      "display_name": "Python 3"
    },
    "language_info": {
      "name": "python"
    }
  },
  "cells": [
    {
      "cell_type": "code",
      "execution_count": 47,
      "metadata": {
        "colab": {
          "base_uri": "https://localhost:8080/"
        },
        "id": "8CD9FAe4zYuw",
        "outputId": "20a1196e-0920-4f9f-be6e-3643daceed66"
      },
      "outputs": [
        {
          "output_type": "execute_result",
          "data": {
            "text/plain": [
              "['onlettu', 'etom', 'to']"
            ]
          },
          "metadata": {},
          "execution_count": 47
        }
      ],
      "source": [
        "def solution(myStr):\n",
        "    answer = []\n",
        "    answer = myStr.replace('a', ' ').replace('b', ' ').replace('c', ' ').split()\n",
        "    return answer or ['EMPTY']\n",
        "\n",
        "myStr = \"baconlettucetomato\"\n",
        "solution(myStr)"
      ]
    },
    {
      "cell_type": "code",
      "source": [],
      "metadata": {
        "id": "myJcOx1arqoq"
      },
      "execution_count": null,
      "outputs": []
    }
  ]
}
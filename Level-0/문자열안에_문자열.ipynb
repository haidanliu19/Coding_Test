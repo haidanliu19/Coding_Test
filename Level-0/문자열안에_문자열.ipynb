{
  "nbformat": 4,
  "nbformat_minor": 0,
  "metadata": {
    "colab": {
      "provenance": [],
      "collapsed_sections": []
    },
    "kernelspec": {
      "name": "python3",
      "display_name": "Python 3"
    },
    "language_info": {
      "name": "python"
    }
  },
  "cells": [
    {
      "cell_type": "markdown",
      "source": [
        "출처 : 프로그래머스"
      ],
      "metadata": {
        "id": "dqWdCl1cQ9ML"
      }
    },
    {
      "cell_type": "code",
      "execution_count": 55,
      "metadata": {
        "colab": {
          "base_uri": "https://localhost:8080/"
        },
        "id": "Z4ZPUi_8Qr8C",
        "outputId": "0102542f-626f-4b2d-d482-ecd86ce3bb00"
      },
      "outputs": [
        {
          "output_type": "execute_result",
          "data": {
            "text/plain": [
              "1"
            ]
          },
          "metadata": {},
          "execution_count": 55
        }
      ],
      "source": [
        "def solution(str1, str2):\n",
        "    answer =1 if str1.find(str2) > -1 else 2\n",
        "    return answer\n",
        "\n",
        "str1 = \"ab6CDE443fgh22iJKlmn1o\"\n",
        "str2 = \"6CD\"\n",
        "solution(str1, str2)"
      ]
    }
  ]
}
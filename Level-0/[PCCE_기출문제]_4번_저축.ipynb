{
  "nbformat": 4,
  "nbformat_minor": 0,
  "metadata": {
    "colab": {
      "provenance": []
    },
    "kernelspec": {
      "name": "python3",
      "display_name": "Python 3"
    },
    "language_info": {
      "name": "python"
    }
  },
  "cells": [
    {
      "cell_type": "code",
      "execution_count": 22,
      "metadata": {
        "colab": {
          "base_uri": "https://localhost:8080/"
        },
        "id": "8CD9FAe4zYuw",
        "outputId": "c552869e-e7e3-4591-9dcd-0f11b4d883b8"
      },
      "outputs": [
        {
          "output_type": "stream",
          "name": "stdout",
          "text": [
            "12\n"
          ]
        }
      ],
      "source": [
        "start = 28\n",
        "before = 6\n",
        "after = 8\n",
        "\n",
        "money = start\n",
        "month = 1\n",
        "while money < 70:\n",
        "    money += before\n",
        "\n",
        "    month += 1\n",
        "while money < 100:\n",
        "\n",
        "    money += after\n",
        "    month += 1\n",
        "\n",
        "print(month)"
      ]
    },
    {
      "cell_type": "code",
      "source": [],
      "metadata": {
        "id": "RnQow7H65s4w"
      },
      "execution_count": null,
      "outputs": []
    }
  ]
}
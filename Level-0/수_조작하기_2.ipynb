{
  "nbformat": 4,
  "nbformat_minor": 0,
  "metadata": {
    "colab": {
      "provenance": []
    },
    "kernelspec": {
      "name": "python3",
      "display_name": "Python 3"
    },
    "language_info": {
      "name": "python"
    }
  },
  "cells": [
    {
      "cell_type": "code",
      "execution_count": 21,
      "metadata": {
        "colab": {
          "base_uri": "https://localhost:8080/",
          "height": 35
        },
        "id": "8CD9FAe4zYuw",
        "outputId": "7efb3328-07f0-4683-98bd-91d86a6905db"
      },
      "outputs": [
        {
          "output_type": "execute_result",
          "data": {
            "text/plain": [
              "'wsdawsdassw'"
            ],
            "application/vnd.google.colaboratory.intrinsic+json": {
              "type": "string"
            }
          },
          "metadata": {},
          "execution_count": 21
        }
      ],
      "source": [
        "def solution(numLog):\n",
        "    answer = ''\n",
        "    dict_ = {\"1\" :'w' , \"-1\" : \"s\" , \"10\": \"d\" , \"-10\" : \"a\"}\n",
        "    for idx in range(len(numLog) - 1):\n",
        "        i = numLog[idx + 1]  - numLog[idx]\n",
        "        answer += dict_.get(str(i), \"\")\n",
        "    return answer\n",
        "\n",
        "numLog = [0, 1, 0, 10, 0, 1, 0, 10, 0, -1, -2, -1]\n",
        "solution(numLog)"
      ]
    },
    {
      "cell_type": "code",
      "source": [],
      "metadata": {
        "id": "xI6F7-IOF_5p"
      },
      "execution_count": null,
      "outputs": []
    }
  ]
}
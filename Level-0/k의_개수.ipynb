{
  "nbformat": 4,
  "nbformat_minor": 0,
  "metadata": {
    "colab": {
      "provenance": [],
      "collapsed_sections": []
    },
    "kernelspec": {
      "name": "python3",
      "display_name": "Python 3"
    },
    "language_info": {
      "name": "python"
    }
  },
  "cells": [
    {
      "cell_type": "markdown",
      "source": [
        "출처 : 프로그래머스"
      ],
      "metadata": {
        "id": "dqWdCl1cQ9ML"
      }
    },
    {
      "cell_type": "code",
      "source": [
        "def solution(i, j, k):\n",
        "    answer = sum([str(m).count(str(k)) for m in range(i, j + 1)])\n",
        "    return answer\n",
        "\n",
        "i = 1\n",
        "j = 13\n",
        "k = 1\n",
        "solution(i, j, k)"
      ],
      "metadata": {
        "id": "KH5ecB_tUzj1",
        "outputId": "c8cca3c5-e539-4093-ab0d-61feee7ef339",
        "colab": {
          "base_uri": "https://localhost:8080/"
        }
      },
      "execution_count": 81,
      "outputs": [
        {
          "output_type": "execute_result",
          "data": {
            "text/plain": [
              "6"
            ]
          },
          "metadata": {},
          "execution_count": 81
        }
      ]
    }
  ]
}
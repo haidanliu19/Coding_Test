{
  "nbformat": 4,
  "nbformat_minor": 0,
  "metadata": {
    "colab": {
      "provenance": [],
      "collapsed_sections": []
    },
    "kernelspec": {
      "name": "python3",
      "display_name": "Python 3"
    },
    "language_info": {
      "name": "python"
    }
  },
  "cells": [
    {
      "cell_type": "markdown",
      "source": [
        "출처 : 프로그래머스"
      ],
      "metadata": {
        "id": "dqWdCl1cQ9ML"
      }
    },
    {
      "cell_type": "code",
      "source": [
        "def solution(bin1, bin2):\n",
        "    answer = bin(int(bin1, 2) + int(bin2, 2)).replace('0b', '')\n",
        "    return answer\n",
        "\n",
        "bin1 = \"10\"\n",
        "bin2 = \"11\"\n",
        "solution(bin1, bin2)"
      ],
      "metadata": {
        "id": "KH5ecB_tUzj1",
        "outputId": "03899384-e974-44a7-dd49-b2208d6aab36",
        "colab": {
          "base_uri": "https://localhost:8080/",
          "height": 35
        }
      },
      "execution_count": 105,
      "outputs": [
        {
          "output_type": "execute_result",
          "data": {
            "text/plain": [
              "'101'"
            ],
            "application/vnd.google.colaboratory.intrinsic+json": {
              "type": "string"
            }
          },
          "metadata": {},
          "execution_count": 105
        }
      ]
    }
  ]
}
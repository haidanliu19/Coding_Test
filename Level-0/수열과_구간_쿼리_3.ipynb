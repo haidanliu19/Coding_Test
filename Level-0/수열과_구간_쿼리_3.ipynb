{
  "nbformat": 4,
  "nbformat_minor": 0,
  "metadata": {
    "colab": {
      "provenance": []
    },
    "kernelspec": {
      "name": "python3",
      "display_name": "Python 3"
    },
    "language_info": {
      "name": "python"
    }
  },
  "cells": [
    {
      "cell_type": "code",
      "execution_count": 10,
      "metadata": {
        "colab": {
          "base_uri": "https://localhost:8080/"
        },
        "id": "8CD9FAe4zYuw",
        "outputId": "bcf42135-cf14-476e-e30f-86a98097b82d"
      },
      "outputs": [
        {
          "output_type": "execute_result",
          "data": {
            "text/plain": [
              "[3, 4, 1, 0, 2]"
            ]
          },
          "metadata": {},
          "execution_count": 10
        }
      ],
      "source": [
        "def solution(arr, queries):\n",
        "    for i, j in queries:\n",
        "        arr[i], arr[j] =  arr[j], arr[i]\n",
        "    return arr\n",
        "\n",
        "arr = [0, 1, 2, 3, 4]\n",
        "queries = [[0, 3],[1, 2],[1, 4]]\n",
        "solution(arr, queries)"
      ]
    },
    {
      "cell_type": "code",
      "source": [],
      "metadata": {
        "id": "xI6F7-IOF_5p"
      },
      "execution_count": null,
      "outputs": []
    }
  ]
}
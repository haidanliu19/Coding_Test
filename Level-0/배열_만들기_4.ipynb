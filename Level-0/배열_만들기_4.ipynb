{
  "nbformat": 4,
  "nbformat_minor": 0,
  "metadata": {
    "colab": {
      "provenance": []
    },
    "kernelspec": {
      "name": "python3",
      "display_name": "Python 3"
    },
    "language_info": {
      "name": "python"
    }
  },
  "cells": [
    {
      "cell_type": "code",
      "execution_count": 68,
      "metadata": {
        "colab": {
          "base_uri": "https://localhost:8080/"
        },
        "id": "8CD9FAe4zYuw",
        "outputId": "76a7c3af-256d-469b-a984-30610f022c62"
      },
      "outputs": [
        {
          "output_type": "execute_result",
          "data": {
            "text/plain": [
              "[1, 2, 3]"
            ]
          },
          "metadata": {},
          "execution_count": 68
        }
      ],
      "source": [
        "def solution(arr):\n",
        "    stk = []\n",
        "    i = 0\n",
        "    while i < len(arr):\n",
        "        if not stk:\n",
        "            stk.append(arr[i])\n",
        "            i += 1\n",
        "        else:\n",
        "            if stk[-1] < arr[i]:\n",
        "                stk.append(arr[i])\n",
        "                i += 1\n",
        "            else:\n",
        "                stk.pop()\n",
        "    return stk\n",
        "\n",
        "arr = [1, 4, 2, 5, 3]\n",
        "solution(arr)"
      ]
    },
    {
      "cell_type": "code",
      "source": [],
      "metadata": {
        "id": "xI6F7-IOF_5p"
      },
      "execution_count": null,
      "outputs": []
    }
  ]
}
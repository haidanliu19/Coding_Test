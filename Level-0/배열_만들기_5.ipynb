{
  "nbformat": 4,
  "nbformat_minor": 0,
  "metadata": {
    "colab": {
      "provenance": []
    },
    "kernelspec": {
      "name": "python3",
      "display_name": "Python 3"
    },
    "language_info": {
      "name": "python"
    }
  },
  "cells": [
    {
      "cell_type": "code",
      "execution_count": 79,
      "metadata": {
        "colab": {
          "base_uri": "https://localhost:8080/",
          "height": 35
        },
        "id": "8CD9FAe4zYuw",
        "outputId": "09fcafab-f2c6-4e15-ea3f-abc5e283bca7"
      },
      "outputs": [
        {
          "output_type": "execute_result",
          "data": {
            "text/plain": [
              "'programmers'"
            ],
            "application/vnd.google.colaboratory.intrinsic+json": {
              "type": "string"
            }
          },
          "metadata": {},
          "execution_count": 79
        }
      ],
      "source": [
        "def solution(intStrs, k, s, l):\n",
        "    answer = []\n",
        "    answer = list(filter(lambda x : x > k, [int(i[s : s +l]) for i in intStrs]))\n",
        "    return answer\n",
        "\n",
        "intStrs = [\"0123456789\",\"9876543210\",\"9999999999999\"]\n",
        "k = 50000\n",
        "s = 5\n",
        "l = 5\n",
        "solution(intStrs, k, s, l)"
      ]
    },
    {
      "cell_type": "code",
      "source": [],
      "metadata": {
        "id": "xI6F7-IOF_5p"
      },
      "execution_count": null,
      "outputs": []
    }
  ]
}
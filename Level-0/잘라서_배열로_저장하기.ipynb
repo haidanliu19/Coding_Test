{
  "nbformat": 4,
  "nbformat_minor": 0,
  "metadata": {
    "colab": {
      "provenance": [],
      "collapsed_sections": []
    },
    "kernelspec": {
      "name": "python3",
      "display_name": "Python 3"
    },
    "language_info": {
      "name": "python"
    }
  },
  "cells": [
    {
      "cell_type": "markdown",
      "source": [
        "출처 : 프로그래머스"
      ],
      "metadata": {
        "id": "Q64C9ISTte12"
      }
    },
    {
      "cell_type": "code",
      "source": [
        "def solution(my_str, n):\n",
        "    answer = []\n",
        "    len_str = (len(my_str) // n) + 1\n",
        "    for i in range(len_str):\n",
        "        s= my_str[i * n : (i +1 ) *n ]\n",
        "        if len(s ) > 0: # 값이 딱 떨어지면 공백이 하나 들어간다. \n",
        "            answer.append(s)\n",
        "    return answer\n",
        "\n",
        "my_str = \"abc1Addfggg4556b\"\n",
        "n = 6\n",
        "solution(my_str, n)"
      ],
      "metadata": {
        "colab": {
          "base_uri": "https://localhost:8080/"
        },
        "id": "NBZL-jl9zIru",
        "outputId": "db2e6bca-9f5a-4702-fe90-5cdf392642e3"
      },
      "execution_count": 61,
      "outputs": [
        {
          "output_type": "execute_result",
          "data": {
            "text/plain": [
              "['abc1Ad', 'dfggg4', '556b']"
            ]
          },
          "metadata": {},
          "execution_count": 61
        }
      ]
    }
  ]
}
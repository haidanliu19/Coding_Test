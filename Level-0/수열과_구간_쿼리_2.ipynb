{
  "nbformat": 4,
  "nbformat_minor": 0,
  "metadata": {
    "colab": {
      "provenance": []
    },
    "kernelspec": {
      "name": "python3",
      "display_name": "Python 3"
    },
    "language_info": {
      "name": "python"
    }
  },
  "cells": [
    {
      "cell_type": "code",
      "execution_count": 129,
      "metadata": {
        "colab": {
          "base_uri": "https://localhost:8080/"
        },
        "id": "8CD9FAe4zYuw",
        "outputId": "028ec49b-932b-4f2a-abf8-e41b449aa570"
      },
      "outputs": [
        {
          "output_type": "execute_result",
          "data": {
            "text/plain": [
              "[3, 4, -1]"
            ]
          },
          "metadata": {},
          "execution_count": 129
        }
      ],
      "source": [
        "def solution(arr, queries):\n",
        "    answer= []\n",
        "    for s, e, k in queries:\n",
        "        result = []\n",
        "        for i in range(s, e + 1):\n",
        "            if arr[i] > k:\n",
        "                result.append(arr[i])\n",
        "        answer.append(min(result if result else [-1]))\n",
        "    return answer\n",
        "\n",
        "arr = [0, 1, 2, 4, 3]\n",
        "queries = [[0, 4, 2],[0, 3, 2],[0, 2, 2]]\n",
        "solution(arr, queries)"
      ]
    },
    {
      "cell_type": "code",
      "source": [],
      "metadata": {
        "id": "xI6F7-IOF_5p"
      },
      "execution_count": 86,
      "outputs": []
    }
  ]
}
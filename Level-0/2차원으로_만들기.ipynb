{
  "nbformat": 4,
  "nbformat_minor": 0,
  "metadata": {
    "colab": {
      "provenance": []
    },
    "kernelspec": {
      "name": "python3",
      "display_name": "Python 3"
    },
    "language_info": {
      "name": "python"
    }
  },
  "cells": [
    {
      "cell_type": "markdown",
      "source": [
        "출처 : 프로그래머스"
      ],
      "metadata": {
        "id": "dqWdCl1cQ9ML"
      }
    },
    {
      "cell_type": "code",
      "source": [
        "def solution(num_list, n):\n",
        "    answer = []\n",
        "    sub_array = []\n",
        "    for i in num_list:\n",
        "        sub_array.append(i)\n",
        "        if len(sub_array ) >= n:\n",
        "            answer.append(sub_array)\n",
        "            sub_array = []        \n",
        "\n",
        "    return answer\n",
        "\n",
        "num_list = [1, 2, 3, 4, 5, 6, 7, 8]\n",
        "n = 2\n",
        "solution(num_list, n)"
      ],
      "metadata": {
        "colab": {
          "base_uri": "https://localhost:8080/"
        },
        "id": "0IR1NBGtwk-M",
        "outputId": "7a7fe9ca-1c87-4cbd-c174-e2b9ff68560b"
      },
      "execution_count": 34,
      "outputs": [
        {
          "output_type": "execute_result",
          "data": {
            "text/plain": [
              "[[1, 2], [3, 4], [5, 6], [7, 8]]"
            ]
          },
          "metadata": {},
          "execution_count": 34
        }
      ]
    },
    {
      "cell_type": "code",
      "source": [],
      "metadata": {
        "id": "9rG_2BxtDXLt"
      },
      "execution_count": null,
      "outputs": []
    }
  ]
}
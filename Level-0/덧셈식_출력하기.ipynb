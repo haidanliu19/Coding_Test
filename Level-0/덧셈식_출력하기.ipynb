{
  "nbformat": 4,
  "nbformat_minor": 0,
  "metadata": {
    "colab": {
      "provenance": []
    },
    "kernelspec": {
      "name": "python3",
      "display_name": "Python 3"
    },
    "language_info": {
      "name": "python"
    }
  },
  "cells": [
    {
      "cell_type": "code",
      "execution_count": 5,
      "metadata": {
        "colab": {
          "base_uri": "https://localhost:8080/"
        },
        "id": "8CD9FAe4zYuw",
        "outputId": "5eaaa388-24a5-40d1-f187-fcee9c8ba744"
      },
      "outputs": [
        {
          "output_type": "stream",
          "name": "stdout",
          "text": [
            "4 5\n",
            "4 + 5 = 9\n"
          ]
        }
      ],
      "source": [
        "a, b = map(int, input().strip().split(' '))\n",
        "print(f'{a} + {b} = {a + b}')"
      ]
    },
    {
      "cell_type": "code",
      "source": [],
      "metadata": {
        "id": "qjuszqRVFs7V"
      },
      "execution_count": null,
      "outputs": []
    },
    {
      "cell_type": "code",
      "source": [],
      "metadata": {
        "id": "RnQow7H65s4w"
      },
      "execution_count": null,
      "outputs": []
    }
  ]
}
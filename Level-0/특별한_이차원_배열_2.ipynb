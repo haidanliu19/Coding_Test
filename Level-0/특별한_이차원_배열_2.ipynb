{
  "nbformat": 4,
  "nbformat_minor": 0,
  "metadata": {
    "colab": {
      "provenance": []
    },
    "kernelspec": {
      "name": "python3",
      "display_name": "Python 3"
    },
    "language_info": {
      "name": "python"
    }
  },
  "cells": [
    {
      "cell_type": "markdown",
      "source": [
        "출처 : 프로그래머스"
      ],
      "metadata": {
        "id": "dqWdCl1cQ9ML"
      }
    },
    {
      "cell_type": "code",
      "source": [
        "def solution(arr):\n",
        "    answer = 0\n",
        "    for i, i_val in enumerate(arr):\n",
        "        for j, j_val in enumerate(i_val):\n",
        "            if arr[i][j] != arr[j][i]:\n",
        "                return answer\n",
        "    else:\n",
        "        answer = 1\n",
        "    return answer\n",
        "\n",
        "arr = [[5, 192, 33], [192, 72, 95], [33, 95, 999]]\n",
        "solution(arr)"
      ],
      "metadata": {
        "colab": {
          "base_uri": "https://localhost:8080/"
        },
        "id": "W2SJ7BNO6wRF",
        "outputId": "eb4604b9-658e-4d27-f9a5-c6928440224e"
      },
      "execution_count": 119,
      "outputs": [
        {
          "output_type": "execute_result",
          "data": {
            "text/plain": [
              "1"
            ]
          },
          "metadata": {},
          "execution_count": 119
        }
      ]
    },
    {
      "cell_type": "code",
      "source": [],
      "metadata": {
        "id": "yLdcO4q3slZ2"
      },
      "execution_count": null,
      "outputs": []
    }
  ]
}
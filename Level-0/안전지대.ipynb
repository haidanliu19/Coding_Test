{
  "nbformat": 4,
  "nbformat_minor": 0,
  "metadata": {
    "colab": {
      "provenance": []
    },
    "kernelspec": {
      "name": "python3",
      "display_name": "Python 3"
    },
    "language_info": {
      "name": "python"
    }
  },
  "cells": [
    {
      "cell_type": "markdown",
      "source": [
        "출처 : 프로그래머스"
      ],
      "metadata": {
        "id": "dqWdCl1cQ9ML"
      }
    },
    {
      "cell_type": "code",
      "source": [
        "def solution(board):\n",
        "    answer = 0\n",
        "    board_1 =[i[:] for i in board]\n",
        "    for i in range(len(board)):\n",
        "        for j in range(len(board[i])):\n",
        "            len_ = len(board[i])\n",
        "            if board[i][j] == 1:\n",
        "                if (j - 1) >= 0: # 왼쪽\n",
        "                    board_1[i][j-1] = 1\n",
        "                if (j + 1) < len_: # 오른쪽\n",
        "                    board_1[i][j+1] = 1\n",
        "                if (i - 1) >= 0: # 위\n",
        "                    board_1[i-1][j] = 1\n",
        "                if (i + 1) < len_: # 아래 \n",
        "                    board_1[i+1][j] = 1\n",
        "                if (i - 1)  >=  0 and (j -1)  >=  0: # 왼 위\n",
        "                    board_1[i-1][j-1] = 1\n",
        "                if (i - 1) >= 0 and (j + 1) < len_:  # 오른쪽 위\n",
        "                    board_1[i-1][j+1] = 1\n",
        "                if (j - 1)  >= 0 and (i + 1) < len_: # 왼쪽 아래\n",
        "                    board_1[i+1][j-1] = 1\n",
        "                if (i + 1) < len_ and (j + 1) < len_: # 오른쪽 아래\n",
        "                    board_1[i+1][j+1] = 1\n",
        "\n",
        "    answer = sum([1 if j == 0 else 0 for i in board_1 for j in i ])\n",
        "    return answer\n",
        "\n",
        "board = [[0, 0, 0, 0, 0], [0, 1, 0, 0, 0], [0, 0, 0, 0, 0], [0, 0, 0, 0, 0], [0, 0, 0, 0, 0]]\n",
        "solution(board)"
      ],
      "metadata": {
        "colab": {
          "base_uri": "https://localhost:8080/"
        },
        "id": "0IR1NBGtwk-M",
        "outputId": "4e53a1aa-bf71-469d-b0ae-a291e4e239c1"
      },
      "execution_count": 75,
      "outputs": [
        {
          "output_type": "execute_result",
          "data": {
            "text/plain": [
              "16"
            ]
          },
          "metadata": {},
          "execution_count": 75
        }
      ]
    },
    {
      "cell_type": "code",
      "source": [],
      "metadata": {
        "id": "bdk5pxKnRcZx"
      },
      "execution_count": null,
      "outputs": []
    }
  ]
}
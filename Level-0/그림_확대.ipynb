{
  "nbformat": 4,
  "nbformat_minor": 0,
  "metadata": {
    "colab": {
      "provenance": []
    },
    "kernelspec": {
      "name": "python3",
      "display_name": "Python 3"
    },
    "language_info": {
      "name": "python"
    }
  },
  "cells": [
    {
      "cell_type": "markdown",
      "source": [
        "출처 : 프로그래머스"
      ],
      "metadata": {
        "id": "dqWdCl1cQ9ML"
      }
    },
    {
      "cell_type": "code",
      "source": [
        "def solution(picture, k):\n",
        "    answer = []\n",
        "    for i in picture:\n",
        "        list_ = \"\".join(list(map(lambda x : x * k , i)))\n",
        "        for _ in range(k):\n",
        "            answer.append(list_)\n",
        "    return answer \n",
        "\n",
        "picture = [\".xx...xx.\", \"x..x.x..x\", \"x...x...x\", \".x.....x.\", \"..x...x..\", \"...x.x...\", \"....x....\"]\n",
        "k = 2\n",
        "solution(picture, k)"
      ],
      "metadata": {
        "colab": {
          "base_uri": "https://localhost:8080/"
        },
        "id": "W2SJ7BNO6wRF",
        "outputId": "a0e54bbe-0c27-4018-e991-82c4bb958d8f"
      },
      "execution_count": 59,
      "outputs": [
        {
          "output_type": "execute_result",
          "data": {
            "text/plain": [
              "['..xxxx......xxxx..',\n",
              " '..xxxx......xxxx..',\n",
              " 'xx....xx..xx....xx',\n",
              " 'xx....xx..xx....xx',\n",
              " 'xx......xx......xx',\n",
              " 'xx......xx......xx',\n",
              " '..xx..........xx..',\n",
              " '..xx..........xx..',\n",
              " '....xx......xx....',\n",
              " '....xx......xx....',\n",
              " '......xx..xx......',\n",
              " '......xx..xx......',\n",
              " '........xx........',\n",
              " '........xx........']"
            ]
          },
          "metadata": {},
          "execution_count": 59
        }
      ]
    },
    {
      "cell_type": "code",
      "source": [],
      "metadata": {
        "id": "oDe44oe2pZdt"
      },
      "execution_count": 37,
      "outputs": []
    },
    {
      "cell_type": "code",
      "source": [],
      "metadata": {
        "id": "tGPhxvNJouAX"
      },
      "execution_count": null,
      "outputs": []
    }
  ]
}
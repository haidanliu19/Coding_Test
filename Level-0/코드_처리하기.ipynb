{
  "nbformat": 4,
  "nbformat_minor": 0,
  "metadata": {
    "colab": {
      "provenance": []
    },
    "kernelspec": {
      "name": "python3",
      "display_name": "Python 3"
    },
    "language_info": {
      "name": "python"
    }
  },
  "cells": [
    {
      "cell_type": "code",
      "execution_count": 33,
      "metadata": {
        "colab": {
          "base_uri": "https://localhost:8080/",
          "height": 35
        },
        "id": "8CD9FAe4zYuw",
        "outputId": "360c71f7-4db3-407a-9bab-446c5f70958f"
      },
      "outputs": [
        {
          "output_type": "execute_result",
          "data": {
            "text/plain": [
              "'acbac'"
            ],
            "application/vnd.google.colaboratory.intrinsic+json": {
              "type": "string"
            }
          },
          "metadata": {},
          "execution_count": 33
        }
      ],
      "source": [
        "def solution(code):\n",
        "    answer = ''\n",
        "    mode = 0\n",
        "    for idx, val in enumerate(code):\n",
        "        if (val == '1') and (mode == 0):\n",
        "            mode = 1\n",
        "        elif (val == '1') and (mode == 1):\n",
        "            mode = 0\n",
        "        else:\n",
        "            if mode == 0:\n",
        "                if idx % 2 == 0:\n",
        "                    answer += val\n",
        "            else:\n",
        "                if idx % 2 != 0:\n",
        "                    answer += val\n",
        "\n",
        "    return answer if len(answer) else 'EMPTY'\n",
        "\n",
        "code = \"abc1abc1abc\"\n",
        "solution(code)"
      ]
    },
    {
      "cell_type": "code",
      "source": [
        "def solution(code):\n",
        "    answer = ''\n",
        "    mode = 0\n",
        "    for idx, val in enumerate(code):\n",
        "        if (val == '1') and (mode == 0):\n",
        "            mode = 1\n",
        "        elif (val == '1') and (mode == 1):\n",
        "            mode = 0\n",
        "        else:\n",
        "            if mode == 0:\n",
        "                if idx % 2 == 0:\n",
        "                    answer += val\n",
        "            else:\n",
        "                if idx % 2 != 0:\n",
        "                    answer += val\n",
        "\n",
        "    return answer or 'EMPTY'\n",
        "\n",
        "code = \"abc1abc1abc\"\n",
        "solution(code)"
      ],
      "metadata": {
        "id": "xI6F7-IOF_5p",
        "colab": {
          "base_uri": "https://localhost:8080/",
          "height": 35
        },
        "outputId": "cc74f299-a592-4c71-877b-02fbe098d477"
      },
      "execution_count": 35,
      "outputs": [
        {
          "output_type": "execute_result",
          "data": {
            "text/plain": [
              "'acbac'"
            ],
            "application/vnd.google.colaboratory.intrinsic+json": {
              "type": "string"
            }
          },
          "metadata": {},
          "execution_count": 35
        }
      ]
    },
    {
      "cell_type": "code",
      "source": [],
      "metadata": {
        "id": "87gSwOfMU7z5"
      },
      "execution_count": null,
      "outputs": []
    }
  ]
}
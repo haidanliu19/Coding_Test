{
  "nbformat": 4,
  "nbformat_minor": 0,
  "metadata": {
    "colab": {
      "provenance": []
    },
    "kernelspec": {
      "name": "python3",
      "display_name": "Python 3"
    },
    "language_info": {
      "name": "python"
    }
  },
  "cells": [
    {
      "cell_type": "code",
      "execution_count": 25,
      "metadata": {
        "colab": {
          "base_uri": "https://localhost:8080/"
        },
        "id": "8CD9FAe4zYuw",
        "outputId": "2e784edc-d4ed-4d42-bb93-d5f84ca87b31"
      },
      "outputs": [
        {
          "output_type": "execute_result",
          "data": {
            "text/plain": [
              "[3, 3, 3, 3, 4, 4, 4, 4]"
            ]
          },
          "metadata": {},
          "execution_count": 25
        }
      ],
      "source": [
        "def solution(arr, flag):\n",
        "    answer = []\n",
        "    for i, val in enumerate(arr):\n",
        "        if flag[i]:\n",
        "            answer += [val] * arr[i] * 2\n",
        "        else:\n",
        "            for i in range(val):\n",
        "                answer.pop()\n",
        "    return answer\n",
        "\n",
        "arr = [3, 2, 4, 1, 3]\n",
        "flag = [True, False, True, False, False]\n",
        "solution(arr, flag)"
      ]
    },
    {
      "cell_type": "code",
      "source": [],
      "metadata": {
        "id": "myJcOx1arqoq"
      },
      "execution_count": null,
      "outputs": []
    }
  ]
}
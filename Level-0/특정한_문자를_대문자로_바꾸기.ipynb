{
  "nbformat": 4,
  "nbformat_minor": 0,
  "metadata": {
    "colab": {
      "provenance": []
    },
    "kernelspec": {
      "name": "python3",
      "display_name": "Python 3"
    },
    "language_info": {
      "name": "python"
    }
  },
  "cells": [
    {
      "cell_type": "code",
      "execution_count": 42,
      "metadata": {
        "colab": {
          "base_uri": "https://localhost:8080/",
          "height": 35
        },
        "id": "8CD9FAe4zYuw",
        "outputId": "79c2a2b0-9014-43e5-b90d-ede3d9ff25d9"
      },
      "outputs": [
        {
          "output_type": "execute_result",
          "data": {
            "text/plain": [
              "'Programmers'"
            ],
            "application/vnd.google.colaboratory.intrinsic+json": {
              "type": "string"
            }
          },
          "metadata": {},
          "execution_count": 42
        }
      ],
      "source": [
        "def solution(my_string, alp):\n",
        "    answer = my_string.replace(alp, alp.upper())\n",
        "    return answer\n",
        "\n",
        "my_string = \"programmers\"\n",
        "alp = \"p\"\n",
        "solution(my_string, alp)"
      ]
    },
    {
      "cell_type": "code",
      "source": [],
      "metadata": {
        "id": "SIz85oS9rg0b"
      },
      "execution_count": null,
      "outputs": []
    }
  ]
}
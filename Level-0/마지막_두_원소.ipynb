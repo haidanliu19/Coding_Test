{
  "nbformat": 4,
  "nbformat_minor": 0,
  "metadata": {
    "colab": {
      "provenance": []
    },
    "kernelspec": {
      "name": "python3",
      "display_name": "Python 3"
    },
    "language_info": {
      "name": "python"
    }
  },
  "cells": [
    {
      "cell_type": "code",
      "execution_count": 28,
      "metadata": {
        "colab": {
          "base_uri": "https://localhost:8080/"
        },
        "id": "8CD9FAe4zYuw",
        "outputId": "af1317e3-6802-4773-c744-4fdd2ee8b26a"
      },
      "outputs": [
        {
          "output_type": "execute_result",
          "data": {
            "text/plain": [
              "[2, 1, 6, 5]"
            ]
          },
          "metadata": {},
          "execution_count": 28
        }
      ],
      "source": [
        "def solution(num_list):\n",
        "    answer = num_list\n",
        "    num = num_list[-1] - num_list[-2]\n",
        "    if num <= 0:\n",
        "        num = num_list[-1] * 2\n",
        "    answer.append( num )\n",
        "    return answer\n",
        "\n",
        "num_list = [2, 1, 6]\n",
        "solution(num_list)"
      ]
    },
    {
      "cell_type": "code",
      "source": [],
      "metadata": {
        "id": "xI6F7-IOF_5p"
      },
      "execution_count": null,
      "outputs": []
    }
  ]
}
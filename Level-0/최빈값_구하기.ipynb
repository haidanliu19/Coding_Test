{
  "nbformat": 4,
  "nbformat_minor": 0,
  "metadata": {
    "colab": {
      "provenance": []
    },
    "kernelspec": {
      "name": "python3",
      "display_name": "Python 3"
    },
    "language_info": {
      "name": "python"
    }
  },
  "cells": [
    {
      "cell_type": "markdown",
      "source": [
        "출처 : 프로그래머스"
      ],
      "metadata": {
        "id": "dqWdCl1cQ9ML"
      }
    },
    {
      "cell_type": "code",
      "source": [
        "def solution(array):\n",
        "    answer = 0\n",
        "    result = []\n",
        "    array_ = list(set(array))\n",
        "    list_ = sorted([(i, array.count(i)) for i in array_], key = lambda x : -x[1])\n",
        "    max_ =  max([i[1] for i in list_])\n",
        "    for i in list_:\n",
        "        num1, num2 = i\n",
        "        if max_ == num2:\n",
        "            result.append(num1)\n",
        "    if len(result ) > 1:\n",
        "        answer = -1\n",
        "    else:\n",
        "        answer = result[0]\n",
        "    return answer\n",
        "\n",
        "array = [1, 2, 3, 3, 3, 4]\n",
        "solution(array)"
      ],
      "metadata": {
        "colab": {
          "base_uri": "https://localhost:8080/"
        },
        "id": "0IR1NBGtwk-M",
        "outputId": "d987ff51-0c1b-4516-b5cf-6606f14b3eb9"
      },
      "execution_count": 90,
      "outputs": [
        {
          "output_type": "execute_result",
          "data": {
            "text/plain": [
              "3"
            ]
          },
          "metadata": {},
          "execution_count": 90
        }
      ]
    }
  ]
}
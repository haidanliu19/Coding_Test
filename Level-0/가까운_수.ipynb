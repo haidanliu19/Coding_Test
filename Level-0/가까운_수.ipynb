{
  "nbformat": 4,
  "nbformat_minor": 0,
  "metadata": {
    "colab": {
      "provenance": [],
      "collapsed_sections": []
    },
    "kernelspec": {
      "name": "python3",
      "display_name": "Python 3"
    },
    "language_info": {
      "name": "python"
    }
  },
  "cells": [
    {
      "cell_type": "markdown",
      "source": [
        "출처 : 프로그래머스"
      ],
      "metadata": {
        "id": "dqWdCl1cQ9ML"
      }
    },
    {
      "cell_type": "code",
      "source": [
        "def solution(array, n):\n",
        "    array_1 = [(i, abs(array[i] - n), array[i]) for i in range(len(array))]\n",
        "    answer = sorted(array_1, key = lambda x: (x[1],x[2]))[0][2]\n",
        "    return answer\n",
        "\n",
        "\n",
        "array = [3, 10, 28]\n",
        "n = 20\n",
        "solution(array, n)"
      ],
      "metadata": {
        "colab": {
          "base_uri": "https://localhost:8080/"
        },
        "id": "eUQXEBxd0qnE",
        "outputId": "e9bfd3a4-d88a-43ee-d52c-8dd7cbcc803f"
      },
      "execution_count": 53,
      "outputs": [
        {
          "output_type": "execute_result",
          "data": {
            "text/plain": [
              "28"
            ]
          },
          "metadata": {},
          "execution_count": 53
        }
      ]
    }
  ]
}
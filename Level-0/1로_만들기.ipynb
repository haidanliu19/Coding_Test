{
  "nbformat": 4,
  "nbformat_minor": 0,
  "metadata": {
    "colab": {
      "provenance": []
    },
    "kernelspec": {
      "name": "python3",
      "display_name": "Python 3"
    },
    "language_info": {
      "name": "python"
    }
  },
  "cells": [
    {
      "cell_type": "code",
      "execution_count": 14,
      "metadata": {
        "colab": {
          "base_uri": "https://localhost:8080/"
        },
        "id": "8CD9FAe4zYuw",
        "outputId": "0d9799d7-d60e-4c2d-dbdb-3c7f80222b29"
      },
      "outputs": [
        {
          "output_type": "execute_result",
          "data": {
            "text/plain": [
              "11"
            ]
          },
          "metadata": {},
          "execution_count": 14
        }
      ],
      "source": [
        "def sol(i):\n",
        "    if i % 2 != 0:\n",
        "        i -= 1\n",
        "    i /= 2\n",
        "    return i\n",
        "\n",
        "def solution(num_list):\n",
        "    answer = 0\n",
        "    for i in num_list:\n",
        "        while i > 1:\n",
        "            answer += 1\n",
        "            i = sol(i)\n",
        "\n",
        "    return answer\n",
        "\n",
        "num_list = [12, 4, 15, 1, 14]\n",
        "solution(num_list)"
      ]
    },
    {
      "cell_type": "code",
      "source": [],
      "metadata": {
        "id": "SIz85oS9rg0b"
      },
      "execution_count": null,
      "outputs": []
    }
  ]
}
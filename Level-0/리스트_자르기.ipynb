{
  "nbformat": 4,
  "nbformat_minor": 0,
  "metadata": {
    "colab": {
      "provenance": []
    },
    "kernelspec": {
      "name": "python3",
      "display_name": "Python 3"
    },
    "language_info": {
      "name": "python"
    }
  },
  "cells": [
    {
      "cell_type": "code",
      "execution_count": 22,
      "metadata": {
        "colab": {
          "base_uri": "https://localhost:8080/"
        },
        "id": "8CD9FAe4zYuw",
        "outputId": "56a42e4f-70bc-49b6-9e3b-6a9dacd8fdee"
      },
      "outputs": [
        {
          "output_type": "execute_result",
          "data": {
            "text/plain": [
              "[2, 4, 6]"
            ]
          },
          "metadata": {},
          "execution_count": 22
        }
      ],
      "source": [
        "def solution(n, slicer, num_list):\n",
        "    answer = []\n",
        "    if n == 1:\n",
        "        answer = num_list[0: slicer[1] + 1]\n",
        "    elif n == 2:\n",
        "        answer = num_list[slicer[0]: ]\n",
        "    elif n == 3:\n",
        "        answer = num_list[slicer[0]: slicer[1] + 1]\n",
        "    elif n == 4:\n",
        "        answer = num_list[slicer[0]: slicer[1] + 1: slicer[2]]\n",
        "    return answer\n",
        "\n",
        "n = 4\n",
        "slicer = [1, 5, 2]\n",
        "num_list = [1, 2, 3, 4, 5, 6, 7, 8, 9]\n",
        "solution(n, slicer, num_list)"
      ]
    },
    {
      "cell_type": "code",
      "source": [],
      "metadata": {
        "id": "Po7j6_uABR30"
      },
      "execution_count": null,
      "outputs": []
    }
  ]
}
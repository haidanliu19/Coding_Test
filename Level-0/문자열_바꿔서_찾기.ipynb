{
  "nbformat": 4,
  "nbformat_minor": 0,
  "metadata": {
    "colab": {
      "provenance": []
    },
    "kernelspec": {
      "name": "python3",
      "display_name": "Python 3"
    },
    "language_info": {
      "name": "python"
    }
  },
  "cells": [
    {
      "cell_type": "code",
      "execution_count": 5,
      "metadata": {
        "colab": {
          "base_uri": "https://localhost:8080/"
        },
        "id": "8CD9FAe4zYuw",
        "outputId": "171b2eff-a451-46ea-f120-a19bd8bcca78"
      },
      "outputs": [
        {
          "output_type": "execute_result",
          "data": {
            "text/plain": [
              "1"
            ]
          },
          "metadata": {},
          "execution_count": 5
        }
      ],
      "source": [
        "def solution(myString, pat):\n",
        "    myString_1 = \"\".join(['B' if i == 'A' else 'A' for i in myString])\n",
        "    answer =1 if pat in myString_1 else 0\n",
        "    return answer\n",
        "\n",
        "myString = \"ABBAA\"\n",
        "pat = \"AABB\"\n",
        "solution(myString, pat)"
      ]
    },
    {
      "cell_type": "code",
      "source": [
        "def solution(myString, pat):\n",
        "    myString_1 = \"\".join(['B' if i == 'A' else 'A' for i in myString])\n",
        "    answer =int(pat in myString_1)\n",
        "    return answer\n",
        "\n",
        "myString = \"ABBAA\"\n",
        "pat = \"AABB\"\n",
        "solution(myString, pat)"
      ],
      "metadata": {
        "id": "myJcOx1arqoq",
        "colab": {
          "base_uri": "https://localhost:8080/"
        },
        "outputId": "cb495e04-3fbe-4576-8214-66544553b7c3"
      },
      "execution_count": 6,
      "outputs": [
        {
          "output_type": "execute_result",
          "data": {
            "text/plain": [
              "1"
            ]
          },
          "metadata": {},
          "execution_count": 6
        }
      ]
    }
  ]
}
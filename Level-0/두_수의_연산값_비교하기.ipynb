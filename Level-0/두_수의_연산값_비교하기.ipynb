{
  "nbformat": 4,
  "nbformat_minor": 0,
  "metadata": {
    "colab": {
      "provenance": []
    },
    "kernelspec": {
      "name": "python3",
      "display_name": "Python 3"
    },
    "language_info": {
      "name": "python"
    }
  },
  "cells": [
    {
      "cell_type": "code",
      "execution_count": 48,
      "metadata": {
        "colab": {
          "base_uri": "https://localhost:8080/"
        },
        "id": "8CD9FAe4zYuw",
        "outputId": "72fd74e6-9e2a-43c2-eacc-b57adc12c1f1"
      },
      "outputs": [
        {
          "output_type": "execute_result",
          "data": {
            "text/plain": [
              "364"
            ]
          },
          "metadata": {},
          "execution_count": 48
        }
      ],
      "source": [
        "def solution(a, b):\n",
        "    answer = max(int(str(a) + str(b)) , 2 * a * b)\n",
        "    return answer\n",
        "\n",
        "a = 2\n",
        "b = 91\n",
        "solution(a, b)"
      ]
    },
    {
      "cell_type": "code",
      "source": [],
      "metadata": {
        "id": "bcYWktWNu-pN"
      },
      "execution_count": null,
      "outputs": []
    }
  ]
}
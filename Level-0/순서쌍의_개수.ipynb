{
  "nbformat": 4,
  "nbformat_minor": 0,
  "metadata": {
    "colab": {
      "provenance": []
    },
    "kernelspec": {
      "name": "python3",
      "display_name": "Python 3"
    },
    "language_info": {
      "name": "python"
    }
  },
  "cells": [
    {
      "cell_type": "markdown",
      "source": [
        "출처 : 프로그래머스"
      ],
      "metadata": {
        "id": "dqWdCl1cQ9ML"
      }
    },
    {
      "cell_type": "code",
      "source": [
        "def solution(n):\n",
        "    answer = []\n",
        "    for i in range(1, n + 1):\n",
        "        if (n % i == 0):\n",
        "            answer.append(i)\n",
        "    return len(answer)\n",
        "\n",
        "n = 20\n",
        "solution(n)"
      ],
      "metadata": {
        "colab": {
          "base_uri": "https://localhost:8080/"
        },
        "id": "0IR1NBGtwk-M",
        "outputId": "cae22918-05e9-4ab4-eb24-53cef9b41059"
      },
      "execution_count": 90,
      "outputs": [
        {
          "output_type": "execute_result",
          "data": {
            "text/plain": [
              "6"
            ]
          },
          "metadata": {},
          "execution_count": 90
        }
      ]
    },
    {
      "cell_type": "code",
      "source": [],
      "metadata": {
        "id": "6YbGp6T1VDag"
      },
      "execution_count": null,
      "outputs": []
    },
    {
      "cell_type": "code",
      "source": [
        "\"\""
      ],
      "metadata": {
        "id": "Jlp3yq2CRfiP"
      },
      "execution_count": null,
      "outputs": []
    }
  ]
}
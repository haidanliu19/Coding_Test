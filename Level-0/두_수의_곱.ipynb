{
  "nbformat": 4,
  "nbformat_minor": 0,
  "metadata": {
    "colab": {
      "provenance": [],
      "collapsed_sections": []
    },
    "kernelspec": {
      "name": "python3",
      "display_name": "Python 3"
    },
    "language_info": {
      "name": "python"
    }
  },
  "cells": [
    {
      "cell_type": "markdown",
      "source": [
        "출처 : 프로그래머스"
      ],
      "metadata": {
        "id": "-k6OzxQCgkV0"
      }
    },
    {
      "cell_type": "code",
      "execution_count": 4,
      "metadata": {
        "colab": {
          "base_uri": "https://localhost:8080/"
        },
        "id": "WHgYdsevgWmc",
        "outputId": "321351f8-d639-4d22-ca0f-709fa0fe6306"
      },
      "outputs": [
        {
          "output_type": "execute_result",
          "data": {
            "text/plain": [
              "12"
            ]
          },
          "metadata": {},
          "execution_count": 4
        }
      ],
      "source": [
        "def solution(num1, num2):\n",
        "    answer = num1 * num2\n",
        "    return answer\n",
        "\n",
        "num1 = 3\n",
        "num2 = 4\n",
        "solution(num1, num2)"
      ]
    }
  ]
}
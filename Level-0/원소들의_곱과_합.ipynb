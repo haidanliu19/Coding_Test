{
  "nbformat": 4,
  "nbformat_minor": 0,
  "metadata": {
    "colab": {
      "provenance": []
    },
    "kernelspec": {
      "name": "python3",
      "display_name": "Python 3"
    },
    "language_info": {
      "name": "python"
    }
  },
  "cells": [
    {
      "cell_type": "code",
      "execution_count": 7,
      "metadata": {
        "colab": {
          "base_uri": "https://localhost:8080/"
        },
        "id": "8CD9FAe4zYuw",
        "outputId": "fdf6606e-354a-4f1d-aabf-64a1c2db40c9"
      },
      "outputs": [
        {
          "output_type": "execute_result",
          "data": {
            "text/plain": [
              "1"
            ]
          },
          "metadata": {},
          "execution_count": 7
        }
      ],
      "source": [
        "def solution(num_list):\n",
        "    answer = 0\n",
        "    sum_squ = sum(num_list) **2\n",
        "    pro_ = 1\n",
        "    for i in num_list:\n",
        "        pro_ *= i\n",
        "    answer = 1 if pro_ < sum_squ else 0\n",
        "    return answer\n",
        "\n",
        "num_list = [3, 4, 5, 2, 1]\n",
        "solution(num_list)"
      ]
    },
    {
      "cell_type": "code",
      "source": [],
      "metadata": {
        "id": "xI6F7-IOF_5p"
      },
      "execution_count": null,
      "outputs": []
    }
  ]
}
{
  "nbformat": 4,
  "nbformat_minor": 0,
  "metadata": {
    "colab": {
      "name": "피로도.ipynb",
      "provenance": [],
      "collapsed_sections": []
    },
    "kernelspec": {
      "name": "python3",
      "display_name": "Python 3"
    },
    "language_info": {
      "name": "python"
    }
  },
  "cells": [
    {
      "cell_type": "markdown",
      "source": [
        "출처 : 프로그래머스"
      ],
      "metadata": {
        "id": "G5K5B09BpG1-"
      }
    },
    {
      "cell_type": "code",
      "source": [
        "\n",
        "answer = 0\n",
        "def enter_dungen(dungeons, k, idx, visited):\n",
        "    global answer\n",
        "    k -= dungeons[idx][1] # 소모 피로도를 줄인다. \n",
        "    answer = max(answer, sum(visited))\n",
        "    \n",
        "    for idx_2, val_2 in enumerate(dungeons):\n",
        "        #print(idx, idx_2, val_2)\n",
        "        if not visited[idx_2] and  k >= val_2[0]:  # 방문하지 않고 소모도가 클 경우 \n",
        "            visited[idx_2] = 1\n",
        "            enter_dungen(dungeons, k, idx_2, visited)\n",
        "            visited[idx_2] = 0\n",
        "    return answer\n",
        "    \n",
        "def solution(k, dungeons):\n",
        "    for idx, val in enumerate(dungeons):\n",
        "        visited = [0] * len(dungeons) # 합을 계산하기 쉽게 하였다 \n",
        "        if k >= val[0]:# 처음이여서 소모도가 클 경우 \n",
        "            visited[idx] = 1\n",
        "            enter_dungen(dungeons, k, idx, visited)\n",
        "            visited[idx] = 0\n",
        "    return answer\n",
        "\n",
        "\n",
        "k = 80\n",
        "dungeons = [[80,20],[50,40],[30,10]]\n",
        "solution(k, dungeons)"
      ],
      "metadata": {
        "colab": {
          "base_uri": "https://localhost:8080/"
        },
        "id": "l4UTTftTzuZX",
        "outputId": "75c8974c-3c60-4bdf-8e66-1c328f3c27b7"
      },
      "execution_count": 34,
      "outputs": [
        {
          "output_type": "execute_result",
          "data": {
            "text/plain": [
              "3"
            ]
          },
          "metadata": {},
          "execution_count": 34
        }
      ]
    }
  ]
}
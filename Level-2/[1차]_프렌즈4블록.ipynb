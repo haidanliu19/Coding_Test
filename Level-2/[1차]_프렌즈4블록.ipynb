{
  "nbformat": 4,
  "nbformat_minor": 0,
  "metadata": {
    "colab": {
      "provenance": [],
      "collapsed_sections": []
    },
    "kernelspec": {
      "name": "python3",
      "display_name": "Python 3"
    },
    "language_info": {
      "name": "python"
    }
  },
  "cells": [
    {
      "cell_type": "markdown",
      "source": [
        "출처 : 프로그래머스"
      ],
      "metadata": {
        "id": "j744pVgY2X6H"
      }
    },
    {
      "cell_type": "code",
      "source": [
        "def solution(m, n, board):\n",
        "    answer = 0\n",
        "    board = [[j for j in i ] for i in board ]\n",
        "    while True:\n",
        "        list_= []\n",
        "        # 4개 있는 점 찾기 \n",
        "        for i in range(m-1):\n",
        "            for j in range(n-1):\n",
        "                if board[i][j] != ' ' and (board[i][j] == board[i+1][j] == board[i+1][j+1] == board[i+1][j+1]== board[i][j + 1]):\n",
        "                    list_.append((i+1,j+1))\n",
        "                    list_.append((i+1,j))\n",
        "                    list_.append((i,j+1))\n",
        "                    list_.append((i,j))        \n",
        "\n",
        "        # 4개 있는 곳 지워주기 \n",
        "        answer += len(set(list_))\n",
        "        if len(list_) == 0:\n",
        "            return answer\n",
        "        for i,j in list_:\n",
        "            board[i][j] = ' '\n",
        "        \n",
        "        # 보드를 아래 루 내리기\n",
        "        while True:\n",
        "            moved = False\n",
        "            for i in range(1, m):\n",
        "                for j in range(n):\n",
        "                    if board[i-1][j] != ' '  and board[i][j] == ' ':\n",
        "                        board[i][j] = board[i-1][j]\n",
        "                        board[i-1][j] = ' '\n",
        "                        moved = True\n",
        "            if not moved:\n",
        "                break\n",
        "    return answer\n",
        "\n",
        "m = 4\n",
        "n = 5\n",
        "board = [\"CCBDE\", \"AAADE\", \"AAABF\", \"CCBBF\"]\n",
        "solution(m, n, board)"
      ],
      "metadata": {
        "colab": {
          "base_uri": "https://localhost:8080/"
        },
        "id": "A4W6RCjUyyDA",
        "outputId": "53bf32ea-27a4-4b8e-cf15-26888b94f515"
      },
      "execution_count": 107,
      "outputs": [
        {
          "output_type": "execute_result",
          "data": {
            "text/plain": [
              "14"
            ]
          },
          "metadata": {},
          "execution_count": 107
        }
      ]
    },
    {
      "cell_type": "code",
      "execution_count": 76,
      "metadata": {
        "colab": {
          "base_uri": "https://localhost:8080/"
        },
        "id": "ZP0Bk7_woy-p",
        "outputId": "817d085f-d261-4ada-c768-df04b07608f4"
      },
      "outputs": [
        {
          "output_type": "execute_result",
          "data": {
            "text/plain": [
              "14"
            ]
          },
          "metadata": {},
          "execution_count": 76
        }
      ],
      "source": [
        "def solution(m, n, board):\n",
        "    answer = 0\n",
        "    board = [[j for j in i ] for i in board ]\n",
        "    while True:\n",
        "        list_= []\n",
        "        # 4개 있는 점 찾기 \n",
        "        for i in range(len(board)-1):\n",
        "            for j in range(len(board[i])-1):\n",
        "                if board[i][j] != ' ' and (board[i][j] == board[i+1][j] == board[i+1][j+1] == board[i+1][j+1]== board[i][j + 1]):\n",
        "                    list_.append((i+1,j+1))\n",
        "                    list_.append((i+1,j))\n",
        "                    list_.append((i,j+1))\n",
        "                    list_.append((i,j))        \n",
        "\n",
        "        # 4개 있는 곳 지워주기 \n",
        "        answer += len(set(list_))\n",
        "        if len(list_) == 0:\n",
        "            return answer\n",
        "        for i,j in list_:\n",
        "            board[i][j] = ' '\n",
        "        \n",
        "        # 보드를 아래 루 내리기\n",
        "        for i in range(1, len(board)):\n",
        "            for j in range(len(board[i])):\n",
        "                if board[i][j] == ' ':\n",
        "                    board[i][j] = board[i-1][j]\n",
        "                    board[i-1][j] = ' '\n",
        "    \n",
        "    return answer\n",
        "\n",
        "m = 4\n",
        "n = 5\n",
        "board = [\"CCBDE\", \"AAADE\", \"AAABF\", \"CCBBF\"]\n",
        "solution(m, n, board)"
      ]
    },
    {
      "cell_type": "code",
      "source": [
        "\n",
        "def solution(m, n, board):\n",
        "    answer = 0\n",
        "    board = [[j for j in i ] for i in board ]\n",
        "    list_= []\n",
        "    # 4개 있는 점 찾기 \n",
        "    for i in range(len(board)-1):\n",
        "        for j in range(len(board[i])-1):\n",
        "            if board[i][j] == board[i+1][j] == board[i+1][j+1] == board[i+1][j+1]== board[i][j + 1]:\n",
        "                list_.append((i+1,j+1))\n",
        "                list_.append((i+1,j))\n",
        "                list_.append((i,j+1))\n",
        "                list_.append((i,j))        \n",
        "\n",
        "    # 4개 있는 곳 지워주기 \n",
        "    print(len(set(list_)))\n",
        "    answer += len(set(list_))\n",
        "    for i,j in list_:\n",
        "        board[i][j] = []\n",
        "    print(board)\n",
        "        \n",
        "    # 보드를 아래 루 내리기\n",
        "    for i in range(1, len(board)):\n",
        "        for j in range(len(board[i])):\n",
        "            if board[i][j] == []:\n",
        "                board[i][j] = board[i-1][j]\n",
        "                board[i-1][j] = []\n",
        "    print(board)\n",
        "    return answer\n",
        "\n",
        "m = 4\n",
        "n = 5\n",
        "board = [\"CCBDE\", \"AAADE\", \"AAABF\", \"CCBBF\"]\n",
        "solution(m, n, board)"
      ],
      "metadata": {
        "colab": {
          "base_uri": "https://localhost:8080/"
        },
        "id": "OBDcLgBDsH9O",
        "outputId": "db96d62e-e2a2-4594-9bf4-a648687f3992"
      },
      "execution_count": 79,
      "outputs": [
        {
          "output_type": "stream",
          "name": "stdout",
          "text": [
            "6\n",
            "[['C', 'C', 'B', 'D', 'E'], [[], [], [], 'D', 'E'], [[], [], [], 'B', 'F'], ['C', 'C', 'B', 'B', 'F']]\n",
            "[[[], [], [], 'D', 'E'], [[], [], [], 'D', 'E'], ['C', 'C', 'B', 'B', 'F'], ['C', 'C', 'B', 'B', 'F']]\n"
          ]
        },
        {
          "output_type": "execute_result",
          "data": {
            "text/plain": [
              "6"
            ]
          },
          "metadata": {},
          "execution_count": 79
        }
      ]
    },
    {
      "cell_type": "code",
      "source": [],
      "metadata": {
        "id": "PJAOccX6xXlg"
      },
      "execution_count": 67,
      "outputs": []
    }
  ]
}